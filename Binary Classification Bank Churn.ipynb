{
 "cells": [
  {
   "cell_type": "markdown",
   "metadata": {},
   "source": [
    "# Data import and Install libraries"
   ]
  },
  {
   "cell_type": "code",
   "execution_count": 1,
   "metadata": {
    "ExecuteTime": {
     "end_time": "2024-01-31T10:01:36.454917Z",
     "start_time": "2024-01-31T10:01:36.401915Z"
    }
   },
   "outputs": [
    {
     "name": "stdout",
     "output_type": "stream",
     "text": [
      "Python version: 3.7.3 (default, Mar 27 2019, 17:13:21) [MSC v.1915 64 bit (AMD64)]\n",
      "Jupyter notebook version: 5.7.8\n"
     ]
    }
   ],
   "source": [
    "import sys\n",
    "import notebook\n",
    "\n",
    "print(\"Python version: \" + sys.version)\n",
    "print(\"Jupyter notebook version: \" + notebook.__version__)"
   ]
  },
  {
   "cell_type": "code",
   "execution_count": 2,
   "metadata": {
    "ExecuteTime": {
     "end_time": "2024-01-31T10:01:36.469920Z",
     "start_time": "2024-01-31T10:01:36.460917Z"
    }
   },
   "outputs": [],
   "source": [
    "# !pip install hyperopt"
   ]
  },
  {
   "cell_type": "code",
   "execution_count": 103,
   "metadata": {
    "ExecuteTime": {
     "end_time": "2024-01-31T10:42:45.347276Z",
     "start_time": "2024-01-31T10:42:45.299277Z"
    }
   },
   "outputs": [],
   "source": [
    "import re\n",
    "import math\n",
    "import random\n",
    "from datetime import timedelta\n",
    "# import random\n",
    "import pandas as pd\n",
    "import numpy as np\n",
    "import matplotlib.pyplot as plt\n",
    "import seaborn as sns\n",
    "import missingno as msno\n",
    "%matplotlib inline\n",
    "\n",
    "import tensorflow as tf\n",
    "from sklearn.model_selection import train_test_split\n",
    "from sklearn.preprocessing import LabelEncoder\n",
    "from sklearn.preprocessing import OneHotEncoder\n",
    "from imblearn.over_sampling import ADASYN\n",
    "\n",
    "from sklearn.model_selection import train_test_split\n",
    "from xgboost import XGBClassifier\n",
    "from catboost import CatBoostClassifier\n",
    "\n",
    "from deap import base, creator, tools, algorithms\n",
    "from sklearn.model_selection import GridSearchCV\n",
    "from skopt import BayesSearchCV\n",
    "from skopt.space import Real, Integer, Categorical\n",
    "from sklearn.neural_network import MLPClassifier\n",
    "from tensorflow.keras.models import Sequential\n",
    "from tensorflow.keras.layers import Dense, Dropout\n",
    "\n",
    "from sklearn.metrics import accuracy_score, precision_score, recall_score, f1_score\n",
    "from sklearn.metrics import accuracy_score, classification_report, confusion_matrix\n",
    "from sklearn.metrics import roc_auc_score, roc_curve, auc\n",
    "\n",
    "# setting to see all the columns\n",
    "pd.set_option('display.max_columns', None)"
   ]
  },
  {
   "cell_type": "code",
   "execution_count": 192,
   "metadata": {
    "ExecuteTime": {
     "end_time": "2024-01-31T12:38:42.140225Z",
     "start_time": "2024-01-31T12:38:41.415080Z"
    }
   },
   "outputs": [],
   "source": [
    "# read the file\n",
    "df_train = pd.read_csv('train.csv')\n",
    "df_test = pd.read_csv('test.csv')"
   ]
  },
  {
   "cell_type": "code",
   "execution_count": 5,
   "metadata": {
    "ExecuteTime": {
     "end_time": "2024-01-31T10:01:51.446387Z",
     "start_time": "2024-01-31T10:01:51.434382Z"
    }
   },
   "outputs": [
    {
     "name": "stdout",
     "output_type": "stream",
     "text": [
      "Shape of the train dataset is (165034, 14).Contains 165034 rows and 14 columns \n",
      "Shape of the test dataset is (110023, 13).Contains 110023 rows and 13 columns \n"
     ]
    }
   ],
   "source": [
    "print ('Shape of the train dataset is {}.Contains {} rows and {} columns '.format(df_train.shape,df_train.shape[0],df_train.shape[1]))\n",
    "print ('Shape of the test dataset is {}.Contains {} rows and {} columns '.format(df_test.shape,df_test.shape[0],df_test.shape[1]))"
   ]
  },
  {
   "cell_type": "code",
   "execution_count": 6,
   "metadata": {
    "ExecuteTime": {
     "end_time": "2024-01-31T10:01:51.510388Z",
     "start_time": "2024-01-31T10:01:51.450376Z"
    },
    "scrolled": true
   },
   "outputs": [
    {
     "data": {
      "text/html": [
       "<div>\n",
       "<style scoped>\n",
       "    .dataframe tbody tr th:only-of-type {\n",
       "        vertical-align: middle;\n",
       "    }\n",
       "\n",
       "    .dataframe tbody tr th {\n",
       "        vertical-align: top;\n",
       "    }\n",
       "\n",
       "    .dataframe thead th {\n",
       "        text-align: right;\n",
       "    }\n",
       "</style>\n",
       "<table border=\"1\" class=\"dataframe\">\n",
       "  <thead>\n",
       "    <tr style=\"text-align: right;\">\n",
       "      <th></th>\n",
       "      <th>id</th>\n",
       "      <th>CustomerId</th>\n",
       "      <th>Surname</th>\n",
       "      <th>CreditScore</th>\n",
       "      <th>Geography</th>\n",
       "      <th>Gender</th>\n",
       "      <th>Age</th>\n",
       "      <th>Tenure</th>\n",
       "      <th>Balance</th>\n",
       "      <th>NumOfProducts</th>\n",
       "      <th>HasCrCard</th>\n",
       "      <th>IsActiveMember</th>\n",
       "      <th>EstimatedSalary</th>\n",
       "      <th>Exited</th>\n",
       "    </tr>\n",
       "  </thead>\n",
       "  <tbody>\n",
       "    <tr>\n",
       "      <th>0</th>\n",
       "      <td>0</td>\n",
       "      <td>15674932</td>\n",
       "      <td>Okwudilichukwu</td>\n",
       "      <td>668</td>\n",
       "      <td>France</td>\n",
       "      <td>Male</td>\n",
       "      <td>33.0</td>\n",
       "      <td>3</td>\n",
       "      <td>0.00</td>\n",
       "      <td>2</td>\n",
       "      <td>1.0</td>\n",
       "      <td>0.0</td>\n",
       "      <td>181449.97</td>\n",
       "      <td>0</td>\n",
       "    </tr>\n",
       "    <tr>\n",
       "      <th>1</th>\n",
       "      <td>1</td>\n",
       "      <td>15749177</td>\n",
       "      <td>Okwudiliolisa</td>\n",
       "      <td>627</td>\n",
       "      <td>France</td>\n",
       "      <td>Male</td>\n",
       "      <td>33.0</td>\n",
       "      <td>1</td>\n",
       "      <td>0.00</td>\n",
       "      <td>2</td>\n",
       "      <td>1.0</td>\n",
       "      <td>1.0</td>\n",
       "      <td>49503.50</td>\n",
       "      <td>0</td>\n",
       "    </tr>\n",
       "    <tr>\n",
       "      <th>2</th>\n",
       "      <td>2</td>\n",
       "      <td>15694510</td>\n",
       "      <td>Hsueh</td>\n",
       "      <td>678</td>\n",
       "      <td>France</td>\n",
       "      <td>Male</td>\n",
       "      <td>40.0</td>\n",
       "      <td>10</td>\n",
       "      <td>0.00</td>\n",
       "      <td>2</td>\n",
       "      <td>1.0</td>\n",
       "      <td>0.0</td>\n",
       "      <td>184866.69</td>\n",
       "      <td>0</td>\n",
       "    </tr>\n",
       "    <tr>\n",
       "      <th>3</th>\n",
       "      <td>3</td>\n",
       "      <td>15741417</td>\n",
       "      <td>Kao</td>\n",
       "      <td>581</td>\n",
       "      <td>France</td>\n",
       "      <td>Male</td>\n",
       "      <td>34.0</td>\n",
       "      <td>2</td>\n",
       "      <td>148882.54</td>\n",
       "      <td>1</td>\n",
       "      <td>1.0</td>\n",
       "      <td>1.0</td>\n",
       "      <td>84560.88</td>\n",
       "      <td>0</td>\n",
       "    </tr>\n",
       "    <tr>\n",
       "      <th>4</th>\n",
       "      <td>4</td>\n",
       "      <td>15766172</td>\n",
       "      <td>Chiemenam</td>\n",
       "      <td>716</td>\n",
       "      <td>Spain</td>\n",
       "      <td>Male</td>\n",
       "      <td>33.0</td>\n",
       "      <td>5</td>\n",
       "      <td>0.00</td>\n",
       "      <td>2</td>\n",
       "      <td>1.0</td>\n",
       "      <td>1.0</td>\n",
       "      <td>15068.83</td>\n",
       "      <td>0</td>\n",
       "    </tr>\n",
       "    <tr>\n",
       "      <th>...</th>\n",
       "      <td>...</td>\n",
       "      <td>...</td>\n",
       "      <td>...</td>\n",
       "      <td>...</td>\n",
       "      <td>...</td>\n",
       "      <td>...</td>\n",
       "      <td>...</td>\n",
       "      <td>...</td>\n",
       "      <td>...</td>\n",
       "      <td>...</td>\n",
       "      <td>...</td>\n",
       "      <td>...</td>\n",
       "      <td>...</td>\n",
       "      <td>...</td>\n",
       "    </tr>\n",
       "    <tr>\n",
       "      <th>165029</th>\n",
       "      <td>165029</td>\n",
       "      <td>15667085</td>\n",
       "      <td>Meng</td>\n",
       "      <td>667</td>\n",
       "      <td>Spain</td>\n",
       "      <td>Female</td>\n",
       "      <td>33.0</td>\n",
       "      <td>2</td>\n",
       "      <td>0.00</td>\n",
       "      <td>1</td>\n",
       "      <td>1.0</td>\n",
       "      <td>1.0</td>\n",
       "      <td>131834.75</td>\n",
       "      <td>0</td>\n",
       "    </tr>\n",
       "    <tr>\n",
       "      <th>165030</th>\n",
       "      <td>165030</td>\n",
       "      <td>15665521</td>\n",
       "      <td>Okechukwu</td>\n",
       "      <td>792</td>\n",
       "      <td>France</td>\n",
       "      <td>Male</td>\n",
       "      <td>35.0</td>\n",
       "      <td>3</td>\n",
       "      <td>0.00</td>\n",
       "      <td>1</td>\n",
       "      <td>0.0</td>\n",
       "      <td>0.0</td>\n",
       "      <td>131834.45</td>\n",
       "      <td>0</td>\n",
       "    </tr>\n",
       "    <tr>\n",
       "      <th>165031</th>\n",
       "      <td>165031</td>\n",
       "      <td>15664752</td>\n",
       "      <td>Hsia</td>\n",
       "      <td>565</td>\n",
       "      <td>France</td>\n",
       "      <td>Male</td>\n",
       "      <td>31.0</td>\n",
       "      <td>5</td>\n",
       "      <td>0.00</td>\n",
       "      <td>1</td>\n",
       "      <td>1.0</td>\n",
       "      <td>1.0</td>\n",
       "      <td>127429.56</td>\n",
       "      <td>0</td>\n",
       "    </tr>\n",
       "    <tr>\n",
       "      <th>165032</th>\n",
       "      <td>165032</td>\n",
       "      <td>15689614</td>\n",
       "      <td>Hsiung</td>\n",
       "      <td>554</td>\n",
       "      <td>Spain</td>\n",
       "      <td>Female</td>\n",
       "      <td>30.0</td>\n",
       "      <td>7</td>\n",
       "      <td>161533.00</td>\n",
       "      <td>1</td>\n",
       "      <td>0.0</td>\n",
       "      <td>1.0</td>\n",
       "      <td>71173.03</td>\n",
       "      <td>0</td>\n",
       "    </tr>\n",
       "    <tr>\n",
       "      <th>165033</th>\n",
       "      <td>165033</td>\n",
       "      <td>15732798</td>\n",
       "      <td>Ulyanov</td>\n",
       "      <td>850</td>\n",
       "      <td>France</td>\n",
       "      <td>Male</td>\n",
       "      <td>31.0</td>\n",
       "      <td>1</td>\n",
       "      <td>0.00</td>\n",
       "      <td>1</td>\n",
       "      <td>1.0</td>\n",
       "      <td>0.0</td>\n",
       "      <td>61581.79</td>\n",
       "      <td>1</td>\n",
       "    </tr>\n",
       "  </tbody>\n",
       "</table>\n",
       "<p>165034 rows × 14 columns</p>\n",
       "</div>"
      ],
      "text/plain": [
       "            id  CustomerId         Surname  CreditScore Geography  Gender  \\\n",
       "0            0    15674932  Okwudilichukwu          668    France    Male   \n",
       "1            1    15749177   Okwudiliolisa          627    France    Male   \n",
       "2            2    15694510           Hsueh          678    France    Male   \n",
       "3            3    15741417             Kao          581    France    Male   \n",
       "4            4    15766172       Chiemenam          716     Spain    Male   \n",
       "...        ...         ...             ...          ...       ...     ...   \n",
       "165029  165029    15667085            Meng          667     Spain  Female   \n",
       "165030  165030    15665521       Okechukwu          792    France    Male   \n",
       "165031  165031    15664752            Hsia          565    France    Male   \n",
       "165032  165032    15689614          Hsiung          554     Spain  Female   \n",
       "165033  165033    15732798         Ulyanov          850    France    Male   \n",
       "\n",
       "         Age  Tenure    Balance  NumOfProducts  HasCrCard  IsActiveMember  \\\n",
       "0       33.0       3       0.00              2        1.0             0.0   \n",
       "1       33.0       1       0.00              2        1.0             1.0   \n",
       "2       40.0      10       0.00              2        1.0             0.0   \n",
       "3       34.0       2  148882.54              1        1.0             1.0   \n",
       "4       33.0       5       0.00              2        1.0             1.0   \n",
       "...      ...     ...        ...            ...        ...             ...   \n",
       "165029  33.0       2       0.00              1        1.0             1.0   \n",
       "165030  35.0       3       0.00              1        0.0             0.0   \n",
       "165031  31.0       5       0.00              1        1.0             1.0   \n",
       "165032  30.0       7  161533.00              1        0.0             1.0   \n",
       "165033  31.0       1       0.00              1        1.0             0.0   \n",
       "\n",
       "        EstimatedSalary  Exited  \n",
       "0             181449.97       0  \n",
       "1              49503.50       0  \n",
       "2             184866.69       0  \n",
       "3              84560.88       0  \n",
       "4              15068.83       0  \n",
       "...                 ...     ...  \n",
       "165029        131834.75       0  \n",
       "165030        131834.45       0  \n",
       "165031        127429.56       0  \n",
       "165032         71173.03       0  \n",
       "165033         61581.79       1  \n",
       "\n",
       "[165034 rows x 14 columns]"
      ]
     },
     "execution_count": 6,
     "metadata": {},
     "output_type": "execute_result"
    }
   ],
   "source": [
    "df_train"
   ]
  },
  {
   "cell_type": "markdown",
   "metadata": {},
   "source": [
    "# EDA"
   ]
  },
  {
   "cell_type": "code",
   "execution_count": 7,
   "metadata": {
    "ExecuteTime": {
     "end_time": "2024-01-31T10:01:51.780419Z",
     "start_time": "2024-01-31T10:01:51.515382Z"
    }
   },
   "outputs": [
    {
     "data": {
      "text/html": [
       "<div>\n",
       "<style scoped>\n",
       "    .dataframe tbody tr th:only-of-type {\n",
       "        vertical-align: middle;\n",
       "    }\n",
       "\n",
       "    .dataframe tbody tr th {\n",
       "        vertical-align: top;\n",
       "    }\n",
       "\n",
       "    .dataframe thead th {\n",
       "        text-align: right;\n",
       "    }\n",
       "</style>\n",
       "<table border=\"1\" class=\"dataframe\">\n",
       "  <thead>\n",
       "    <tr style=\"text-align: right;\">\n",
       "      <th></th>\n",
       "      <th>id</th>\n",
       "      <th>CustomerId</th>\n",
       "      <th>CreditScore</th>\n",
       "      <th>Age</th>\n",
       "      <th>Tenure</th>\n",
       "      <th>Balance</th>\n",
       "      <th>NumOfProducts</th>\n",
       "      <th>HasCrCard</th>\n",
       "      <th>IsActiveMember</th>\n",
       "      <th>EstimatedSalary</th>\n",
       "      <th>Exited</th>\n",
       "    </tr>\n",
       "  </thead>\n",
       "  <tbody>\n",
       "    <tr>\n",
       "      <th>count</th>\n",
       "      <td>165034.0000</td>\n",
       "      <td>1.650340e+05</td>\n",
       "      <td>165034.000000</td>\n",
       "      <td>165034.000000</td>\n",
       "      <td>165034.000000</td>\n",
       "      <td>165034.000000</td>\n",
       "      <td>165034.000000</td>\n",
       "      <td>165034.000000</td>\n",
       "      <td>165034.000000</td>\n",
       "      <td>165034.000000</td>\n",
       "      <td>165034.000000</td>\n",
       "    </tr>\n",
       "    <tr>\n",
       "      <th>mean</th>\n",
       "      <td>82516.5000</td>\n",
       "      <td>1.569201e+07</td>\n",
       "      <td>656.454373</td>\n",
       "      <td>38.125888</td>\n",
       "      <td>5.020353</td>\n",
       "      <td>55478.086689</td>\n",
       "      <td>1.554455</td>\n",
       "      <td>0.753954</td>\n",
       "      <td>0.497770</td>\n",
       "      <td>112574.822734</td>\n",
       "      <td>0.211599</td>\n",
       "    </tr>\n",
       "    <tr>\n",
       "      <th>std</th>\n",
       "      <td>47641.3565</td>\n",
       "      <td>7.139782e+04</td>\n",
       "      <td>80.103340</td>\n",
       "      <td>8.867205</td>\n",
       "      <td>2.806159</td>\n",
       "      <td>62817.663278</td>\n",
       "      <td>0.547154</td>\n",
       "      <td>0.430707</td>\n",
       "      <td>0.499997</td>\n",
       "      <td>50292.865585</td>\n",
       "      <td>0.408443</td>\n",
       "    </tr>\n",
       "    <tr>\n",
       "      <th>min</th>\n",
       "      <td>0.0000</td>\n",
       "      <td>1.556570e+07</td>\n",
       "      <td>350.000000</td>\n",
       "      <td>18.000000</td>\n",
       "      <td>0.000000</td>\n",
       "      <td>0.000000</td>\n",
       "      <td>1.000000</td>\n",
       "      <td>0.000000</td>\n",
       "      <td>0.000000</td>\n",
       "      <td>11.580000</td>\n",
       "      <td>0.000000</td>\n",
       "    </tr>\n",
       "    <tr>\n",
       "      <th>25%</th>\n",
       "      <td>41258.2500</td>\n",
       "      <td>1.563314e+07</td>\n",
       "      <td>597.000000</td>\n",
       "      <td>32.000000</td>\n",
       "      <td>3.000000</td>\n",
       "      <td>0.000000</td>\n",
       "      <td>1.000000</td>\n",
       "      <td>1.000000</td>\n",
       "      <td>0.000000</td>\n",
       "      <td>74637.570000</td>\n",
       "      <td>0.000000</td>\n",
       "    </tr>\n",
       "    <tr>\n",
       "      <th>50%</th>\n",
       "      <td>82516.5000</td>\n",
       "      <td>1.569017e+07</td>\n",
       "      <td>659.000000</td>\n",
       "      <td>37.000000</td>\n",
       "      <td>5.000000</td>\n",
       "      <td>0.000000</td>\n",
       "      <td>2.000000</td>\n",
       "      <td>1.000000</td>\n",
       "      <td>0.000000</td>\n",
       "      <td>117948.000000</td>\n",
       "      <td>0.000000</td>\n",
       "    </tr>\n",
       "    <tr>\n",
       "      <th>75%</th>\n",
       "      <td>123774.7500</td>\n",
       "      <td>1.575682e+07</td>\n",
       "      <td>710.000000</td>\n",
       "      <td>42.000000</td>\n",
       "      <td>7.000000</td>\n",
       "      <td>119939.517500</td>\n",
       "      <td>2.000000</td>\n",
       "      <td>1.000000</td>\n",
       "      <td>1.000000</td>\n",
       "      <td>155152.467500</td>\n",
       "      <td>0.000000</td>\n",
       "    </tr>\n",
       "    <tr>\n",
       "      <th>max</th>\n",
       "      <td>165033.0000</td>\n",
       "      <td>1.581569e+07</td>\n",
       "      <td>850.000000</td>\n",
       "      <td>92.000000</td>\n",
       "      <td>10.000000</td>\n",
       "      <td>250898.090000</td>\n",
       "      <td>4.000000</td>\n",
       "      <td>1.000000</td>\n",
       "      <td>1.000000</td>\n",
       "      <td>199992.480000</td>\n",
       "      <td>1.000000</td>\n",
       "    </tr>\n",
       "  </tbody>\n",
       "</table>\n",
       "</div>"
      ],
      "text/plain": [
       "                id    CustomerId    CreditScore            Age         Tenure  \\\n",
       "count  165034.0000  1.650340e+05  165034.000000  165034.000000  165034.000000   \n",
       "mean    82516.5000  1.569201e+07     656.454373      38.125888       5.020353   \n",
       "std     47641.3565  7.139782e+04      80.103340       8.867205       2.806159   \n",
       "min         0.0000  1.556570e+07     350.000000      18.000000       0.000000   \n",
       "25%     41258.2500  1.563314e+07     597.000000      32.000000       3.000000   \n",
       "50%     82516.5000  1.569017e+07     659.000000      37.000000       5.000000   \n",
       "75%    123774.7500  1.575682e+07     710.000000      42.000000       7.000000   \n",
       "max    165033.0000  1.581569e+07     850.000000      92.000000      10.000000   \n",
       "\n",
       "             Balance  NumOfProducts      HasCrCard  IsActiveMember  \\\n",
       "count  165034.000000  165034.000000  165034.000000   165034.000000   \n",
       "mean    55478.086689       1.554455       0.753954        0.497770   \n",
       "std     62817.663278       0.547154       0.430707        0.499997   \n",
       "min         0.000000       1.000000       0.000000        0.000000   \n",
       "25%         0.000000       1.000000       1.000000        0.000000   \n",
       "50%         0.000000       2.000000       1.000000        0.000000   \n",
       "75%    119939.517500       2.000000       1.000000        1.000000   \n",
       "max    250898.090000       4.000000       1.000000        1.000000   \n",
       "\n",
       "       EstimatedSalary         Exited  \n",
       "count    165034.000000  165034.000000  \n",
       "mean     112574.822734       0.211599  \n",
       "std       50292.865585       0.408443  \n",
       "min          11.580000       0.000000  \n",
       "25%       74637.570000       0.000000  \n",
       "50%      117948.000000       0.000000  \n",
       "75%      155152.467500       0.000000  \n",
       "max      199992.480000       1.000000  "
      ]
     },
     "execution_count": 7,
     "metadata": {},
     "output_type": "execute_result"
    }
   ],
   "source": [
    "df_train.describe()"
   ]
  },
  {
   "cell_type": "code",
   "execution_count": 8,
   "metadata": {
    "ExecuteTime": {
     "end_time": "2024-01-31T10:01:51.972375Z",
     "start_time": "2024-01-31T10:01:51.790375Z"
    }
   },
   "outputs": [
    {
     "data": {
      "text/html": [
       "<div>\n",
       "<style scoped>\n",
       "    .dataframe tbody tr th:only-of-type {\n",
       "        vertical-align: middle;\n",
       "    }\n",
       "\n",
       "    .dataframe tbody tr th {\n",
       "        vertical-align: top;\n",
       "    }\n",
       "\n",
       "    .dataframe thead th {\n",
       "        text-align: right;\n",
       "    }\n",
       "</style>\n",
       "<table border=\"1\" class=\"dataframe\">\n",
       "  <thead>\n",
       "    <tr style=\"text-align: right;\">\n",
       "      <th></th>\n",
       "      <th>id</th>\n",
       "      <th>CustomerId</th>\n",
       "      <th>CreditScore</th>\n",
       "      <th>Age</th>\n",
       "      <th>Tenure</th>\n",
       "      <th>Balance</th>\n",
       "      <th>NumOfProducts</th>\n",
       "      <th>HasCrCard</th>\n",
       "      <th>IsActiveMember</th>\n",
       "      <th>EstimatedSalary</th>\n",
       "    </tr>\n",
       "  </thead>\n",
       "  <tbody>\n",
       "    <tr>\n",
       "      <th>count</th>\n",
       "      <td>110023.000000</td>\n",
       "      <td>1.100230e+05</td>\n",
       "      <td>110023.000000</td>\n",
       "      <td>110023.000000</td>\n",
       "      <td>110023.000000</td>\n",
       "      <td>110023.000000</td>\n",
       "      <td>110023.000000</td>\n",
       "      <td>110023.000000</td>\n",
       "      <td>110023.000000</td>\n",
       "      <td>110023.000000</td>\n",
       "    </tr>\n",
       "    <tr>\n",
       "      <th>mean</th>\n",
       "      <td>220045.000000</td>\n",
       "      <td>1.569210e+07</td>\n",
       "      <td>656.530789</td>\n",
       "      <td>38.122205</td>\n",
       "      <td>4.996637</td>\n",
       "      <td>55333.611354</td>\n",
       "      <td>1.553321</td>\n",
       "      <td>0.753043</td>\n",
       "      <td>0.495233</td>\n",
       "      <td>112315.147765</td>\n",
       "    </tr>\n",
       "    <tr>\n",
       "      <th>std</th>\n",
       "      <td>31761.048671</td>\n",
       "      <td>7.168499e+04</td>\n",
       "      <td>80.315415</td>\n",
       "      <td>8.861550</td>\n",
       "      <td>2.806148</td>\n",
       "      <td>62788.519675</td>\n",
       "      <td>0.544714</td>\n",
       "      <td>0.431244</td>\n",
       "      <td>0.499980</td>\n",
       "      <td>50277.048244</td>\n",
       "    </tr>\n",
       "    <tr>\n",
       "      <th>min</th>\n",
       "      <td>165034.000000</td>\n",
       "      <td>1.556570e+07</td>\n",
       "      <td>350.000000</td>\n",
       "      <td>18.000000</td>\n",
       "      <td>0.000000</td>\n",
       "      <td>0.000000</td>\n",
       "      <td>1.000000</td>\n",
       "      <td>0.000000</td>\n",
       "      <td>0.000000</td>\n",
       "      <td>11.580000</td>\n",
       "    </tr>\n",
       "    <tr>\n",
       "      <th>25%</th>\n",
       "      <td>192539.500000</td>\n",
       "      <td>1.563286e+07</td>\n",
       "      <td>597.000000</td>\n",
       "      <td>32.000000</td>\n",
       "      <td>3.000000</td>\n",
       "      <td>0.000000</td>\n",
       "      <td>1.000000</td>\n",
       "      <td>1.000000</td>\n",
       "      <td>0.000000</td>\n",
       "      <td>74440.325000</td>\n",
       "    </tr>\n",
       "    <tr>\n",
       "      <th>50%</th>\n",
       "      <td>220045.000000</td>\n",
       "      <td>1.569018e+07</td>\n",
       "      <td>660.000000</td>\n",
       "      <td>37.000000</td>\n",
       "      <td>5.000000</td>\n",
       "      <td>0.000000</td>\n",
       "      <td>2.000000</td>\n",
       "      <td>1.000000</td>\n",
       "      <td>0.000000</td>\n",
       "      <td>117832.230000</td>\n",
       "    </tr>\n",
       "    <tr>\n",
       "      <th>75%</th>\n",
       "      <td>247550.500000</td>\n",
       "      <td>1.575693e+07</td>\n",
       "      <td>710.000000</td>\n",
       "      <td>42.000000</td>\n",
       "      <td>7.000000</td>\n",
       "      <td>120145.605000</td>\n",
       "      <td>2.000000</td>\n",
       "      <td>1.000000</td>\n",
       "      <td>1.000000</td>\n",
       "      <td>154631.350000</td>\n",
       "    </tr>\n",
       "    <tr>\n",
       "      <th>max</th>\n",
       "      <td>275056.000000</td>\n",
       "      <td>1.581569e+07</td>\n",
       "      <td>850.000000</td>\n",
       "      <td>92.000000</td>\n",
       "      <td>10.000000</td>\n",
       "      <td>250898.090000</td>\n",
       "      <td>4.000000</td>\n",
       "      <td>1.000000</td>\n",
       "      <td>1.000000</td>\n",
       "      <td>199992.480000</td>\n",
       "    </tr>\n",
       "  </tbody>\n",
       "</table>\n",
       "</div>"
      ],
      "text/plain": [
       "                  id    CustomerId    CreditScore            Age  \\\n",
       "count  110023.000000  1.100230e+05  110023.000000  110023.000000   \n",
       "mean   220045.000000  1.569210e+07     656.530789      38.122205   \n",
       "std     31761.048671  7.168499e+04      80.315415       8.861550   \n",
       "min    165034.000000  1.556570e+07     350.000000      18.000000   \n",
       "25%    192539.500000  1.563286e+07     597.000000      32.000000   \n",
       "50%    220045.000000  1.569018e+07     660.000000      37.000000   \n",
       "75%    247550.500000  1.575693e+07     710.000000      42.000000   \n",
       "max    275056.000000  1.581569e+07     850.000000      92.000000   \n",
       "\n",
       "              Tenure        Balance  NumOfProducts      HasCrCard  \\\n",
       "count  110023.000000  110023.000000  110023.000000  110023.000000   \n",
       "mean        4.996637   55333.611354       1.553321       0.753043   \n",
       "std         2.806148   62788.519675       0.544714       0.431244   \n",
       "min         0.000000       0.000000       1.000000       0.000000   \n",
       "25%         3.000000       0.000000       1.000000       1.000000   \n",
       "50%         5.000000       0.000000       2.000000       1.000000   \n",
       "75%         7.000000  120145.605000       2.000000       1.000000   \n",
       "max        10.000000  250898.090000       4.000000       1.000000   \n",
       "\n",
       "       IsActiveMember  EstimatedSalary  \n",
       "count   110023.000000    110023.000000  \n",
       "mean         0.495233    112315.147765  \n",
       "std          0.499980     50277.048244  \n",
       "min          0.000000        11.580000  \n",
       "25%          0.000000     74440.325000  \n",
       "50%          0.000000    117832.230000  \n",
       "75%          1.000000    154631.350000  \n",
       "max          1.000000    199992.480000  "
      ]
     },
     "execution_count": 8,
     "metadata": {},
     "output_type": "execute_result"
    }
   ],
   "source": [
    "df_test.describe()"
   ]
  },
  {
   "cell_type": "code",
   "execution_count": 9,
   "metadata": {
    "ExecuteTime": {
     "end_time": "2024-01-31T10:01:52.050379Z",
     "start_time": "2024-01-31T10:01:51.977376Z"
    }
   },
   "outputs": [
    {
     "data": {
      "text/html": [
       "<div>\n",
       "<style scoped>\n",
       "    .dataframe tbody tr th:only-of-type {\n",
       "        vertical-align: middle;\n",
       "    }\n",
       "\n",
       "    .dataframe tbody tr th {\n",
       "        vertical-align: top;\n",
       "    }\n",
       "\n",
       "    .dataframe thead th {\n",
       "        text-align: right;\n",
       "    }\n",
       "</style>\n",
       "<table border=\"1\" class=\"dataframe\">\n",
       "  <thead>\n",
       "    <tr style=\"text-align: right;\">\n",
       "      <th></th>\n",
       "      <th>id</th>\n",
       "      <th>CustomerId</th>\n",
       "      <th>Surname</th>\n",
       "      <th>CreditScore</th>\n",
       "      <th>Geography</th>\n",
       "      <th>Gender</th>\n",
       "      <th>Age</th>\n",
       "      <th>Tenure</th>\n",
       "      <th>Balance</th>\n",
       "      <th>NumOfProducts</th>\n",
       "      <th>HasCrCard</th>\n",
       "      <th>IsActiveMember</th>\n",
       "      <th>EstimatedSalary</th>\n",
       "      <th>Exited</th>\n",
       "    </tr>\n",
       "  </thead>\n",
       "  <tbody>\n",
       "    <tr>\n",
       "      <th>182</th>\n",
       "      <td>182</td>\n",
       "      <td>15671973</td>\n",
       "      <td>Kesteven</td>\n",
       "      <td>674</td>\n",
       "      <td>Spain</td>\n",
       "      <td>Male</td>\n",
       "      <td>51.0</td>\n",
       "      <td>0</td>\n",
       "      <td>0.00</td>\n",
       "      <td>4</td>\n",
       "      <td>0.0</td>\n",
       "      <td>1.0</td>\n",
       "      <td>145562.40</td>\n",
       "      <td>1</td>\n",
       "    </tr>\n",
       "    <tr>\n",
       "      <th>223</th>\n",
       "      <td>223</td>\n",
       "      <td>15589475</td>\n",
       "      <td>Mazzanti</td>\n",
       "      <td>744</td>\n",
       "      <td>Germany</td>\n",
       "      <td>Male</td>\n",
       "      <td>53.0</td>\n",
       "      <td>8</td>\n",
       "      <td>108004.64</td>\n",
       "      <td>4</td>\n",
       "      <td>1.0</td>\n",
       "      <td>0.0</td>\n",
       "      <td>140941.46</td>\n",
       "      <td>1</td>\n",
       "    </tr>\n",
       "    <tr>\n",
       "      <th>1030</th>\n",
       "      <td>1030</td>\n",
       "      <td>15679622</td>\n",
       "      <td>Okechukwu</td>\n",
       "      <td>815</td>\n",
       "      <td>France</td>\n",
       "      <td>Male</td>\n",
       "      <td>43.0</td>\n",
       "      <td>4</td>\n",
       "      <td>0.00</td>\n",
       "      <td>4</td>\n",
       "      <td>1.0</td>\n",
       "      <td>1.0</td>\n",
       "      <td>133692.88</td>\n",
       "      <td>1</td>\n",
       "    </tr>\n",
       "    <tr>\n",
       "      <th>1257</th>\n",
       "      <td>1257</td>\n",
       "      <td>15670374</td>\n",
       "      <td>Wright</td>\n",
       "      <td>819</td>\n",
       "      <td>Germany</td>\n",
       "      <td>Female</td>\n",
       "      <td>36.0</td>\n",
       "      <td>1</td>\n",
       "      <td>120656.86</td>\n",
       "      <td>4</td>\n",
       "      <td>0.0</td>\n",
       "      <td>0.0</td>\n",
       "      <td>166164.30</td>\n",
       "      <td>1</td>\n",
       "    </tr>\n",
       "    <tr>\n",
       "      <th>1590</th>\n",
       "      <td>1590</td>\n",
       "      <td>15682463</td>\n",
       "      <td>Trevisani</td>\n",
       "      <td>706</td>\n",
       "      <td>Germany</td>\n",
       "      <td>Male</td>\n",
       "      <td>46.0</td>\n",
       "      <td>8</td>\n",
       "      <td>133070.11</td>\n",
       "      <td>4</td>\n",
       "      <td>1.0</td>\n",
       "      <td>0.0</td>\n",
       "      <td>79919.99</td>\n",
       "      <td>1</td>\n",
       "    </tr>\n",
       "    <tr>\n",
       "      <th>...</th>\n",
       "      <td>...</td>\n",
       "      <td>...</td>\n",
       "      <td>...</td>\n",
       "      <td>...</td>\n",
       "      <td>...</td>\n",
       "      <td>...</td>\n",
       "      <td>...</td>\n",
       "      <td>...</td>\n",
       "      <td>...</td>\n",
       "      <td>...</td>\n",
       "      <td>...</td>\n",
       "      <td>...</td>\n",
       "      <td>...</td>\n",
       "      <td>...</td>\n",
       "    </tr>\n",
       "    <tr>\n",
       "      <th>162369</th>\n",
       "      <td>162369</td>\n",
       "      <td>15781326</td>\n",
       "      <td>Ritchie</td>\n",
       "      <td>699</td>\n",
       "      <td>Germany</td>\n",
       "      <td>Female</td>\n",
       "      <td>47.0</td>\n",
       "      <td>7</td>\n",
       "      <td>139753.83</td>\n",
       "      <td>4</td>\n",
       "      <td>0.0</td>\n",
       "      <td>1.0</td>\n",
       "      <td>57921.95</td>\n",
       "      <td>1</td>\n",
       "    </tr>\n",
       "    <tr>\n",
       "      <th>163369</th>\n",
       "      <td>163369</td>\n",
       "      <td>15583863</td>\n",
       "      <td>Kosisochukwu</td>\n",
       "      <td>682</td>\n",
       "      <td>Spain</td>\n",
       "      <td>Male</td>\n",
       "      <td>55.0</td>\n",
       "      <td>7</td>\n",
       "      <td>0.00</td>\n",
       "      <td>4</td>\n",
       "      <td>1.0</td>\n",
       "      <td>0.0</td>\n",
       "      <td>186778.89</td>\n",
       "      <td>1</td>\n",
       "    </tr>\n",
       "    <tr>\n",
       "      <th>163513</th>\n",
       "      <td>163513</td>\n",
       "      <td>15770091</td>\n",
       "      <td>Mactier</td>\n",
       "      <td>676</td>\n",
       "      <td>France</td>\n",
       "      <td>Female</td>\n",
       "      <td>48.0</td>\n",
       "      <td>4</td>\n",
       "      <td>0.00</td>\n",
       "      <td>4</td>\n",
       "      <td>1.0</td>\n",
       "      <td>0.0</td>\n",
       "      <td>102925.53</td>\n",
       "      <td>1</td>\n",
       "    </tr>\n",
       "    <tr>\n",
       "      <th>163549</th>\n",
       "      <td>163549</td>\n",
       "      <td>15595537</td>\n",
       "      <td>Hsia</td>\n",
       "      <td>548</td>\n",
       "      <td>Spain</td>\n",
       "      <td>Female</td>\n",
       "      <td>55.0</td>\n",
       "      <td>5</td>\n",
       "      <td>0.00</td>\n",
       "      <td>4</td>\n",
       "      <td>1.0</td>\n",
       "      <td>0.0</td>\n",
       "      <td>158036.97</td>\n",
       "      <td>1</td>\n",
       "    </tr>\n",
       "    <tr>\n",
       "      <th>163862</th>\n",
       "      <td>163862</td>\n",
       "      <td>15654562</td>\n",
       "      <td>Ma</td>\n",
       "      <td>850</td>\n",
       "      <td>Spain</td>\n",
       "      <td>Male</td>\n",
       "      <td>35.0</td>\n",
       "      <td>5</td>\n",
       "      <td>174088.30</td>\n",
       "      <td>4</td>\n",
       "      <td>1.0</td>\n",
       "      <td>1.0</td>\n",
       "      <td>5669.31</td>\n",
       "      <td>0</td>\n",
       "    </tr>\n",
       "  </tbody>\n",
       "</table>\n",
       "<p>475 rows × 14 columns</p>\n",
       "</div>"
      ],
      "text/plain": [
       "            id  CustomerId       Surname  CreditScore Geography  Gender   Age  \\\n",
       "182        182    15671973      Kesteven          674     Spain    Male  51.0   \n",
       "223        223    15589475      Mazzanti          744   Germany    Male  53.0   \n",
       "1030      1030    15679622     Okechukwu          815    France    Male  43.0   \n",
       "1257      1257    15670374        Wright          819   Germany  Female  36.0   \n",
       "1590      1590    15682463     Trevisani          706   Germany    Male  46.0   \n",
       "...        ...         ...           ...          ...       ...     ...   ...   \n",
       "162369  162369    15781326       Ritchie          699   Germany  Female  47.0   \n",
       "163369  163369    15583863  Kosisochukwu          682     Spain    Male  55.0   \n",
       "163513  163513    15770091       Mactier          676    France  Female  48.0   \n",
       "163549  163549    15595537          Hsia          548     Spain  Female  55.0   \n",
       "163862  163862    15654562            Ma          850     Spain    Male  35.0   \n",
       "\n",
       "        Tenure    Balance  NumOfProducts  HasCrCard  IsActiveMember  \\\n",
       "182          0       0.00              4        0.0             1.0   \n",
       "223          8  108004.64              4        1.0             0.0   \n",
       "1030         4       0.00              4        1.0             1.0   \n",
       "1257         1  120656.86              4        0.0             0.0   \n",
       "1590         8  133070.11              4        1.0             0.0   \n",
       "...        ...        ...            ...        ...             ...   \n",
       "162369       7  139753.83              4        0.0             1.0   \n",
       "163369       7       0.00              4        1.0             0.0   \n",
       "163513       4       0.00              4        1.0             0.0   \n",
       "163549       5       0.00              4        1.0             0.0   \n",
       "163862       5  174088.30              4        1.0             1.0   \n",
       "\n",
       "        EstimatedSalary  Exited  \n",
       "182           145562.40       1  \n",
       "223           140941.46       1  \n",
       "1030          133692.88       1  \n",
       "1257          166164.30       1  \n",
       "1590           79919.99       1  \n",
       "...                 ...     ...  \n",
       "162369         57921.95       1  \n",
       "163369        186778.89       1  \n",
       "163513        102925.53       1  \n",
       "163549        158036.97       1  \n",
       "163862          5669.31       0  \n",
       "\n",
       "[475 rows x 14 columns]"
      ]
     },
     "execution_count": 9,
     "metadata": {},
     "output_type": "execute_result"
    }
   ],
   "source": [
    "df_train[df_train['NumOfProducts'] > 3]"
   ]
  },
  {
   "cell_type": "code",
   "execution_count": 10,
   "metadata": {
    "ExecuteTime": {
     "end_time": "2024-01-31T10:01:52.126679Z",
     "start_time": "2024-01-31T10:01:52.055378Z"
    }
   },
   "outputs": [
    {
     "name": "stdout",
     "output_type": "stream",
     "text": [
      "<class 'pandas.core.frame.DataFrame'>\n",
      "RangeIndex: 165034 entries, 0 to 165033\n",
      "Data columns (total 14 columns):\n",
      "id                 165034 non-null int64\n",
      "CustomerId         165034 non-null int64\n",
      "Surname            165034 non-null object\n",
      "CreditScore        165034 non-null int64\n",
      "Geography          165034 non-null object\n",
      "Gender             165034 non-null object\n",
      "Age                165034 non-null float64\n",
      "Tenure             165034 non-null int64\n",
      "Balance            165034 non-null float64\n",
      "NumOfProducts      165034 non-null int64\n",
      "HasCrCard          165034 non-null float64\n",
      "IsActiveMember     165034 non-null float64\n",
      "EstimatedSalary    165034 non-null float64\n",
      "Exited             165034 non-null int64\n",
      "dtypes: float64(5), int64(6), object(3)\n",
      "memory usage: 17.6+ MB\n"
     ]
    }
   ],
   "source": [
    "df_train.info()"
   ]
  },
  {
   "cell_type": "code",
   "execution_count": 11,
   "metadata": {
    "ExecuteTime": {
     "end_time": "2024-01-31T10:01:52.174732Z",
     "start_time": "2024-01-31T10:01:52.130690Z"
    }
   },
   "outputs": [
    {
     "data": {
      "text/plain": [
       "Gender\n",
       "Female    20105\n",
       "Male      14816\n",
       "Name: Exited, dtype: int64"
      ]
     },
     "execution_count": 11,
     "metadata": {},
     "output_type": "execute_result"
    }
   ],
   "source": [
    "df_train.groupby('Gender')['Exited'].sum()"
   ]
  },
  {
   "cell_type": "code",
   "execution_count": 12,
   "metadata": {
    "ExecuteTime": {
     "end_time": "2024-01-31T10:01:52.222782Z",
     "start_time": "2024-01-31T10:01:52.177727Z"
    },
    "scrolled": true
   },
   "outputs": [
    {
     "data": {
      "text/plain": [
       "Geography\n",
       "France     15572\n",
       "Germany    13114\n",
       "Spain       6235\n",
       "Name: Exited, dtype: int64"
      ]
     },
     "execution_count": 12,
     "metadata": {},
     "output_type": "execute_result"
    }
   ],
   "source": [
    "df_train.groupby('Geography')['Exited'].sum()"
   ]
  },
  {
   "cell_type": "code",
   "execution_count": 13,
   "metadata": {
    "ExecuteTime": {
     "end_time": "2024-01-31T10:01:52.302819Z",
     "start_time": "2024-01-31T10:01:52.225726Z"
    },
    "scrolled": true
   },
   "outputs": [
    {
     "data": {
      "text/plain": [
       "Geography  Gender\n",
       "France     Female    9002\n",
       "           Male      6570\n",
       "Germany    Female    7596\n",
       "           Male      5518\n",
       "Spain      Female    3507\n",
       "           Male      2728\n",
       "Name: Exited, dtype: int64"
      ]
     },
     "execution_count": 13,
     "metadata": {},
     "output_type": "execute_result"
    }
   ],
   "source": [
    "df_train.groupby(['Geography', 'Gender'])['Exited'].sum()"
   ]
  },
  {
   "cell_type": "code",
   "execution_count": 14,
   "metadata": {
    "ExecuteTime": {
     "end_time": "2024-01-31T10:01:52.366598Z",
     "start_time": "2024-01-31T10:01:52.306689Z"
    }
   },
   "outputs": [
    {
     "data": {
      "text/plain": [
       "Geography  Gender\n",
       "France     Female    62794\n",
       "           Male      86479\n",
       "Germany    Female    23361\n",
       "           Male      26645\n",
       "Spain      Female    24417\n",
       "           Male      32842\n",
       "Name: NumOfProducts, dtype: int64"
      ]
     },
     "execution_count": 14,
     "metadata": {},
     "output_type": "execute_result"
    }
   ],
   "source": [
    "df_train.groupby(['Geography', 'Gender'])['NumOfProducts'].sum()"
   ]
  },
  {
   "cell_type": "code",
   "execution_count": 15,
   "metadata": {
    "ExecuteTime": {
     "end_time": "2024-01-31T10:01:52.522596Z",
     "start_time": "2024-01-31T10:01:52.371601Z"
    }
   },
   "outputs": [
    {
     "name": "stdout",
     "output_type": "stream",
     "text": [
      "                  Exited_Sum  Exited_Zero_Count\n",
      "Geography Gender                               \n",
      "France    Female        9002              30974\n",
      "          Male          6570              47669\n",
      "Germany   Female        7596               8792\n",
      "          Male          5518              12700\n",
      "Spain     Female        3507              12013\n",
      "          Male          2728              17965\n"
     ]
    }
   ],
   "source": [
    "result = pd.concat([\n",
    "    df_train.groupby(['Geography', 'Gender'])['Exited'].sum(),\n",
    "    df_train.groupby(['Geography', 'Gender'])['Exited'].apply(lambda x: x.eq(0).sum())\n",
    "], axis=1, keys=['Exited_Sum', 'Exited_Zero_Count'])\n",
    "\n",
    "print(result)"
   ]
  },
  {
   "cell_type": "code",
   "execution_count": 16,
   "metadata": {
    "ExecuteTime": {
     "end_time": "2024-01-31T10:01:52.568598Z",
     "start_time": "2024-01-31T10:01:52.526555Z"
    }
   },
   "outputs": [
    {
     "data": {
      "text/html": [
       "<div>\n",
       "<style scoped>\n",
       "    .dataframe tbody tr th:only-of-type {\n",
       "        vertical-align: middle;\n",
       "    }\n",
       "\n",
       "    .dataframe tbody tr th {\n",
       "        vertical-align: top;\n",
       "    }\n",
       "\n",
       "    .dataframe thead th {\n",
       "        text-align: right;\n",
       "    }\n",
       "</style>\n",
       "<table border=\"1\" class=\"dataframe\">\n",
       "  <thead>\n",
       "    <tr style=\"text-align: right;\">\n",
       "      <th></th>\n",
       "      <th>Geography</th>\n",
       "      <th>Geography_Count</th>\n",
       "    </tr>\n",
       "  </thead>\n",
       "  <tbody>\n",
       "    <tr>\n",
       "      <th>0</th>\n",
       "      <td>France</td>\n",
       "      <td>94215</td>\n",
       "    </tr>\n",
       "    <tr>\n",
       "      <th>1</th>\n",
       "      <td>Germany</td>\n",
       "      <td>34606</td>\n",
       "    </tr>\n",
       "    <tr>\n",
       "      <th>2</th>\n",
       "      <td>Spain</td>\n",
       "      <td>36213</td>\n",
       "    </tr>\n",
       "  </tbody>\n",
       "</table>\n",
       "</div>"
      ],
      "text/plain": [
       "  Geography  Geography_Count\n",
       "0    France            94215\n",
       "1   Germany            34606\n",
       "2     Spain            36213"
      ]
     },
     "execution_count": 16,
     "metadata": {},
     "output_type": "execute_result"
    }
   ],
   "source": [
    "df_train.groupby('Geography').size().reset_index(name='Geography_Count')"
   ]
  },
  {
   "cell_type": "code",
   "execution_count": 17,
   "metadata": {
    "ExecuteTime": {
     "end_time": "2024-01-31T10:01:52.678599Z",
     "start_time": "2024-01-31T10:01:52.571560Z"
    }
   },
   "outputs": [
    {
     "data": {
      "text/html": [
       "<div>\n",
       "<style scoped>\n",
       "    .dataframe tbody tr th:only-of-type {\n",
       "        vertical-align: middle;\n",
       "    }\n",
       "\n",
       "    .dataframe tbody tr th {\n",
       "        vertical-align: top;\n",
       "    }\n",
       "\n",
       "    .dataframe thead th {\n",
       "        text-align: right;\n",
       "    }\n",
       "</style>\n",
       "<table border=\"1\" class=\"dataframe\">\n",
       "  <thead>\n",
       "    <tr style=\"text-align: right;\">\n",
       "      <th></th>\n",
       "      <th></th>\n",
       "      <th>Exited_Sum</th>\n",
       "      <th>Exited_Zero_Count</th>\n",
       "    </tr>\n",
       "    <tr>\n",
       "      <th>Geography</th>\n",
       "      <th>Gender</th>\n",
       "      <th></th>\n",
       "      <th></th>\n",
       "    </tr>\n",
       "  </thead>\n",
       "  <tbody>\n",
       "    <tr>\n",
       "      <th rowspan=\"2\" valign=\"top\">France</th>\n",
       "      <th>Female</th>\n",
       "      <td>9002</td>\n",
       "      <td>30974</td>\n",
       "    </tr>\n",
       "    <tr>\n",
       "      <th>Male</th>\n",
       "      <td>6570</td>\n",
       "      <td>47669</td>\n",
       "    </tr>\n",
       "    <tr>\n",
       "      <th rowspan=\"2\" valign=\"top\">Germany</th>\n",
       "      <th>Female</th>\n",
       "      <td>7596</td>\n",
       "      <td>8792</td>\n",
       "    </tr>\n",
       "    <tr>\n",
       "      <th>Male</th>\n",
       "      <td>5518</td>\n",
       "      <td>12700</td>\n",
       "    </tr>\n",
       "    <tr>\n",
       "      <th rowspan=\"2\" valign=\"top\">Spain</th>\n",
       "      <th>Female</th>\n",
       "      <td>3507</td>\n",
       "      <td>12013</td>\n",
       "    </tr>\n",
       "    <tr>\n",
       "      <th>Male</th>\n",
       "      <td>2728</td>\n",
       "      <td>17965</td>\n",
       "    </tr>\n",
       "  </tbody>\n",
       "</table>\n",
       "</div>"
      ],
      "text/plain": [
       "                  Exited_Sum  Exited_Zero_Count\n",
       "Geography Gender                               \n",
       "France    Female        9002              30974\n",
       "          Male          6570              47669\n",
       "Germany   Female        7596               8792\n",
       "          Male          5518              12700\n",
       "Spain     Female        3507              12013\n",
       "          Male          2728              17965"
      ]
     },
     "execution_count": 17,
     "metadata": {},
     "output_type": "execute_result"
    }
   ],
   "source": [
    "# Sum of Exited Customers VS Sum of Not-Exited Customers\n",
    "result = df_train.groupby(['Geography', 'Gender'])['Exited'].agg(['sum', lambda x: x.eq(0).sum()])\n",
    "result.columns = ['Exited_Sum', 'Exited_Zero_Count']\n",
    "result"
   ]
  },
  {
   "cell_type": "code",
   "execution_count": 18,
   "metadata": {
    "ExecuteTime": {
     "end_time": "2024-01-31T10:01:52.916550Z",
     "start_time": "2024-01-31T10:01:52.682555Z"
    }
   },
   "outputs": [
    {
     "data": {
      "text/html": [
       "<div>\n",
       "<style scoped>\n",
       "    .dataframe tbody tr th:only-of-type {\n",
       "        vertical-align: middle;\n",
       "    }\n",
       "\n",
       "    .dataframe tbody tr th {\n",
       "        vertical-align: top;\n",
       "    }\n",
       "\n",
       "    .dataframe thead th {\n",
       "        text-align: right;\n",
       "    }\n",
       "</style>\n",
       "<table border=\"1\" class=\"dataframe\">\n",
       "  <thead>\n",
       "    <tr style=\"text-align: right;\">\n",
       "      <th></th>\n",
       "      <th>Geography</th>\n",
       "      <th>Exited_Sum</th>\n",
       "      <th>Exited_Zero_Count</th>\n",
       "      <th>Geography_Count</th>\n",
       "      <th>Exited_Percentage</th>\n",
       "    </tr>\n",
       "  </thead>\n",
       "  <tbody>\n",
       "    <tr>\n",
       "      <th>0</th>\n",
       "      <td>France</td>\n",
       "      <td>9002</td>\n",
       "      <td>30974</td>\n",
       "      <td>94215</td>\n",
       "      <td>9.554742</td>\n",
       "    </tr>\n",
       "    <tr>\n",
       "      <th>1</th>\n",
       "      <td>France</td>\n",
       "      <td>6570</td>\n",
       "      <td>47669</td>\n",
       "      <td>94215</td>\n",
       "      <td>6.973412</td>\n",
       "    </tr>\n",
       "    <tr>\n",
       "      <th>2</th>\n",
       "      <td>Germany</td>\n",
       "      <td>7596</td>\n",
       "      <td>8792</td>\n",
       "      <td>34606</td>\n",
       "      <td>21.949951</td>\n",
       "    </tr>\n",
       "    <tr>\n",
       "      <th>3</th>\n",
       "      <td>Germany</td>\n",
       "      <td>5518</td>\n",
       "      <td>12700</td>\n",
       "      <td>34606</td>\n",
       "      <td>15.945212</td>\n",
       "    </tr>\n",
       "    <tr>\n",
       "      <th>4</th>\n",
       "      <td>Spain</td>\n",
       "      <td>3507</td>\n",
       "      <td>12013</td>\n",
       "      <td>36213</td>\n",
       "      <td>9.684367</td>\n",
       "    </tr>\n",
       "    <tr>\n",
       "      <th>5</th>\n",
       "      <td>Spain</td>\n",
       "      <td>2728</td>\n",
       "      <td>17965</td>\n",
       "      <td>36213</td>\n",
       "      <td>7.533206</td>\n",
       "    </tr>\n",
       "  </tbody>\n",
       "</table>\n",
       "</div>"
      ],
      "text/plain": [
       "  Geography  Exited_Sum  Exited_Zero_Count  Geography_Count  Exited_Percentage\n",
       "0    France        9002              30974            94215           9.554742\n",
       "1    France        6570              47669            94215           6.973412\n",
       "2   Germany        7596               8792            34606          21.949951\n",
       "3   Germany        5518              12700            34606          15.945212\n",
       "4     Spain        3507              12013            36213           9.684367\n",
       "5     Spain        2728              17965            36213           7.533206"
      ]
     },
     "execution_count": 18,
     "metadata": {},
     "output_type": "execute_result"
    }
   ],
   "source": [
    "geography_count = df_train.groupby('Geography').size().reset_index(name='Geography_Count')\n",
    "\n",
    "result = df_train.groupby(['Geography', 'Gender'])['Exited'].agg(['sum', lambda x: x.eq(0).sum()])\n",
    "result.columns = ['Exited_Sum', 'Exited_Zero_Count']\n",
    "result = result.merge(geography_count, on='Geography')\n",
    "\n",
    "result['Exited_Percentage'] = (result['Exited_Sum'] / result['Geography_Count']) * 100\n",
    "result"
   ]
  },
  {
   "cell_type": "code",
   "execution_count": 19,
   "metadata": {
    "ExecuteTime": {
     "end_time": "2024-01-31T10:01:52.962552Z",
     "start_time": "2024-01-31T10:01:52.921555Z"
    }
   },
   "outputs": [
    {
     "data": {
      "text/plain": [
       "Geography\n",
       "France     94215\n",
       "Germany    34606\n",
       "Spain      36213\n",
       "dtype: int64"
      ]
     },
     "execution_count": 19,
     "metadata": {},
     "output_type": "execute_result"
    }
   ],
   "source": [
    "df_train.groupby('Geography').size()"
   ]
  },
  {
   "cell_type": "code",
   "execution_count": 20,
   "metadata": {
    "ExecuteTime": {
     "end_time": "2024-01-31T10:01:53.089815Z",
     "start_time": "2024-01-31T10:01:52.965559Z"
    }
   },
   "outputs": [
    {
     "data": {
      "text/html": [
       "<div>\n",
       "<style scoped>\n",
       "    .dataframe tbody tr th:only-of-type {\n",
       "        vertical-align: middle;\n",
       "    }\n",
       "\n",
       "    .dataframe tbody tr th {\n",
       "        vertical-align: top;\n",
       "    }\n",
       "\n",
       "    .dataframe thead th {\n",
       "        text-align: right;\n",
       "    }\n",
       "</style>\n",
       "<table border=\"1\" class=\"dataframe\">\n",
       "  <thead>\n",
       "    <tr style=\"text-align: right;\">\n",
       "      <th></th>\n",
       "      <th></th>\n",
       "      <th>Exited_Sum</th>\n",
       "      <th>Exited_Zero_Count</th>\n",
       "      <th>Geography_Count</th>\n",
       "    </tr>\n",
       "    <tr>\n",
       "      <th>Geography</th>\n",
       "      <th>Gender</th>\n",
       "      <th></th>\n",
       "      <th></th>\n",
       "      <th></th>\n",
       "    </tr>\n",
       "  </thead>\n",
       "  <tbody>\n",
       "    <tr>\n",
       "      <th rowspan=\"2\" valign=\"top\">France</th>\n",
       "      <th>Female</th>\n",
       "      <td>9002</td>\n",
       "      <td>30974</td>\n",
       "      <td>NaN</td>\n",
       "    </tr>\n",
       "    <tr>\n",
       "      <th>Male</th>\n",
       "      <td>6570</td>\n",
       "      <td>47669</td>\n",
       "      <td>NaN</td>\n",
       "    </tr>\n",
       "    <tr>\n",
       "      <th rowspan=\"2\" valign=\"top\">Germany</th>\n",
       "      <th>Female</th>\n",
       "      <td>7596</td>\n",
       "      <td>8792</td>\n",
       "      <td>NaN</td>\n",
       "    </tr>\n",
       "    <tr>\n",
       "      <th>Male</th>\n",
       "      <td>5518</td>\n",
       "      <td>12700</td>\n",
       "      <td>NaN</td>\n",
       "    </tr>\n",
       "    <tr>\n",
       "      <th rowspan=\"2\" valign=\"top\">Spain</th>\n",
       "      <th>Female</th>\n",
       "      <td>3507</td>\n",
       "      <td>12013</td>\n",
       "      <td>NaN</td>\n",
       "    </tr>\n",
       "    <tr>\n",
       "      <th>Male</th>\n",
       "      <td>2728</td>\n",
       "      <td>17965</td>\n",
       "      <td>NaN</td>\n",
       "    </tr>\n",
       "  </tbody>\n",
       "</table>\n",
       "</div>"
      ],
      "text/plain": [
       "                  Exited_Sum  Exited_Zero_Count  Geography_Count\n",
       "Geography Gender                                                \n",
       "France    Female        9002              30974              NaN\n",
       "          Male          6570              47669              NaN\n",
       "Germany   Female        7596               8792              NaN\n",
       "          Male          5518              12700              NaN\n",
       "Spain     Female        3507              12013              NaN\n",
       "          Male          2728              17965              NaN"
      ]
     },
     "execution_count": 20,
     "metadata": {},
     "output_type": "execute_result"
    }
   ],
   "source": [
    "result = df_train.groupby(['Geography', 'Gender'])['Exited'].agg(['sum', lambda x: x.eq(0).sum()])\n",
    "result.columns = ['Exited_Sum', 'Exited_Zero_Count']\n",
    "\n",
    "result['Geography_Count'] = df_train.groupby('Geography').size()\n",
    "result"
   ]
  },
  {
   "cell_type": "code",
   "execution_count": 21,
   "metadata": {
    "ExecuteTime": {
     "end_time": "2024-01-31T10:01:53.265813Z",
     "start_time": "2024-01-31T10:01:53.093813Z"
    }
   },
   "outputs": [
    {
     "data": {
      "text/html": [
       "<div>\n",
       "<style scoped>\n",
       "    .dataframe tbody tr th:only-of-type {\n",
       "        vertical-align: middle;\n",
       "    }\n",
       "\n",
       "    .dataframe tbody tr th {\n",
       "        vertical-align: top;\n",
       "    }\n",
       "\n",
       "    .dataframe thead th {\n",
       "        text-align: right;\n",
       "    }\n",
       "</style>\n",
       "<table border=\"1\" class=\"dataframe\">\n",
       "  <thead>\n",
       "    <tr style=\"text-align: right;\">\n",
       "      <th></th>\n",
       "      <th></th>\n",
       "      <th>Exited_Sum</th>\n",
       "      <th>Exited_Zero_Count</th>\n",
       "      <th>Geography_Count</th>\n",
       "    </tr>\n",
       "    <tr>\n",
       "      <th>Geography</th>\n",
       "      <th>Gender</th>\n",
       "      <th></th>\n",
       "      <th></th>\n",
       "      <th></th>\n",
       "    </tr>\n",
       "  </thead>\n",
       "  <tbody>\n",
       "    <tr>\n",
       "      <th rowspan=\"2\" valign=\"top\">France</th>\n",
       "      <th>Female</th>\n",
       "      <td>9002</td>\n",
       "      <td>30974</td>\n",
       "      <td>NaN</td>\n",
       "    </tr>\n",
       "    <tr>\n",
       "      <th>Male</th>\n",
       "      <td>6570</td>\n",
       "      <td>47669</td>\n",
       "      <td>NaN</td>\n",
       "    </tr>\n",
       "    <tr>\n",
       "      <th rowspan=\"2\" valign=\"top\">Germany</th>\n",
       "      <th>Female</th>\n",
       "      <td>7596</td>\n",
       "      <td>8792</td>\n",
       "      <td>NaN</td>\n",
       "    </tr>\n",
       "    <tr>\n",
       "      <th>Male</th>\n",
       "      <td>5518</td>\n",
       "      <td>12700</td>\n",
       "      <td>NaN</td>\n",
       "    </tr>\n",
       "    <tr>\n",
       "      <th rowspan=\"2\" valign=\"top\">Spain</th>\n",
       "      <th>Female</th>\n",
       "      <td>3507</td>\n",
       "      <td>12013</td>\n",
       "      <td>NaN</td>\n",
       "    </tr>\n",
       "    <tr>\n",
       "      <th>Male</th>\n",
       "      <td>2728</td>\n",
       "      <td>17965</td>\n",
       "      <td>NaN</td>\n",
       "    </tr>\n",
       "  </tbody>\n",
       "</table>\n",
       "</div>"
      ],
      "text/plain": [
       "                  Exited_Sum  Exited_Zero_Count  Geography_Count\n",
       "Geography Gender                                                \n",
       "France    Female        9002              30974              NaN\n",
       "          Male          6570              47669              NaN\n",
       "Germany   Female        7596               8792              NaN\n",
       "          Male          5518              12700              NaN\n",
       "Spain     Female        3507              12013              NaN\n",
       "          Male          2728              17965              NaN"
      ]
     },
     "execution_count": 21,
     "metadata": {},
     "output_type": "execute_result"
    }
   ],
   "source": [
    "result = df_train.groupby(['Geography', 'Gender'])['Exited'].agg(['sum', lambda x: x.eq(0).sum()])\n",
    "result.columns = ['Exited_Sum', 'Exited_Zero_Count']\n",
    "\n",
    "result['Geography_Count'] = df_train.groupby('Geography')['Geography'].transform('count')\n",
    "result"
   ]
  },
  {
   "cell_type": "code",
   "execution_count": 22,
   "metadata": {
    "ExecuteTime": {
     "end_time": "2024-01-31T10:01:53.391813Z",
     "start_time": "2024-01-31T10:01:53.270815Z"
    }
   },
   "outputs": [
    {
     "name": "stdout",
     "output_type": "stream",
     "text": [
      "                  Exited_Sum  Exited_Zero_Count  Exited_Percentage\n",
      "Geography Gender                                                  \n",
      "France    Female        9002              30974          57.808888\n",
      "          Male          6570              47669          42.191112\n",
      "Germany   Female        7596               8792          57.922831\n",
      "          Male          5518              12700          42.077169\n",
      "Spain     Female        3507              12013          56.246993\n",
      "          Male          2728              17965          43.753007\n"
     ]
    }
   ],
   "source": [
    "# Groupby 'Exited_Sum' and 'Exited_Zero_Count' of 'Gender' based on 'Geography'\n",
    "result = df_train.groupby(['Geography', 'Gender'])['Exited'].agg(['sum', lambda x: x.eq(0).sum()])\n",
    "result.columns = ['Exited_Sum', 'Exited_Zero_Count']\n",
    "\n",
    "# Groupby 'Exited_Sum' and 'Exited_Zero_Count' for each category of 'Geography'\n",
    "result['Geography_Total_Exited_Sum'] = result.groupby('Geography')['Exited_Sum'].transform('sum')\n",
    "result['Geography_Total_Exited_Zero_Count'] = result.groupby('Geography')['Exited_Zero_Count'].transform('sum')\n",
    "\n",
    "# 'Exited_Percentage' \n",
    "result['Exited_Percentage'] = (result['Exited_Sum'] / result['Geography_Total_Exited_Sum']) * 100\n",
    "result = result.drop(['Geography_Total_Exited_Sum', 'Geography_Total_Exited_Zero_Count'], axis=1)  \n",
    "print(result)"
   ]
  },
  {
   "cell_type": "code",
   "execution_count": 23,
   "metadata": {
    "ExecuteTime": {
     "end_time": "2024-01-31T10:01:53.518811Z",
     "start_time": "2024-01-31T10:01:53.403823Z"
    }
   },
   "outputs": [
    {
     "name": "stdout",
     "output_type": "stream",
     "text": [
      "                  Exited_Sum  Exited_Zero_Count  Exited_Percentage\n",
      "Geography Gender                                                  \n",
      "France    Female        9002              30974          57.808888\n",
      "          Male          6570              47669          42.191112\n",
      "Germany   Female        7596               8792          57.922831\n",
      "          Male          5518              12700          42.077169\n",
      "Spain     Female        3507              12013          56.246993\n",
      "          Male          2728              17965          43.753007\n"
     ]
    }
   ],
   "source": [
    "result = df_train.groupby(['Geography', 'Gender'])['Exited'].agg(['sum', lambda x: x.eq(0).sum()])\n",
    "result.columns = ['Exited_Sum', 'Exited_Zero_Count']\n",
    "\n",
    "# Groupby 'Exited_Sum' and 'Exited_Zero_Count' of 'Gender' based on 'Geography'\n",
    "result['Geography_Total'] = result.groupby('Geography')['Exited_Sum'].transform('sum')\n",
    "\n",
    "# 'Exited_Percentage' \n",
    "result['Exited_Percentage'] = (result['Exited_Sum'] / result['Geography_Total']) * 100\n",
    "result = result.drop('Geography_Total', axis=1) \n",
    "print(result)"
   ]
  },
  {
   "cell_type": "code",
   "execution_count": 24,
   "metadata": {
    "ExecuteTime": {
     "end_time": "2024-01-31T10:01:53.549815Z",
     "start_time": "2024-01-31T10:01:53.529822Z"
    }
   },
   "outputs": [
    {
     "data": {
      "text/plain": [
       "int64      6\n",
       "float64    5\n",
       "object     3\n",
       "dtype: int64"
      ]
     },
     "execution_count": 24,
     "metadata": {},
     "output_type": "execute_result"
    }
   ],
   "source": [
    "# 2 object types(except for 'Surname') will be converted to neumeric (One hot encoding Maybe)\n",
    "df_train.dtypes.value_counts()"
   ]
  },
  {
   "cell_type": "markdown",
   "metadata": {},
   "source": [
    "- Tenure(total duration): Max 10 years >> Not too old product/bank\n",
    "- Surname will be deleted.\n",
    "- Geography >> should be encoded/labeled\n",
    "- Gender >> should be encoded/labeled\n",
    "- HasCrCard: Max 1 >> Can create more promos and fuctions on credit cards and can promote customer use its cards than other banks."
   ]
  },
  {
   "cell_type": "code",
   "execution_count": 25,
   "metadata": {
    "ExecuteTime": {
     "end_time": "2024-01-31T10:01:53.613836Z",
     "start_time": "2024-01-31T10:01:53.554820Z"
    }
   },
   "outputs": [
    {
     "data": {
      "text/plain": [
       "id                 0\n",
       "CustomerId         0\n",
       "Surname            0\n",
       "CreditScore        0\n",
       "Geography          0\n",
       "Gender             0\n",
       "Age                0\n",
       "Tenure             0\n",
       "Balance            0\n",
       "NumOfProducts      0\n",
       "HasCrCard          0\n",
       "IsActiveMember     0\n",
       "EstimatedSalary    0\n",
       "Exited             0\n",
       "dtype: int64"
      ]
     },
     "execution_count": 25,
     "metadata": {},
     "output_type": "execute_result"
    }
   ],
   "source": [
    "df_train.isnull().sum()"
   ]
  },
  {
   "cell_type": "code",
   "execution_count": 26,
   "metadata": {
    "ExecuteTime": {
     "end_time": "2024-01-31T10:01:53.674820Z",
     "start_time": "2024-01-31T10:01:53.617812Z"
    }
   },
   "outputs": [
    {
     "data": {
      "text/plain": [
       "id                 0\n",
       "CustomerId         0\n",
       "Surname            0\n",
       "CreditScore        0\n",
       "Geography          0\n",
       "Gender             0\n",
       "Age                0\n",
       "Tenure             0\n",
       "Balance            0\n",
       "NumOfProducts      0\n",
       "HasCrCard          0\n",
       "IsActiveMember     0\n",
       "EstimatedSalary    0\n",
       "dtype: int64"
      ]
     },
     "execution_count": 26,
     "metadata": {},
     "output_type": "execute_result"
    }
   ],
   "source": [
    "df_test.isnull().sum()"
   ]
  },
  {
   "cell_type": "markdown",
   "metadata": {},
   "source": [
    "## Check duplicate rows by 'CustomerId'\n",
    "Check duplicate rows by 'CustomerId' that could be a unique id.\n",
    "There are too many duplicated CustomerId with different names, genders, locations, etc.<br>\n",
    "So dicide not to keep this feature."
   ]
  },
  {
   "cell_type": "code",
   "execution_count": 206,
   "metadata": {
    "ExecuteTime": {
     "end_time": "2024-01-31T13:02:16.825747Z",
     "start_time": "2024-01-31T13:02:16.554743Z"
    }
   },
   "outputs": [
    {
     "data": {
      "text/html": [
       "<div>\n",
       "<style scoped>\n",
       "    .dataframe tbody tr th:only-of-type {\n",
       "        vertical-align: middle;\n",
       "    }\n",
       "\n",
       "    .dataframe tbody tr th {\n",
       "        vertical-align: top;\n",
       "    }\n",
       "\n",
       "    .dataframe thead th {\n",
       "        text-align: right;\n",
       "    }\n",
       "</style>\n",
       "<table border=\"1\" class=\"dataframe\">\n",
       "  <thead>\n",
       "    <tr style=\"text-align: right;\">\n",
       "      <th></th>\n",
       "      <th>id</th>\n",
       "      <th>CustomerId</th>\n",
       "      <th>Surname</th>\n",
       "      <th>CreditScore</th>\n",
       "      <th>Geography</th>\n",
       "      <th>Gender</th>\n",
       "      <th>Age</th>\n",
       "      <th>Tenure</th>\n",
       "      <th>Balance</th>\n",
       "      <th>NumOfProducts</th>\n",
       "      <th>HasCrCard</th>\n",
       "      <th>IsActiveMember</th>\n",
       "      <th>EstimatedSalary</th>\n",
       "      <th>Exited</th>\n",
       "    </tr>\n",
       "  </thead>\n",
       "  <tbody>\n",
       "    <tr>\n",
       "      <th>87277</th>\n",
       "      <td>87277</td>\n",
       "      <td>15565701</td>\n",
       "      <td>Bruno</td>\n",
       "      <td>846</td>\n",
       "      <td>Spain</td>\n",
       "      <td>Male</td>\n",
       "      <td>49.0</td>\n",
       "      <td>8</td>\n",
       "      <td>0.00</td>\n",
       "      <td>2</td>\n",
       "      <td>1.0</td>\n",
       "      <td>1.0</td>\n",
       "      <td>90280.70</td>\n",
       "      <td>0</td>\n",
       "    </tr>\n",
       "    <tr>\n",
       "      <th>140882</th>\n",
       "      <td>140882</td>\n",
       "      <td>15565701</td>\n",
       "      <td>Chineze</td>\n",
       "      <td>705</td>\n",
       "      <td>France</td>\n",
       "      <td>Male</td>\n",
       "      <td>32.0</td>\n",
       "      <td>6</td>\n",
       "      <td>107209.58</td>\n",
       "      <td>1</td>\n",
       "      <td>1.0</td>\n",
       "      <td>1.0</td>\n",
       "      <td>129822.79</td>\n",
       "      <td>0</td>\n",
       "    </tr>\n",
       "    <tr>\n",
       "      <th>160702</th>\n",
       "      <td>160702</td>\n",
       "      <td>15565701</td>\n",
       "      <td>Ferri</td>\n",
       "      <td>698</td>\n",
       "      <td>France</td>\n",
       "      <td>Female</td>\n",
       "      <td>39.0</td>\n",
       "      <td>2</td>\n",
       "      <td>161993.89</td>\n",
       "      <td>1</td>\n",
       "      <td>1.0</td>\n",
       "      <td>0.0</td>\n",
       "      <td>90212.38</td>\n",
       "      <td>0</td>\n",
       "    </tr>\n",
       "    <tr>\n",
       "      <th>93734</th>\n",
       "      <td>93734</td>\n",
       "      <td>15565706</td>\n",
       "      <td>McGregor</td>\n",
       "      <td>564</td>\n",
       "      <td>France</td>\n",
       "      <td>Male</td>\n",
       "      <td>34.0</td>\n",
       "      <td>8</td>\n",
       "      <td>0.00</td>\n",
       "      <td>2</td>\n",
       "      <td>0.0</td>\n",
       "      <td>1.0</td>\n",
       "      <td>53584.03</td>\n",
       "      <td>0</td>\n",
       "    </tr>\n",
       "    <tr>\n",
       "      <th>8288</th>\n",
       "      <td>8288</td>\n",
       "      <td>15565706</td>\n",
       "      <td>Akobundu</td>\n",
       "      <td>663</td>\n",
       "      <td>Spain</td>\n",
       "      <td>Male</td>\n",
       "      <td>35.0</td>\n",
       "      <td>4</td>\n",
       "      <td>0.00</td>\n",
       "      <td>1</td>\n",
       "      <td>1.0</td>\n",
       "      <td>1.0</td>\n",
       "      <td>83256.26</td>\n",
       "      <td>1</td>\n",
       "    </tr>\n",
       "    <tr>\n",
       "      <th>...</th>\n",
       "      <td>...</td>\n",
       "      <td>...</td>\n",
       "      <td>...</td>\n",
       "      <td>...</td>\n",
       "      <td>...</td>\n",
       "      <td>...</td>\n",
       "      <td>...</td>\n",
       "      <td>...</td>\n",
       "      <td>...</td>\n",
       "      <td>...</td>\n",
       "      <td>...</td>\n",
       "      <td>...</td>\n",
       "      <td>...</td>\n",
       "      <td>...</td>\n",
       "    </tr>\n",
       "    <tr>\n",
       "      <th>123836</th>\n",
       "      <td>123836</td>\n",
       "      <td>15815690</td>\n",
       "      <td>Akabueze</td>\n",
       "      <td>614</td>\n",
       "      <td>Spain</td>\n",
       "      <td>Female</td>\n",
       "      <td>40.0</td>\n",
       "      <td>3</td>\n",
       "      <td>113348.50</td>\n",
       "      <td>1</td>\n",
       "      <td>1.0</td>\n",
       "      <td>0.0</td>\n",
       "      <td>77789.01</td>\n",
       "      <td>1</td>\n",
       "    </tr>\n",
       "    <tr>\n",
       "      <th>46972</th>\n",
       "      <td>46972</td>\n",
       "      <td>15815690</td>\n",
       "      <td>Tuan</td>\n",
       "      <td>651</td>\n",
       "      <td>Germany</td>\n",
       "      <td>Female</td>\n",
       "      <td>33.0</td>\n",
       "      <td>8</td>\n",
       "      <td>144591.96</td>\n",
       "      <td>1</td>\n",
       "      <td>1.0</td>\n",
       "      <td>1.0</td>\n",
       "      <td>139469.11</td>\n",
       "      <td>0</td>\n",
       "    </tr>\n",
       "    <tr>\n",
       "      <th>74247</th>\n",
       "      <td>74247</td>\n",
       "      <td>15815690</td>\n",
       "      <td>Ch'iu</td>\n",
       "      <td>661</td>\n",
       "      <td>Germany</td>\n",
       "      <td>Male</td>\n",
       "      <td>51.0</td>\n",
       "      <td>5</td>\n",
       "      <td>106301.73</td>\n",
       "      <td>1</td>\n",
       "      <td>1.0</td>\n",
       "      <td>0.0</td>\n",
       "      <td>85888.67</td>\n",
       "      <td>1</td>\n",
       "    </tr>\n",
       "    <tr>\n",
       "      <th>124621</th>\n",
       "      <td>124621</td>\n",
       "      <td>15815690</td>\n",
       "      <td>Teng</td>\n",
       "      <td>565</td>\n",
       "      <td>France</td>\n",
       "      <td>Male</td>\n",
       "      <td>42.0</td>\n",
       "      <td>7</td>\n",
       "      <td>0.00</td>\n",
       "      <td>2</td>\n",
       "      <td>0.0</td>\n",
       "      <td>1.0</td>\n",
       "      <td>83473.82</td>\n",
       "      <td>0</td>\n",
       "    </tr>\n",
       "    <tr>\n",
       "      <th>43859</th>\n",
       "      <td>43859</td>\n",
       "      <td>15815690</td>\n",
       "      <td>Akabueze</td>\n",
       "      <td>740</td>\n",
       "      <td>Spain</td>\n",
       "      <td>Female</td>\n",
       "      <td>35.0</td>\n",
       "      <td>1</td>\n",
       "      <td>113348.50</td>\n",
       "      <td>1</td>\n",
       "      <td>1.0</td>\n",
       "      <td>1.0</td>\n",
       "      <td>77789.01</td>\n",
       "      <td>0</td>\n",
       "    </tr>\n",
       "  </tbody>\n",
       "</table>\n",
       "<p>155733 rows × 14 columns</p>\n",
       "</div>"
      ],
      "text/plain": [
       "            id  CustomerId   Surname  CreditScore Geography  Gender   Age  \\\n",
       "87277    87277    15565701     Bruno          846     Spain    Male  49.0   \n",
       "140882  140882    15565701   Chineze          705    France    Male  32.0   \n",
       "160702  160702    15565701     Ferri          698    France  Female  39.0   \n",
       "93734    93734    15565706  McGregor          564    France    Male  34.0   \n",
       "8288      8288    15565706  Akobundu          663     Spain    Male  35.0   \n",
       "...        ...         ...       ...          ...       ...     ...   ...   \n",
       "123836  123836    15815690  Akabueze          614     Spain  Female  40.0   \n",
       "46972    46972    15815690      Tuan          651   Germany  Female  33.0   \n",
       "74247    74247    15815690     Ch'iu          661   Germany    Male  51.0   \n",
       "124621  124621    15815690      Teng          565    France    Male  42.0   \n",
       "43859    43859    15815690  Akabueze          740     Spain  Female  35.0   \n",
       "\n",
       "        Tenure    Balance  NumOfProducts  HasCrCard  IsActiveMember  \\\n",
       "87277        8       0.00              2        1.0             1.0   \n",
       "140882       6  107209.58              1        1.0             1.0   \n",
       "160702       2  161993.89              1        1.0             0.0   \n",
       "93734        8       0.00              2        0.0             1.0   \n",
       "8288         4       0.00              1        1.0             1.0   \n",
       "...        ...        ...            ...        ...             ...   \n",
       "123836       3  113348.50              1        1.0             0.0   \n",
       "46972        8  144591.96              1        1.0             1.0   \n",
       "74247        5  106301.73              1        1.0             0.0   \n",
       "124621       7       0.00              2        0.0             1.0   \n",
       "43859        1  113348.50              1        1.0             1.0   \n",
       "\n",
       "        EstimatedSalary  Exited  \n",
       "87277          90280.70       0  \n",
       "140882        129822.79       0  \n",
       "160702         90212.38       0  \n",
       "93734          53584.03       0  \n",
       "8288           83256.26       1  \n",
       "...                 ...     ...  \n",
       "123836         77789.01       1  \n",
       "46972         139469.11       0  \n",
       "74247          85888.67       1  \n",
       "124621         83473.82       0  \n",
       "43859          77789.01       0  \n",
       "\n",
       "[155733 rows x 14 columns]"
      ]
     },
     "execution_count": 206,
     "metadata": {},
     "output_type": "execute_result"
    }
   ],
   "source": [
    "df_train[df_train.duplicated(subset=['CustomerId'], keep=False)].sort_values('CustomerId')"
   ]
  },
  {
   "cell_type": "code",
   "execution_count": 208,
   "metadata": {
    "ExecuteTime": {
     "end_time": "2024-01-31T13:03:09.294566Z",
     "start_time": "2024-01-31T13:03:09.162530Z"
    },
    "scrolled": true
   },
   "outputs": [
    {
     "data": {
      "text/html": [
       "<div>\n",
       "<style scoped>\n",
       "    .dataframe tbody tr th:only-of-type {\n",
       "        vertical-align: middle;\n",
       "    }\n",
       "\n",
       "    .dataframe tbody tr th {\n",
       "        vertical-align: top;\n",
       "    }\n",
       "\n",
       "    .dataframe thead th {\n",
       "        text-align: right;\n",
       "    }\n",
       "</style>\n",
       "<table border=\"1\" class=\"dataframe\">\n",
       "  <thead>\n",
       "    <tr style=\"text-align: right;\">\n",
       "      <th></th>\n",
       "      <th>id</th>\n",
       "      <th>CustomerId</th>\n",
       "      <th>Surname</th>\n",
       "      <th>CreditScore</th>\n",
       "      <th>Geography</th>\n",
       "      <th>Gender</th>\n",
       "      <th>Age</th>\n",
       "      <th>Tenure</th>\n",
       "      <th>Balance</th>\n",
       "      <th>NumOfProducts</th>\n",
       "      <th>HasCrCard</th>\n",
       "      <th>IsActiveMember</th>\n",
       "      <th>EstimatedSalary</th>\n",
       "    </tr>\n",
       "  </thead>\n",
       "  <tbody>\n",
       "    <tr>\n",
       "      <th>53787</th>\n",
       "      <td>218821</td>\n",
       "      <td>15565706</td>\n",
       "      <td>Akobundu</td>\n",
       "      <td>612</td>\n",
       "      <td>France</td>\n",
       "      <td>Male</td>\n",
       "      <td>40.0</td>\n",
       "      <td>1</td>\n",
       "      <td>0.00</td>\n",
       "      <td>1</td>\n",
       "      <td>1.0</td>\n",
       "      <td>0.0</td>\n",
       "      <td>83256.26</td>\n",
       "    </tr>\n",
       "    <tr>\n",
       "      <th>20043</th>\n",
       "      <td>185077</td>\n",
       "      <td>15565706</td>\n",
       "      <td>Onyeorulu</td>\n",
       "      <td>545</td>\n",
       "      <td>France</td>\n",
       "      <td>Female</td>\n",
       "      <td>45.0</td>\n",
       "      <td>7</td>\n",
       "      <td>0.00</td>\n",
       "      <td>2</td>\n",
       "      <td>1.0</td>\n",
       "      <td>1.0</td>\n",
       "      <td>127587.22</td>\n",
       "    </tr>\n",
       "    <tr>\n",
       "      <th>47395</th>\n",
       "      <td>212429</td>\n",
       "      <td>15565706</td>\n",
       "      <td>Bird</td>\n",
       "      <td>667</td>\n",
       "      <td>France</td>\n",
       "      <td>Male</td>\n",
       "      <td>41.0</td>\n",
       "      <td>6</td>\n",
       "      <td>102945.01</td>\n",
       "      <td>1</td>\n",
       "      <td>1.0</td>\n",
       "      <td>0.0</td>\n",
       "      <td>66214.13</td>\n",
       "    </tr>\n",
       "    <tr>\n",
       "      <th>86911</th>\n",
       "      <td>251945</td>\n",
       "      <td>15565706</td>\n",
       "      <td>Hsia</td>\n",
       "      <td>635</td>\n",
       "      <td>France</td>\n",
       "      <td>Male</td>\n",
       "      <td>71.0</td>\n",
       "      <td>2</td>\n",
       "      <td>0.00</td>\n",
       "      <td>2</td>\n",
       "      <td>1.0</td>\n",
       "      <td>1.0</td>\n",
       "      <td>74850.51</td>\n",
       "    </tr>\n",
       "    <tr>\n",
       "      <th>15974</th>\n",
       "      <td>181008</td>\n",
       "      <td>15565706</td>\n",
       "      <td>Akobundu</td>\n",
       "      <td>787</td>\n",
       "      <td>Spain</td>\n",
       "      <td>Male</td>\n",
       "      <td>35.0</td>\n",
       "      <td>1</td>\n",
       "      <td>0.00</td>\n",
       "      <td>2</td>\n",
       "      <td>1.0</td>\n",
       "      <td>0.0</td>\n",
       "      <td>83256.26</td>\n",
       "    </tr>\n",
       "    <tr>\n",
       "      <th>...</th>\n",
       "      <td>...</td>\n",
       "      <td>...</td>\n",
       "      <td>...</td>\n",
       "      <td>...</td>\n",
       "      <td>...</td>\n",
       "      <td>...</td>\n",
       "      <td>...</td>\n",
       "      <td>...</td>\n",
       "      <td>...</td>\n",
       "      <td>...</td>\n",
       "      <td>...</td>\n",
       "      <td>...</td>\n",
       "      <td>...</td>\n",
       "    </tr>\n",
       "    <tr>\n",
       "      <th>30337</th>\n",
       "      <td>195371</td>\n",
       "      <td>15815660</td>\n",
       "      <td>Tien</td>\n",
       "      <td>757</td>\n",
       "      <td>Spain</td>\n",
       "      <td>Female</td>\n",
       "      <td>20.0</td>\n",
       "      <td>6</td>\n",
       "      <td>0.00</td>\n",
       "      <td>1</td>\n",
       "      <td>1.0</td>\n",
       "      <td>1.0</td>\n",
       "      <td>168035.62</td>\n",
       "    </tr>\n",
       "    <tr>\n",
       "      <th>14280</th>\n",
       "      <td>179314</td>\n",
       "      <td>15815690</td>\n",
       "      <td>K'ung</td>\n",
       "      <td>624</td>\n",
       "      <td>Germany</td>\n",
       "      <td>Male</td>\n",
       "      <td>31.0</td>\n",
       "      <td>5</td>\n",
       "      <td>102933.96</td>\n",
       "      <td>2</td>\n",
       "      <td>0.0</td>\n",
       "      <td>0.0</td>\n",
       "      <td>61936.60</td>\n",
       "    </tr>\n",
       "    <tr>\n",
       "      <th>24725</th>\n",
       "      <td>189759</td>\n",
       "      <td>15815690</td>\n",
       "      <td>Onyemachukwu</td>\n",
       "      <td>590</td>\n",
       "      <td>France</td>\n",
       "      <td>Male</td>\n",
       "      <td>41.0</td>\n",
       "      <td>8</td>\n",
       "      <td>0.00</td>\n",
       "      <td>1</td>\n",
       "      <td>1.0</td>\n",
       "      <td>0.0</td>\n",
       "      <td>156791.24</td>\n",
       "    </tr>\n",
       "    <tr>\n",
       "      <th>70389</th>\n",
       "      <td>235423</td>\n",
       "      <td>15815690</td>\n",
       "      <td>Yobanna</td>\n",
       "      <td>582</td>\n",
       "      <td>France</td>\n",
       "      <td>Female</td>\n",
       "      <td>36.0</td>\n",
       "      <td>6</td>\n",
       "      <td>0.00</td>\n",
       "      <td>2</td>\n",
       "      <td>1.0</td>\n",
       "      <td>1.0</td>\n",
       "      <td>85985.88</td>\n",
       "    </tr>\n",
       "    <tr>\n",
       "      <th>68735</th>\n",
       "      <td>233769</td>\n",
       "      <td>15815690</td>\n",
       "      <td>Akabueze</td>\n",
       "      <td>679</td>\n",
       "      <td>Spain</td>\n",
       "      <td>Male</td>\n",
       "      <td>40.0</td>\n",
       "      <td>3</td>\n",
       "      <td>113348.50</td>\n",
       "      <td>1</td>\n",
       "      <td>1.0</td>\n",
       "      <td>1.0</td>\n",
       "      <td>77789.01</td>\n",
       "    </tr>\n",
       "  </tbody>\n",
       "</table>\n",
       "<p>102067 rows × 13 columns</p>\n",
       "</div>"
      ],
      "text/plain": [
       "           id  CustomerId       Surname  CreditScore Geography  Gender   Age  \\\n",
       "53787  218821    15565706      Akobundu          612    France    Male  40.0   \n",
       "20043  185077    15565706     Onyeorulu          545    France  Female  45.0   \n",
       "47395  212429    15565706          Bird          667    France    Male  41.0   \n",
       "86911  251945    15565706          Hsia          635    France    Male  71.0   \n",
       "15974  181008    15565706      Akobundu          787     Spain    Male  35.0   \n",
       "...       ...         ...           ...          ...       ...     ...   ...   \n",
       "30337  195371    15815660          Tien          757     Spain  Female  20.0   \n",
       "14280  179314    15815690         K'ung          624   Germany    Male  31.0   \n",
       "24725  189759    15815690  Onyemachukwu          590    France    Male  41.0   \n",
       "70389  235423    15815690       Yobanna          582    France  Female  36.0   \n",
       "68735  233769    15815690      Akabueze          679     Spain    Male  40.0   \n",
       "\n",
       "       Tenure    Balance  NumOfProducts  HasCrCard  IsActiveMember  \\\n",
       "53787       1       0.00              1        1.0             0.0   \n",
       "20043       7       0.00              2        1.0             1.0   \n",
       "47395       6  102945.01              1        1.0             0.0   \n",
       "86911       2       0.00              2        1.0             1.0   \n",
       "15974       1       0.00              2        1.0             0.0   \n",
       "...       ...        ...            ...        ...             ...   \n",
       "30337       6       0.00              1        1.0             1.0   \n",
       "14280       5  102933.96              2        0.0             0.0   \n",
       "24725       8       0.00              1        1.0             0.0   \n",
       "70389       6       0.00              2        1.0             1.0   \n",
       "68735       3  113348.50              1        1.0             1.0   \n",
       "\n",
       "       EstimatedSalary  \n",
       "53787         83256.26  \n",
       "20043        127587.22  \n",
       "47395         66214.13  \n",
       "86911         74850.51  \n",
       "15974         83256.26  \n",
       "...                ...  \n",
       "30337        168035.62  \n",
       "14280         61936.60  \n",
       "24725        156791.24  \n",
       "70389         85985.88  \n",
       "68735         77789.01  \n",
       "\n",
       "[102067 rows x 13 columns]"
      ]
     },
     "execution_count": 208,
     "metadata": {},
     "output_type": "execute_result"
    }
   ],
   "source": [
    "df_test[df_test.duplicated(subset=['CustomerId'], keep=False)].sort_values('CustomerId')"
   ]
  },
  {
   "cell_type": "code",
   "execution_count": 210,
   "metadata": {
    "ExecuteTime": {
     "end_time": "2024-01-31T13:03:53.096198Z",
     "start_time": "2024-01-31T13:03:52.394203Z"
    }
   },
   "outputs": [
    {
     "data": {
      "text/html": [
       "<div>\n",
       "<style scoped>\n",
       "    .dataframe tbody tr th:only-of-type {\n",
       "        vertical-align: middle;\n",
       "    }\n",
       "\n",
       "    .dataframe tbody tr th {\n",
       "        vertical-align: top;\n",
       "    }\n",
       "\n",
       "    .dataframe thead th {\n",
       "        text-align: right;\n",
       "    }\n",
       "</style>\n",
       "<table border=\"1\" class=\"dataframe\">\n",
       "  <thead>\n",
       "    <tr style=\"text-align: right;\">\n",
       "      <th></th>\n",
       "      <th>id</th>\n",
       "      <th>CustomerId</th>\n",
       "      <th>Surname</th>\n",
       "      <th>CreditScore</th>\n",
       "      <th>Geography</th>\n",
       "      <th>Gender</th>\n",
       "      <th>Age</th>\n",
       "      <th>Tenure</th>\n",
       "      <th>Balance</th>\n",
       "      <th>NumOfProducts</th>\n",
       "      <th>HasCrCard</th>\n",
       "      <th>IsActiveMember</th>\n",
       "      <th>EstimatedSalary</th>\n",
       "      <th>Exited</th>\n",
       "    </tr>\n",
       "  </thead>\n",
       "  <tbody>\n",
       "  </tbody>\n",
       "</table>\n",
       "</div>"
      ],
      "text/plain": [
       "Empty DataFrame\n",
       "Columns: [id, CustomerId, Surname, CreditScore, Geography, Gender, Age, Tenure, Balance, NumOfProducts, HasCrCard, IsActiveMember, EstimatedSalary, Exited]\n",
       "Index: []"
      ]
     },
     "execution_count": 210,
     "metadata": {},
     "output_type": "execute_result"
    }
   ],
   "source": [
    "# df_train['id'] = df_train.groupby('CustomerId').cumcount() + 1\n",
    "# df_train['CustomerId'] = df_train['CustomerId'].astype(str) + df_train['id'].astype(str)\n",
    "# df_train[df_train.duplicated(('CustomerId'), keep=False)].sort_values('CustomerId')"
   ]
  },
  {
   "cell_type": "code",
   "execution_count": 211,
   "metadata": {
    "ExecuteTime": {
     "end_time": "2024-01-31T13:04:31.441595Z",
     "start_time": "2024-01-31T13:04:30.771641Z"
    }
   },
   "outputs": [
    {
     "data": {
      "text/html": [
       "<div>\n",
       "<style scoped>\n",
       "    .dataframe tbody tr th:only-of-type {\n",
       "        vertical-align: middle;\n",
       "    }\n",
       "\n",
       "    .dataframe tbody tr th {\n",
       "        vertical-align: top;\n",
       "    }\n",
       "\n",
       "    .dataframe thead th {\n",
       "        text-align: right;\n",
       "    }\n",
       "</style>\n",
       "<table border=\"1\" class=\"dataframe\">\n",
       "  <thead>\n",
       "    <tr style=\"text-align: right;\">\n",
       "      <th></th>\n",
       "      <th>id</th>\n",
       "      <th>CustomerId</th>\n",
       "      <th>Surname</th>\n",
       "      <th>CreditScore</th>\n",
       "      <th>Geography</th>\n",
       "      <th>Gender</th>\n",
       "      <th>Age</th>\n",
       "      <th>Tenure</th>\n",
       "      <th>Balance</th>\n",
       "      <th>NumOfProducts</th>\n",
       "      <th>HasCrCard</th>\n",
       "      <th>IsActiveMember</th>\n",
       "      <th>EstimatedSalary</th>\n",
       "    </tr>\n",
       "  </thead>\n",
       "  <tbody>\n",
       "  </tbody>\n",
       "</table>\n",
       "</div>"
      ],
      "text/plain": [
       "Empty DataFrame\n",
       "Columns: [id, CustomerId, Surname, CreditScore, Geography, Gender, Age, Tenure, Balance, NumOfProducts, HasCrCard, IsActiveMember, EstimatedSalary]\n",
       "Index: []"
      ]
     },
     "execution_count": 211,
     "metadata": {},
     "output_type": "execute_result"
    }
   ],
   "source": [
    "# df_test['id'] = df_test.groupby('CustomerId').cumcount() + 1\n",
    "# df_test['CustomerId'] = df_test['CustomerId'].astype(str) + df_test['id'].astype(str)\n",
    "# df_test[df_test.duplicated(('CustomerId'), keep=False)].sort_values('CustomerId')"
   ]
  },
  {
   "cell_type": "markdown",
   "metadata": {},
   "source": [
    "## Data transformation"
   ]
  },
  {
   "cell_type": "code",
   "execution_count": 29,
   "metadata": {
    "ExecuteTime": {
     "end_time": "2024-01-31T10:01:54.102812Z",
     "start_time": "2024-01-31T10:01:54.090812Z"
    }
   },
   "outputs": [],
   "source": [
    "# df_train[['Age', 'HasCrCard', 'IsActiveMember']] = df_train[['Age', 'HasCrCard', 'IsActiveMember']].astype('int')\n",
    "# df_test[['Age', 'HasCrCard', 'IsActiveMember']] = df_test[['Age', 'HasCrCard', 'IsActiveMember']].astype('int')"
   ]
  },
  {
   "cell_type": "markdown",
   "metadata": {},
   "source": [
    "# Visualisation"
   ]
  },
  {
   "cell_type": "code",
   "execution_count": 33,
   "metadata": {
    "ExecuteTime": {
     "end_time": "2024-01-31T10:01:54.549854Z",
     "start_time": "2024-01-31T10:01:54.201859Z"
    }
   },
   "outputs": [
    {
     "data": {
      "image/png": "[encoded data removed]",
      "text/plain": [
       "<Figure size 432x288 with 1 Axes>"
      ]
     },
     "metadata": {
      "needs_background": "light"
     },
     "output_type": "display_data"
    }
   ],
   "source": [
    "# Bar plot counting Exited\n",
    "sns.countplot(x='Exited', data=df_train)\n",
    "\n",
    "# Add a title and Show\n",
    "plt.title('Exited Counts')\n",
    "plt.show()\n",
    "\n",
    "# Many more customers churned to leave."
   ]
  },
  {
   "cell_type": "markdown",
   "metadata": {},
   "source": [
    "## Gender"
   ]
  },
  {
   "cell_type": "code",
   "execution_count": 34,
   "metadata": {
    "ExecuteTime": {
     "end_time": "2024-01-31T10:01:54.852812Z",
     "start_time": "2024-01-31T10:01:54.553813Z"
    }
   },
   "outputs": [
    {
     "data": {
      "image/png": "[encoded data removed]",
      "text/plain": [
       "<Figure size 432x288 with 1 Axes>"
      ]
     },
     "metadata": {
      "needs_background": "light"
     },
     "output_type": "display_data"
    }
   ],
   "source": [
    "# Bar plot counting Gender\n",
    "sns.countplot(x='Gender', data=df_train)\n",
    "\n",
    "# Add a title and Show\n",
    "plt.title('Exited Counts by Gender')\n",
    "plt.show()\n",
    "\n",
    "# No matter customers leave or not, more male customers found this bank."
   ]
  },
  {
   "cell_type": "code",
   "execution_count": 35,
   "metadata": {
    "ExecuteTime": {
     "end_time": "2024-01-31T10:01:55.291855Z",
     "start_time": "2024-01-31T10:01:54.856817Z"
    }
   },
   "outputs": [
    {
     "data": {
      "image/png": "[encoded data removed]",
      "text/plain": [
       "<Figure size 432x288 with 1 Axes>"
      ]
     },
     "metadata": {
      "needs_background": "light"
     },
     "output_type": "display_data"
    }
   ],
   "source": [
    "# By Gender\n",
    "sns.countplot(x='Gender', hue='Exited', data=df_train)\n",
    "\n",
    "# Add a title and Show\n",
    "plt.title('Exited/Not-Exited Counts by Gender')\n",
    "plt.show()\n",
    "\n",
    "# Still, more males remain not 'Exited'. More females leave than male customers as per ratio.\n",
    "# Taget group to promote more should be Female gourp."
   ]
  },
  {
   "cell_type": "markdown",
   "metadata": {},
   "source": [
    "## Geography"
   ]
  },
  {
   "cell_type": "code",
   "execution_count": 36,
   "metadata": {
    "ExecuteTime": {
     "end_time": "2024-01-31T10:01:55.593859Z",
     "start_time": "2024-01-31T10:01:55.295813Z"
    }
   },
   "outputs": [
    {
     "data": {
      "image/png": "[encoded data removed]",
      "text/plain": [
       "<Figure size 432x288 with 1 Axes>"
      ]
     },
     "metadata": {
      "needs_background": "light"
     },
     "output_type": "display_data"
    }
   ],
   "source": [
    "# By Location\n",
    "sns.countplot(x='Geography', data=df_train)\n",
    "\n",
    "# Add a title and Show\n",
    "plt.title('Exited Counts by Location')\n",
    "plt.show()\n",
    "\n",
    "# Customers in France use the bank the most and Spain and Germany followed by with no big difference each other."
   ]
  },
  {
   "cell_type": "code",
   "execution_count": 37,
   "metadata": {
    "ExecuteTime": {
     "end_time": "2024-01-31T10:01:56.039858Z",
     "start_time": "2024-01-31T10:01:55.597813Z"
    }
   },
   "outputs": [
    {
     "data": {
      "image/png": "[encoded data removed]",
      "text/plain": [
       "<Figure size 432x288 with 1 Axes>"
      ]
     },
     "metadata": {
      "needs_background": "light"
     },
     "output_type": "display_data"
    }
   ],
   "source": [
    "# By Location\n",
    "sns.countplot(x='Geography', hue='Exited', data=df_train)\n",
    "\n",
    "# Add a title and Show\n",
    "plt.title('Exited/Not-Exited Counts by Location')\n",
    "plt.show()\n",
    "\n",
    "# However, customers in Spain remain more as per ratio and customers in Germany leave more as per ratio."
   ]
  },
  {
   "cell_type": "code",
   "execution_count": 38,
   "metadata": {
    "ExecuteTime": {
     "end_time": "2024-01-31T10:01:57.237813Z",
     "start_time": "2024-01-31T10:01:56.042812Z"
    }
   },
   "outputs": [
    {
     "data": {
      "image/png": "[encoded data removed]",
      "text/plain": [
       "<Figure size 762.375x360 with 2 Axes>"
      ]
     },
     "metadata": {
      "needs_background": "light"
     },
     "output_type": "display_data"
    }
   ],
   "source": [
    "# 'By Geography'\n",
    "geo = sns.catplot(x='Geography', hue='Exited', col='Gender', data=df_train, kind='count')\n",
    "\n",
    "# Subtitles\n",
    "geo.set_titles('Exited Counts by Location - {col_name}')\n",
    "\n",
    "# Main title and Show\n",
    "plt.subplots_adjust(top=0.85)\n",
    "geo.fig.suptitle('Exited Counts by Location and Gender')\n",
    "plt.show()\n",
    "\n",
    "# Among them, the 'Exited' rate of female German customers is overwhelmingly high.\n",
    "# So, we should consider whether this group(Female-German) of people as likely to be a target group or low-value/potential group."
   ]
  },
  {
   "cell_type": "code",
   "execution_count": 39,
   "metadata": {
    "ExecuteTime": {
     "end_time": "2024-01-31T10:01:57.661858Z",
     "start_time": "2024-01-31T10:01:57.241813Z"
    }
   },
   "outputs": [
    {
     "data": {
      "image/png": "[encoded data removed]",
      "text/plain": [
       "<Figure size 576x576 with 1 Axes>"
      ]
     },
     "metadata": {},
     "output_type": "display_data"
    }
   ],
   "source": [
    "# df with columns of 'Geography', 'Gender' and 'Exited'\n",
    "pie_data = df_train.groupby(['Geography', 'Gender', 'Exited']).size().unstack()\n",
    "\n",
    "# Descending sort out: count value of 'Exited'=1\n",
    "sorted_pie_data = pie_data.sort_values(by=1, ascending=False)\n",
    "\n",
    "# Pie plot \n",
    "fig, axes = plt.subplots(nrows=1, ncols=1, figsize=(8, 8))\n",
    "labels = sorted_pie_data.index\n",
    "sizes = sorted_pie_data[1].fillna(0).values if 1 in sorted_pie_data.columns else [0] * len(sorted_pie_data)\n",
    "# if statement: if there is no column with 'Exited' value of 1\n",
    "# .values: df -> np array\n",
    "\n",
    "colors = ['#ff9999', '#ffc000', '#8fd9b6', '#d395d0']\n",
    "wedgeprops = {'width': 0.7, 'edgecolor': 'w', 'linewidth': 5}\n",
    "\n",
    "axes.pie(sizes, labels=labels, autopct='%1.1f%%', startangle=90, counterclock=False, colors=colors, wedgeprops=wedgeprops)\n",
    "axes.set_title('Exited Counts by Location and Gender (High to Low)')\n",
    "\n",
    "plt.show()"
   ]
  },
  {
   "cell_type": "markdown",
   "metadata": {},
   "source": [
    "## Number of Products"
   ]
  },
  {
   "cell_type": "code",
   "execution_count": 40,
   "metadata": {
    "ExecuteTime": {
     "end_time": "2024-01-31T10:01:58.087315Z",
     "start_time": "2024-01-31T10:01:57.665813Z"
    }
   },
   "outputs": [
    {
     "data": {
      "image/png": "[encoded data removed]",
      "text/plain": [
       "<Figure size 432x288 with 1 Axes>"
      ]
     },
     "metadata": {
      "needs_background": "light"
     },
     "output_type": "display_data"
    }
   ],
   "source": [
    "# By NumOfProducts\n",
    "sns.countplot(x='NumOfProducts', hue='Exited', data=df_train)\n",
    "\n",
    "# Add a title and Show\n",
    "plt.title('Exited Counts by Gender')\n",
    "plt.show()"
   ]
  },
  {
   "cell_type": "code",
   "execution_count": 41,
   "metadata": {
    "ExecuteTime": {
     "end_time": "2024-01-31T10:01:59.749049Z",
     "start_time": "2024-01-31T10:01:58.092048Z"
    }
   },
   "outputs": [
    {
     "data": {
      "image/png": "[encoded data removed]",
      "text/plain": [
       "<Figure size 906.375x360 with 3 Axes>"
      ]
     },
     "metadata": {
      "needs_background": "light"
     },
     "output_type": "display_data"
    }
   ],
   "source": [
    "import seaborn as sns\n",
    "import matplotlib.pyplot as plt\n",
    "\n",
    "# Assuming df_train is your DataFrame\n",
    "sns.catplot(x='NumOfProducts', hue='Exited', col='Geography', data=df_train, kind='count', height=5, aspect=0.8)\n",
    "\n",
    "# Add a title\n",
    "plt.suptitle('Exited Counts NumOfProducts and Exited by Geography', y=1.02)\n",
    "\n",
    "# Show the plot\n",
    "plt.show()"
   ]
  },
  {
   "cell_type": "markdown",
   "metadata": {},
   "source": [
    "## Numerical Data"
   ]
  },
  {
   "cell_type": "markdown",
   "metadata": {},
   "source": [
    "### Age"
   ]
  },
  {
   "cell_type": "code",
   "execution_count": 42,
   "metadata": {
    "ExecuteTime": {
     "end_time": "2024-01-31T10:02:03.783090Z",
     "start_time": "2024-01-31T10:01:59.756049Z"
    }
   },
   "outputs": [
    {
     "data": {
      "image/png": "[encoded data removed]",
      "text/plain": [
       "<Figure size 720x432 with 2 Axes>"
      ]
     },
     "metadata": {
      "needs_background": "light"
     },
     "output_type": "display_data"
    }
   ],
   "source": [
    "# Original Age Distribution\n",
    "plt.figure(figsize=(10, 6))\n",
    "# plt.subplot(2, 1, 1)\n",
    "plt.subplot(2, 2, 1)\n",
    "plt.hist(df_train['Age'], bins=30, density=True, color='tomato', alpha=0.7, edgecolor='black')\n",
    "sns.kdeplot(df_train['Age'], color='blue')\n",
    "plt.title('Original Age Distribution')\n",
    "\n",
    "# Log-transformed Age Distribution\n",
    "# plt.subplot(2, 1, 2)\n",
    "plt.subplot(2, 2, 2)\n",
    "plt.hist(np.log(df_train['Age']), bins=30, density=True, color='tomato', alpha=0.7, edgecolor='black')\n",
    "sns.kdeplot(np.log(df_train['Age']), color='blue')\n",
    "plt.title('Log-transformed Age Distribution')\n",
    "\n",
    "# Adjust layout for better visualization\n",
    "plt.tight_layout()\n",
    "\n",
    "# Show the plots\n",
    "plt.show()"
   ]
  },
  {
   "cell_type": "markdown",
   "metadata": {},
   "source": [
    "### Tenure"
   ]
  },
  {
   "cell_type": "code",
   "execution_count": 43,
   "metadata": {
    "ExecuteTime": {
     "end_time": "2024-01-31T10:02:04.167148Z",
     "start_time": "2024-01-31T10:02:03.787091Z"
    }
   },
   "outputs": [
    {
     "data": {
      "image/png": "[encoded data removed]",
      "text/plain": [
       "<Figure size 432x288 with 1 Axes>"
      ]
     },
     "metadata": {
      "needs_background": "light"
     },
     "output_type": "display_data"
    }
   ],
   "source": [
    "# Bar plot counting Exited\n",
    "sns.countplot(x='Tenure', data=df_train)\n",
    "\n",
    "# Add a title and Show\n",
    "plt.title('Tenure Counts')\n",
    "plt.show()"
   ]
  },
  {
   "cell_type": "markdown",
   "metadata": {},
   "source": [
    "### Balance"
   ]
  },
  {
   "cell_type": "code",
   "execution_count": 44,
   "metadata": {
    "ExecuteTime": {
     "end_time": "2024-01-31T10:02:04.183093Z",
     "start_time": "2024-01-31T10:02:04.171057Z"
    }
   },
   "outputs": [
    {
     "data": {
      "text/plain": [
       "89648"
      ]
     },
     "execution_count": 44,
     "metadata": {},
     "output_type": "execute_result"
    }
   ],
   "source": [
    "(df_train['Balance'] == 0).sum()"
   ]
  },
  {
   "cell_type": "code",
   "execution_count": 45,
   "metadata": {
    "ExecuteTime": {
     "end_time": "2024-01-31T10:02:04.199049Z",
     "start_time": "2024-01-31T10:02:04.187098Z"
    }
   },
   "outputs": [
    {
     "data": {
      "text/plain": [
       "75386"
      ]
     },
     "execution_count": 45,
     "metadata": {},
     "output_type": "execute_result"
    }
   ],
   "source": [
    "(df_train['Balance'] != 0).sum()"
   ]
  },
  {
   "cell_type": "code",
   "execution_count": 46,
   "metadata": {
    "ExecuteTime": {
     "end_time": "2024-01-31T10:02:06.174048Z",
     "start_time": "2024-01-31T10:02:04.203057Z"
    }
   },
   "outputs": [
    {
     "data": {
      "image/png": "[encoded data removed]",
      "text/plain": [
       "<Figure size 720x432 with 1 Axes>"
      ]
     },
     "metadata": {
      "needs_background": "light"
     },
     "output_type": "display_data"
    }
   ],
   "source": [
    "import numpy as np\n",
    "import matplotlib.pyplot as plt\n",
    "import seaborn as sns\n",
    "\n",
    "plt.figure(figsize=(10, 6))\n",
    "\n",
    "plt.hist(df_train['Balance'], bins=30, density=True, color='tomato', alpha=0.7, edgecolor='black')\n",
    "sns.kdeplot(df_train['Balance'], color='blue')\n",
    "plt.title('Original Balance Distribution')\n",
    "# Show the plots\n",
    "plt.show()"
   ]
  },
  {
   "cell_type": "code",
   "execution_count": 47,
   "metadata": {
    "ExecuteTime": {
     "end_time": "2024-01-31T10:02:06.238058Z",
     "start_time": "2024-01-31T10:02:06.178057Z"
    }
   },
   "outputs": [
    {
     "name": "stdout",
     "output_type": "stream",
     "text": [
      "Minimum non-zero balance: 18.33\n",
      "Minimum non-zero balance: 250898.09\n"
     ]
    }
   ],
   "source": [
    "print(\"Minimum non-zero balance:\", df_train[df_train['Balance'] != 0]['Balance'].min())\n",
    "print(\"Minimum non-zero balance:\", df_train[df_train['Balance'] != 0]['Balance'].max())"
   ]
  },
  {
   "cell_type": "code",
   "execution_count": 48,
   "metadata": {
    "ExecuteTime": {
     "end_time": "2024-01-31T10:02:08.240053Z",
     "start_time": "2024-01-31T10:02:06.242056Z"
    }
   },
   "outputs": [
    {
     "data": {
      "image/png": "[encoded data removed]",
      "text/plain": [
       "<Figure size 720x432 with 2 Axes>"
      ]
     },
     "metadata": {
      "needs_background": "light"
     },
     "output_type": "display_data"
    }
   ],
   "source": [
    "import matplotlib.pyplot as plt\n",
    "\n",
    "plt.figure(figsize=(10, 6))\n",
    "\n",
    "# Train data\n",
    "non_zero_balance_train = df_train[df_train['Balance'] != 0]['Balance']\n",
    "\n",
    "plt.subplot(2, 2, 1)\n",
    "plt.hist(non_zero_balance_train, bins=30, color='skyblue', edgecolor='black')\n",
    "plt.title('Train data of Balance (excluding zero values)')\n",
    "plt.xlabel('Balance')\n",
    "plt.ylabel('Frequency')\n",
    "plt.grid(True)\n",
    "\n",
    "# Test data\n",
    "non_zero_balance_test = df_test[df_test['Balance'] != 0]['Balance']\n",
    "\n",
    "plt.subplot(2, 2, 2)\n",
    "plt.hist(non_zero_balance_test, bins=30, color='skyblue', edgecolor='black')\n",
    "plt.title('Test data of Balance (excluding zero values)')\n",
    "plt.xlabel('Balance')\n",
    "plt.ylabel('Frequency')\n",
    "plt.grid(True)\n",
    "\n",
    "plt.tight_layout()\n",
    "plt.show()"
   ]
  },
  {
   "cell_type": "markdown",
   "metadata": {},
   "source": [
    "### CreditScore"
   ]
  },
  {
   "cell_type": "code",
   "execution_count": 49,
   "metadata": {
    "ExecuteTime": {
     "end_time": "2024-01-31T10:02:08.967154Z",
     "start_time": "2024-01-31T10:02:08.244046Z"
    }
   },
   "outputs": [
    {
     "data": {
      "image/png": "[encoded data removed]",
      "text/plain": [
       "<Figure size 720x432 with 1 Axes>"
      ]
     },
     "metadata": {
      "needs_background": "light"
     },
     "output_type": "display_data"
    }
   ],
   "source": [
    "plt.figure(figsize=(10, 6))\n",
    "\n",
    "# Histogram with KDE\n",
    "sns.distplot(df_train['CreditScore'], hist_kws={'edgecolor':'black'})\n",
    "# sns.distplot(df_train['CreditScore'], kde=True, color='skyblue', hist_kws={'edgecolor':'black'})\n",
    "\n",
    "# Add a title\n",
    "plt.title('Distribution of CreditScore')\n",
    "\n",
    "plt.show()"
   ]
  },
  {
   "cell_type": "markdown",
   "metadata": {},
   "source": [
    "### EstimatedSalary"
   ]
  },
  {
   "cell_type": "code",
   "execution_count": 50,
   "metadata": {
    "ExecuteTime": {
     "end_time": "2024-01-31T10:02:09.673179Z",
     "start_time": "2024-01-31T10:02:08.971056Z"
    }
   },
   "outputs": [
    {
     "data": {
      "image/png": "[encoded data removed]",
      "text/plain": [
       "<Figure size 720x432 with 1 Axes>"
      ]
     },
     "metadata": {
      "needs_background": "light"
     },
     "output_type": "display_data"
    }
   ],
   "source": [
    "plt.figure(figsize=(10, 6))\n",
    "\n",
    "# Histogram with KDE\n",
    "sns.distplot(df_train['EstimatedSalary'], kde=True, color='skyblue', hist_kws={'edgecolor':'black'})\n",
    "\n",
    "# Add a title\n",
    "plt.title('Distribution of EstimatedSalary')\n",
    "\n",
    "plt.show()"
   ]
  },
  {
   "cell_type": "code",
   "execution_count": 51,
   "metadata": {
    "ExecuteTime": {
     "end_time": "2024-01-31T10:02:09.736095Z",
     "start_time": "2024-01-31T10:02:09.677057Z"
    }
   },
   "outputs": [
    {
     "data": {
      "text/html": [
       "<div>\n",
       "<style scoped>\n",
       "    .dataframe tbody tr th:only-of-type {\n",
       "        vertical-align: middle;\n",
       "    }\n",
       "\n",
       "    .dataframe tbody tr th {\n",
       "        vertical-align: top;\n",
       "    }\n",
       "\n",
       "    .dataframe thead th {\n",
       "        text-align: right;\n",
       "    }\n",
       "</style>\n",
       "<table border=\"1\" class=\"dataframe\">\n",
       "  <thead>\n",
       "    <tr style=\"text-align: right;\">\n",
       "      <th></th>\n",
       "      <th>id</th>\n",
       "      <th>CustomerId</th>\n",
       "      <th>Surname</th>\n",
       "      <th>CreditScore</th>\n",
       "      <th>Geography</th>\n",
       "      <th>Gender</th>\n",
       "      <th>Age</th>\n",
       "      <th>Tenure</th>\n",
       "      <th>Balance</th>\n",
       "      <th>NumOfProducts</th>\n",
       "      <th>HasCrCard</th>\n",
       "      <th>IsActiveMember</th>\n",
       "      <th>EstimatedSalary</th>\n",
       "      <th>Exited</th>\n",
       "    </tr>\n",
       "  </thead>\n",
       "  <tbody>\n",
       "    <tr>\n",
       "      <th>0</th>\n",
       "      <td>0</td>\n",
       "      <td>15674932</td>\n",
       "      <td>Okwudilichukwu</td>\n",
       "      <td>668</td>\n",
       "      <td>France</td>\n",
       "      <td>Male</td>\n",
       "      <td>33.0</td>\n",
       "      <td>3</td>\n",
       "      <td>0.00</td>\n",
       "      <td>2</td>\n",
       "      <td>1.0</td>\n",
       "      <td>0.0</td>\n",
       "      <td>181449.97</td>\n",
       "      <td>0</td>\n",
       "    </tr>\n",
       "    <tr>\n",
       "      <th>1</th>\n",
       "      <td>1</td>\n",
       "      <td>15749177</td>\n",
       "      <td>Okwudiliolisa</td>\n",
       "      <td>627</td>\n",
       "      <td>France</td>\n",
       "      <td>Male</td>\n",
       "      <td>33.0</td>\n",
       "      <td>1</td>\n",
       "      <td>0.00</td>\n",
       "      <td>2</td>\n",
       "      <td>1.0</td>\n",
       "      <td>1.0</td>\n",
       "      <td>49503.50</td>\n",
       "      <td>0</td>\n",
       "    </tr>\n",
       "    <tr>\n",
       "      <th>2</th>\n",
       "      <td>2</td>\n",
       "      <td>15694510</td>\n",
       "      <td>Hsueh</td>\n",
       "      <td>678</td>\n",
       "      <td>France</td>\n",
       "      <td>Male</td>\n",
       "      <td>40.0</td>\n",
       "      <td>10</td>\n",
       "      <td>0.00</td>\n",
       "      <td>2</td>\n",
       "      <td>1.0</td>\n",
       "      <td>0.0</td>\n",
       "      <td>184866.69</td>\n",
       "      <td>0</td>\n",
       "    </tr>\n",
       "    <tr>\n",
       "      <th>3</th>\n",
       "      <td>3</td>\n",
       "      <td>15741417</td>\n",
       "      <td>Kao</td>\n",
       "      <td>581</td>\n",
       "      <td>France</td>\n",
       "      <td>Male</td>\n",
       "      <td>34.0</td>\n",
       "      <td>2</td>\n",
       "      <td>148882.54</td>\n",
       "      <td>1</td>\n",
       "      <td>1.0</td>\n",
       "      <td>1.0</td>\n",
       "      <td>84560.88</td>\n",
       "      <td>0</td>\n",
       "    </tr>\n",
       "    <tr>\n",
       "      <th>4</th>\n",
       "      <td>4</td>\n",
       "      <td>15766172</td>\n",
       "      <td>Chiemenam</td>\n",
       "      <td>716</td>\n",
       "      <td>Spain</td>\n",
       "      <td>Male</td>\n",
       "      <td>33.0</td>\n",
       "      <td>5</td>\n",
       "      <td>0.00</td>\n",
       "      <td>2</td>\n",
       "      <td>1.0</td>\n",
       "      <td>1.0</td>\n",
       "      <td>15068.83</td>\n",
       "      <td>0</td>\n",
       "    </tr>\n",
       "    <tr>\n",
       "      <th>...</th>\n",
       "      <td>...</td>\n",
       "      <td>...</td>\n",
       "      <td>...</td>\n",
       "      <td>...</td>\n",
       "      <td>...</td>\n",
       "      <td>...</td>\n",
       "      <td>...</td>\n",
       "      <td>...</td>\n",
       "      <td>...</td>\n",
       "      <td>...</td>\n",
       "      <td>...</td>\n",
       "      <td>...</td>\n",
       "      <td>...</td>\n",
       "      <td>...</td>\n",
       "    </tr>\n",
       "    <tr>\n",
       "      <th>165029</th>\n",
       "      <td>165029</td>\n",
       "      <td>15667085</td>\n",
       "      <td>Meng</td>\n",
       "      <td>667</td>\n",
       "      <td>Spain</td>\n",
       "      <td>Female</td>\n",
       "      <td>33.0</td>\n",
       "      <td>2</td>\n",
       "      <td>0.00</td>\n",
       "      <td>1</td>\n",
       "      <td>1.0</td>\n",
       "      <td>1.0</td>\n",
       "      <td>131834.75</td>\n",
       "      <td>0</td>\n",
       "    </tr>\n",
       "    <tr>\n",
       "      <th>165030</th>\n",
       "      <td>165030</td>\n",
       "      <td>15665521</td>\n",
       "      <td>Okechukwu</td>\n",
       "      <td>792</td>\n",
       "      <td>France</td>\n",
       "      <td>Male</td>\n",
       "      <td>35.0</td>\n",
       "      <td>3</td>\n",
       "      <td>0.00</td>\n",
       "      <td>1</td>\n",
       "      <td>0.0</td>\n",
       "      <td>0.0</td>\n",
       "      <td>131834.45</td>\n",
       "      <td>0</td>\n",
       "    </tr>\n",
       "    <tr>\n",
       "      <th>165031</th>\n",
       "      <td>165031</td>\n",
       "      <td>15664752</td>\n",
       "      <td>Hsia</td>\n",
       "      <td>565</td>\n",
       "      <td>France</td>\n",
       "      <td>Male</td>\n",
       "      <td>31.0</td>\n",
       "      <td>5</td>\n",
       "      <td>0.00</td>\n",
       "      <td>1</td>\n",
       "      <td>1.0</td>\n",
       "      <td>1.0</td>\n",
       "      <td>127429.56</td>\n",
       "      <td>0</td>\n",
       "    </tr>\n",
       "    <tr>\n",
       "      <th>165032</th>\n",
       "      <td>165032</td>\n",
       "      <td>15689614</td>\n",
       "      <td>Hsiung</td>\n",
       "      <td>554</td>\n",
       "      <td>Spain</td>\n",
       "      <td>Female</td>\n",
       "      <td>30.0</td>\n",
       "      <td>7</td>\n",
       "      <td>161533.00</td>\n",
       "      <td>1</td>\n",
       "      <td>0.0</td>\n",
       "      <td>1.0</td>\n",
       "      <td>71173.03</td>\n",
       "      <td>0</td>\n",
       "    </tr>\n",
       "    <tr>\n",
       "      <th>165033</th>\n",
       "      <td>165033</td>\n",
       "      <td>15732798</td>\n",
       "      <td>Ulyanov</td>\n",
       "      <td>850</td>\n",
       "      <td>France</td>\n",
       "      <td>Male</td>\n",
       "      <td>31.0</td>\n",
       "      <td>1</td>\n",
       "      <td>0.00</td>\n",
       "      <td>1</td>\n",
       "      <td>1.0</td>\n",
       "      <td>0.0</td>\n",
       "      <td>61581.79</td>\n",
       "      <td>1</td>\n",
       "    </tr>\n",
       "  </tbody>\n",
       "</table>\n",
       "<p>165034 rows × 14 columns</p>\n",
       "</div>"
      ],
      "text/plain": [
       "            id  CustomerId         Surname  CreditScore Geography  Gender  \\\n",
       "0            0    15674932  Okwudilichukwu          668    France    Male   \n",
       "1            1    15749177   Okwudiliolisa          627    France    Male   \n",
       "2            2    15694510           Hsueh          678    France    Male   \n",
       "3            3    15741417             Kao          581    France    Male   \n",
       "4            4    15766172       Chiemenam          716     Spain    Male   \n",
       "...        ...         ...             ...          ...       ...     ...   \n",
       "165029  165029    15667085            Meng          667     Spain  Female   \n",
       "165030  165030    15665521       Okechukwu          792    France    Male   \n",
       "165031  165031    15664752            Hsia          565    France    Male   \n",
       "165032  165032    15689614          Hsiung          554     Spain  Female   \n",
       "165033  165033    15732798         Ulyanov          850    France    Male   \n",
       "\n",
       "         Age  Tenure    Balance  NumOfProducts  HasCrCard  IsActiveMember  \\\n",
       "0       33.0       3       0.00              2        1.0             0.0   \n",
       "1       33.0       1       0.00              2        1.0             1.0   \n",
       "2       40.0      10       0.00              2        1.0             0.0   \n",
       "3       34.0       2  148882.54              1        1.0             1.0   \n",
       "4       33.0       5       0.00              2        1.0             1.0   \n",
       "...      ...     ...        ...            ...        ...             ...   \n",
       "165029  33.0       2       0.00              1        1.0             1.0   \n",
       "165030  35.0       3       0.00              1        0.0             0.0   \n",
       "165031  31.0       5       0.00              1        1.0             1.0   \n",
       "165032  30.0       7  161533.00              1        0.0             1.0   \n",
       "165033  31.0       1       0.00              1        1.0             0.0   \n",
       "\n",
       "        EstimatedSalary  Exited  \n",
       "0             181449.97       0  \n",
       "1              49503.50       0  \n",
       "2             184866.69       0  \n",
       "3              84560.88       0  \n",
       "4              15068.83       0  \n",
       "...                 ...     ...  \n",
       "165029        131834.75       0  \n",
       "165030        131834.45       0  \n",
       "165031        127429.56       0  \n",
       "165032         71173.03       0  \n",
       "165033         61581.79       1  \n",
       "\n",
       "[165034 rows x 14 columns]"
      ]
     },
     "execution_count": 51,
     "metadata": {},
     "output_type": "execute_result"
    }
   ],
   "source": [
    "df_train"
   ]
  },
  {
   "cell_type": "markdown",
   "metadata": {},
   "source": [
    "# Data Preprocessing"
   ]
  },
  {
   "cell_type": "markdown",
   "metadata": {},
   "source": [
    "## Predictors"
   ]
  },
  {
   "cell_type": "markdown",
   "metadata": {},
   "source": [
    "### Geography & Gender "
   ]
  },
  {
   "cell_type": "code",
   "execution_count": 212,
   "metadata": {
    "ExecuteTime": {
     "end_time": "2024-01-31T13:05:04.955540Z",
     "start_time": "2024-01-31T13:05:04.680461Z"
    }
   },
   "outputs": [],
   "source": [
    "# Geography - 'France:0', 'Germany:1', 'Spain:2' \n",
    "# Gender - 'Female:0', 'Male:1' \n",
    "label_encoder = LabelEncoder()\n",
    "\n",
    "# Train data \n",
    "df_train['Geography'] = label_encoder.fit_transform(df_train['Geography'])\n",
    "df_train['Gender'] = label_encoder.fit_transform(df_train['Gender'])\n",
    "\n",
    "# Test data \n",
    "df_test['Geography'] = label_encoder.fit_transform(df_test['Geography'])\n",
    "df_test['Gender'] = label_encoder.fit_transform(df_test['Gender'])"
   ]
  },
  {
   "cell_type": "code",
   "execution_count": 213,
   "metadata": {
    "ExecuteTime": {
     "end_time": "2024-01-31T13:05:05.739228Z",
     "start_time": "2024-01-31T13:05:05.694227Z"
    }
   },
   "outputs": [
    {
     "data": {
      "text/html": [
       "<div>\n",
       "<style scoped>\n",
       "    .dataframe tbody tr th:only-of-type {\n",
       "        vertical-align: middle;\n",
       "    }\n",
       "\n",
       "    .dataframe tbody tr th {\n",
       "        vertical-align: top;\n",
       "    }\n",
       "\n",
       "    .dataframe thead th {\n",
       "        text-align: right;\n",
       "    }\n",
       "</style>\n",
       "<table border=\"1\" class=\"dataframe\">\n",
       "  <thead>\n",
       "    <tr style=\"text-align: right;\">\n",
       "      <th></th>\n",
       "      <th>id</th>\n",
       "      <th>CustomerId</th>\n",
       "      <th>Surname</th>\n",
       "      <th>CreditScore</th>\n",
       "      <th>Geography</th>\n",
       "      <th>Gender</th>\n",
       "      <th>Age</th>\n",
       "      <th>Tenure</th>\n",
       "      <th>Balance</th>\n",
       "      <th>NumOfProducts</th>\n",
       "      <th>HasCrCard</th>\n",
       "      <th>IsActiveMember</th>\n",
       "      <th>EstimatedSalary</th>\n",
       "      <th>Exited</th>\n",
       "    </tr>\n",
       "  </thead>\n",
       "  <tbody>\n",
       "    <tr>\n",
       "      <th>0</th>\n",
       "      <td>1</td>\n",
       "      <td>156749321</td>\n",
       "      <td>Okwudilichukwu</td>\n",
       "      <td>668</td>\n",
       "      <td>0</td>\n",
       "      <td>1</td>\n",
       "      <td>33.0</td>\n",
       "      <td>3</td>\n",
       "      <td>0.00</td>\n",
       "      <td>2</td>\n",
       "      <td>1.0</td>\n",
       "      <td>0.0</td>\n",
       "      <td>181449.97</td>\n",
       "      <td>0</td>\n",
       "    </tr>\n",
       "    <tr>\n",
       "      <th>1</th>\n",
       "      <td>1</td>\n",
       "      <td>157491771</td>\n",
       "      <td>Okwudiliolisa</td>\n",
       "      <td>627</td>\n",
       "      <td>0</td>\n",
       "      <td>1</td>\n",
       "      <td>33.0</td>\n",
       "      <td>1</td>\n",
       "      <td>0.00</td>\n",
       "      <td>2</td>\n",
       "      <td>1.0</td>\n",
       "      <td>1.0</td>\n",
       "      <td>49503.50</td>\n",
       "      <td>0</td>\n",
       "    </tr>\n",
       "    <tr>\n",
       "      <th>2</th>\n",
       "      <td>1</td>\n",
       "      <td>156945101</td>\n",
       "      <td>Hsueh</td>\n",
       "      <td>678</td>\n",
       "      <td>0</td>\n",
       "      <td>1</td>\n",
       "      <td>40.0</td>\n",
       "      <td>10</td>\n",
       "      <td>0.00</td>\n",
       "      <td>2</td>\n",
       "      <td>1.0</td>\n",
       "      <td>0.0</td>\n",
       "      <td>184866.69</td>\n",
       "      <td>0</td>\n",
       "    </tr>\n",
       "    <tr>\n",
       "      <th>3</th>\n",
       "      <td>1</td>\n",
       "      <td>157414171</td>\n",
       "      <td>Kao</td>\n",
       "      <td>581</td>\n",
       "      <td>0</td>\n",
       "      <td>1</td>\n",
       "      <td>34.0</td>\n",
       "      <td>2</td>\n",
       "      <td>148882.54</td>\n",
       "      <td>1</td>\n",
       "      <td>1.0</td>\n",
       "      <td>1.0</td>\n",
       "      <td>84560.88</td>\n",
       "      <td>0</td>\n",
       "    </tr>\n",
       "    <tr>\n",
       "      <th>4</th>\n",
       "      <td>1</td>\n",
       "      <td>157661721</td>\n",
       "      <td>Chiemenam</td>\n",
       "      <td>716</td>\n",
       "      <td>2</td>\n",
       "      <td>1</td>\n",
       "      <td>33.0</td>\n",
       "      <td>5</td>\n",
       "      <td>0.00</td>\n",
       "      <td>2</td>\n",
       "      <td>1.0</td>\n",
       "      <td>1.0</td>\n",
       "      <td>15068.83</td>\n",
       "      <td>0</td>\n",
       "    </tr>\n",
       "  </tbody>\n",
       "</table>\n",
       "</div>"
      ],
      "text/plain": [
       "   id CustomerId         Surname  CreditScore  Geography  Gender   Age  \\\n",
       "0   1  156749321  Okwudilichukwu          668          0       1  33.0   \n",
       "1   1  157491771   Okwudiliolisa          627          0       1  33.0   \n",
       "2   1  156945101           Hsueh          678          0       1  40.0   \n",
       "3   1  157414171             Kao          581          0       1  34.0   \n",
       "4   1  157661721       Chiemenam          716          2       1  33.0   \n",
       "\n",
       "   Tenure    Balance  NumOfProducts  HasCrCard  IsActiveMember  \\\n",
       "0       3       0.00              2        1.0             0.0   \n",
       "1       1       0.00              2        1.0             1.0   \n",
       "2      10       0.00              2        1.0             0.0   \n",
       "3       2  148882.54              1        1.0             1.0   \n",
       "4       5       0.00              2        1.0             1.0   \n",
       "\n",
       "   EstimatedSalary  Exited  \n",
       "0        181449.97       0  \n",
       "1         49503.50       0  \n",
       "2        184866.69       0  \n",
       "3         84560.88       0  \n",
       "4         15068.83       0  "
      ]
     },
     "execution_count": 213,
     "metadata": {},
     "output_type": "execute_result"
    }
   ],
   "source": [
    "df_train.head()"
   ]
  },
  {
   "cell_type": "markdown",
   "metadata": {},
   "source": [
    "### Age: log transformation"
   ]
  },
  {
   "cell_type": "code",
   "execution_count": 214,
   "metadata": {
    "ExecuteTime": {
     "end_time": "2024-01-31T13:05:44.437523Z",
     "start_time": "2024-01-31T13:05:44.410480Z"
    }
   },
   "outputs": [],
   "source": [
    "# Train data\n",
    "df_train['Age'] = np.log(df_train['Age'])\n",
    "\n",
    "# Test data\n",
    "df_test['Age'] = np.log(df_test['Age'])"
   ]
  },
  {
   "cell_type": "markdown",
   "metadata": {},
   "source": [
    "### Balance: Label Encoding"
   ]
  },
  {
   "cell_type": "code",
   "execution_count": 215,
   "metadata": {
    "ExecuteTime": {
     "end_time": "2024-01-31T13:05:45.435941Z",
     "start_time": "2024-01-31T13:05:45.335942Z"
    }
   },
   "outputs": [
    {
     "data": {
      "text/html": [
       "<div>\n",
       "<style scoped>\n",
       "    .dataframe tbody tr th:only-of-type {\n",
       "        vertical-align: middle;\n",
       "    }\n",
       "\n",
       "    .dataframe tbody tr th {\n",
       "        vertical-align: top;\n",
       "    }\n",
       "\n",
       "    .dataframe thead th {\n",
       "        text-align: right;\n",
       "    }\n",
       "</style>\n",
       "<table border=\"1\" class=\"dataframe\">\n",
       "  <thead>\n",
       "    <tr style=\"text-align: right;\">\n",
       "      <th></th>\n",
       "      <th>Balance</th>\n",
       "      <th>Balance_label</th>\n",
       "      <th>Balance_label_encoded</th>\n",
       "    </tr>\n",
       "  </thead>\n",
       "  <tbody>\n",
       "    <tr>\n",
       "      <th>0</th>\n",
       "      <td>0.00</td>\n",
       "      <td>0</td>\n",
       "      <td>0</td>\n",
       "    </tr>\n",
       "    <tr>\n",
       "      <th>1</th>\n",
       "      <td>0.00</td>\n",
       "      <td>0</td>\n",
       "      <td>0</td>\n",
       "    </tr>\n",
       "    <tr>\n",
       "      <th>2</th>\n",
       "      <td>0.00</td>\n",
       "      <td>0</td>\n",
       "      <td>0</td>\n",
       "    </tr>\n",
       "    <tr>\n",
       "      <th>3</th>\n",
       "      <td>148882.54</td>\n",
       "      <td>100,001~150,000</td>\n",
       "      <td>3</td>\n",
       "    </tr>\n",
       "    <tr>\n",
       "      <th>4</th>\n",
       "      <td>0.00</td>\n",
       "      <td>0</td>\n",
       "      <td>0</td>\n",
       "    </tr>\n",
       "  </tbody>\n",
       "</table>\n",
       "</div>"
      ],
      "text/plain": [
       "     Balance    Balance_label  Balance_label_encoded\n",
       "0       0.00                0                      0\n",
       "1       0.00                0                      0\n",
       "2       0.00                0                      0\n",
       "3  148882.54  100,001~150,000                      3\n",
       "4       0.00                0                      0"
      ]
     },
     "execution_count": 215,
     "metadata": {},
     "output_type": "execute_result"
    }
   ],
   "source": [
    "# Train data\n",
    "df_train['Balance_label'] = pd.cut(df_train['Balance'], \n",
    "                                    bins=[-np.inf, 1, 50000, 100000, 150000, 200000, np.inf],\n",
    "                                    labels=['0', '1~50,000', '50,001~100,000', '100,001~150,000', '150,001~200,000', '200,001~'])\n",
    "\n",
    "# Mapping\n",
    "encoding_map = {'0': 0, '1~50,000': 1, '50,001~100,000': 2, '100,001~150,000': 3, '150,001~200,000': 4, '200,001~': 5}\n",
    "df_train['Balance_label_encoded'] = df_train['Balance_label'].map(encoding_map)\n",
    "# Encoding\n",
    "df_train['Balance_label_encoded'] =  label_encoder.fit_transform(df_train['Balance_label_encoded'])\n",
    "# Print\n",
    "df_train[['Balance', 'Balance_label', 'Balance_label_encoded']].head()"
   ]
  },
  {
   "cell_type": "code",
   "execution_count": 216,
   "metadata": {
    "ExecuteTime": {
     "end_time": "2024-01-31T13:05:46.486346Z",
     "start_time": "2024-01-31T13:05:46.418388Z"
    }
   },
   "outputs": [
    {
     "data": {
      "text/html": [
       "<div>\n",
       "<style scoped>\n",
       "    .dataframe tbody tr th:only-of-type {\n",
       "        vertical-align: middle;\n",
       "    }\n",
       "\n",
       "    .dataframe tbody tr th {\n",
       "        vertical-align: top;\n",
       "    }\n",
       "\n",
       "    .dataframe thead th {\n",
       "        text-align: right;\n",
       "    }\n",
       "</style>\n",
       "<table border=\"1\" class=\"dataframe\">\n",
       "  <thead>\n",
       "    <tr style=\"text-align: right;\">\n",
       "      <th></th>\n",
       "      <th>Balance</th>\n",
       "      <th>Balance_label</th>\n",
       "      <th>Balance_label_encoded</th>\n",
       "    </tr>\n",
       "  </thead>\n",
       "  <tbody>\n",
       "    <tr>\n",
       "      <th>0</th>\n",
       "      <td>0.00</td>\n",
       "      <td>0</td>\n",
       "      <td>0</td>\n",
       "    </tr>\n",
       "    <tr>\n",
       "      <th>1</th>\n",
       "      <td>0.00</td>\n",
       "      <td>0</td>\n",
       "      <td>0</td>\n",
       "    </tr>\n",
       "    <tr>\n",
       "      <th>2</th>\n",
       "      <td>0.00</td>\n",
       "      <td>0</td>\n",
       "      <td>0</td>\n",
       "    </tr>\n",
       "    <tr>\n",
       "      <th>3</th>\n",
       "      <td>0.00</td>\n",
       "      <td>0</td>\n",
       "      <td>0</td>\n",
       "    </tr>\n",
       "    <tr>\n",
       "      <th>4</th>\n",
       "      <td>121263.62</td>\n",
       "      <td>100,001~150,000</td>\n",
       "      <td>3</td>\n",
       "    </tr>\n",
       "  </tbody>\n",
       "</table>\n",
       "</div>"
      ],
      "text/plain": [
       "     Balance    Balance_label  Balance_label_encoded\n",
       "0       0.00                0                      0\n",
       "1       0.00                0                      0\n",
       "2       0.00                0                      0\n",
       "3       0.00                0                      0\n",
       "4  121263.62  100,001~150,000                      3"
      ]
     },
     "execution_count": 216,
     "metadata": {},
     "output_type": "execute_result"
    }
   ],
   "source": [
    "# Test data\n",
    "df_test['Balance_label'] = pd.cut(df_test['Balance'], \n",
    "                                    bins=[-np.inf, 1, 50000, 100000, 150000, 200000, np.inf],\n",
    "                                    labels=['0', '1~50,000', '50,001~100,000', '100,001~150,000', '150,001~200,000', '200,001~'])\n",
    "\n",
    "# Mapping\n",
    "encoding_map = {'0': 0, '1~50,000': 1, '50,001~100,000': 2, '100,001~150,000': 3, '150,001~200,000': 4, '200,001~': 5}\n",
    "df_test['Balance_label_encoded'] = df_test['Balance_label'].map(encoding_map)\n",
    "# Encoding\n",
    "df_test['Balance_label_encoded'] =  label_encoder.fit_transform(df_test['Balance_label_encoded'])\n",
    "# Print\n",
    "df_test[['Balance', 'Balance_label', 'Balance_label_encoded']].head()"
   ]
  },
  {
   "cell_type": "markdown",
   "metadata": {},
   "source": [
    "## Drop columns"
   ]
  },
  {
   "cell_type": "code",
   "execution_count": 223,
   "metadata": {
    "ExecuteTime": {
     "end_time": "2024-01-31T13:07:28.539287Z",
     "start_time": "2024-01-31T13:07:28.505332Z"
    }
   },
   "outputs": [],
   "source": [
    "# Train data \n",
    "df_train.drop(['id', 'CustomerId', 'Surname', 'Balance', 'Balance_label'], axis=1, inplace=True)\n",
    "# Test data \n",
    "df_test.drop(['id', 'CustomerId', 'Surname', 'Balance', 'Balance_label'], axis=1, inplace=True)"
   ]
  },
  {
   "cell_type": "markdown",
   "metadata": {},
   "source": [
    "## Target value(Imbalance class): ADASYN"
   ]
  },
  {
   "cell_type": "code",
   "execution_count": 58,
   "metadata": {
    "ExecuteTime": {
     "end_time": "2024-01-31T10:02:13.511745Z",
     "start_time": "2024-01-31T10:02:10.288524Z"
    }
   },
   "outputs": [],
   "source": [
    "y = df_train['Exited']\n",
    "X = df_train.drop('Exited', axis=1)\n",
    "\n",
    "# Split the dataset into training and testing sets\n",
    "X_train, X_test, y_train, y_test = train_test_split(X, y, test_size=0.2, random_state=42)\n",
    "\n",
    "# Oversampling 'y_train' by ADASYN \n",
    "adasyn = ADASYN(sampling_strategy='auto', random_state=42)\n",
    "X_train, y_train = adasyn.fit_resample(X_train, y_train)"
   ]
  },
  {
   "cell_type": "code",
   "execution_count": 59,
   "metadata": {
    "ExecuteTime": {
     "end_time": "2024-01-31T10:02:14.207830Z",
     "start_time": "2024-01-31T10:02:13.516705Z"
    }
   },
   "outputs": [
    {
     "data": {
      "image/png": "[encoded data removed]",
      "text/plain": [
       "<Figure size 864x432 with 2 Axes>"
      ]
     },
     "metadata": {
      "needs_background": "light"
     },
     "output_type": "display_data"
    }
   ],
   "source": [
    "# Create subplots\n",
    "fig, axes = plt.subplots(1, 2, figsize=(12, 6))\n",
    "\n",
    "sns.countplot(df_train['Exited'], ax=axes[0])\n",
    "axes[0].set_title('Exited Counts on original dataset')\n",
    "\n",
    "sns.countplot(y_train, ax=axes[1])\n",
    "axes[1].set_title('Exited Counts oversampled by ADASYN')\n",
    "\n",
    "# Show the plot\n",
    "plt.tight_layout()\n",
    "plt.show()"
   ]
  },
  {
   "cell_type": "markdown",
   "metadata": {},
   "source": [
    "# Modelling"
   ]
  },
  {
   "cell_type": "markdown",
   "metadata": {},
   "source": [
    "## XGBoost: Bayes Optimisation"
   ]
  },
  {
   "cell_type": "code",
   "execution_count": 60,
   "metadata": {
    "ExecuteTime": {
     "end_time": "2024-01-31T10:08:17.184901Z",
     "start_time": "2024-01-31T10:02:14.211701Z"
    }
   },
   "outputs": [
    {
     "name": "stderr",
     "output_type": "stream",
     "text": [
      "C:\\Users\\ohhom\\AppData\\Roaming\\Python\\Python37\\site-packages\\xgboost\\sklearn.py:1146: UserWarning: The use of label encoder in XGBClassifier is deprecated and will be removed in a future release. To remove this warning, do the following: 1) Pass option use_label_encoder=False when constructing XGBClassifier object; and 2) Encode your labels (y) as integers starting with 0, i.e. 0, 1, 2, ..., [num_class - 1].\n",
      "  warnings.warn(label_encoder_deprecation_msg, UserWarning)\n"
     ]
    },
    {
     "name": "stdout",
     "output_type": "stream",
     "text": [
      "[10:07:53] WARNING: C:/Users/Administrator/workspace/xgboost-win64_release_1.4.0/src/learner.cc:1095: Starting in XGBoost 1.3.0, the default evaluation metric used with the objective 'binary:logistic' was changed from 'error' to 'logloss'. Explicitly set eval_metric if you'd like to restore the old behavior.\n"
     ]
    },
    {
     "data": {
      "text/plain": [
       "BayesSearchCV(cv=5,\n",
       "              estimator=XGBClassifier(base_score=None, booster=None,\n",
       "                                      colsample_bylevel=None,\n",
       "                                      colsample_bynode=None,\n",
       "                                      colsample_bytree=None, gamma=None,\n",
       "                                      gpu_id=None, importance_type='gain',\n",
       "                                      interaction_constraints=None,\n",
       "                                      learning_rate=None, max_delta_step=None,\n",
       "                                      max_depth=None, min_child_weight=None,\n",
       "                                      missing=nan, monotone_constraints=None,\n",
       "                                      n_estimators=100, n_job...\n",
       "                                      scale_pos_weight=None, subsample=None,\n",
       "                                      tree_method=None,\n",
       "                                      validate_parameters=None,\n",
       "                                      verbosity=None),\n",
       "              n_iter=10, n_jobs=-1, scoring='accuracy',\n",
       "              search_spaces={'colsample_bytree': [0.6, 0.7, 0.8, 0.9, 1.0],\n",
       "                             'gamma': [0, 0.1, 0.2, 0.3, 0.4],\n",
       "                             'max_depth': [3, 4, 5, 6, 7, 8, 9],\n",
       "                             'min_child_weight': [3, 4, 5, 6, 7, 8, 9],\n",
       "                             'n_estimators': array([10, 30, 50, 70, 90]),\n",
       "                             'subsample': [0.6, 0.7, 0.8, 0.9, 1.0]})"
      ]
     },
     "execution_count": 60,
     "metadata": {},
     "output_type": "execute_result"
    }
   ],
   "source": [
    "from xgboost import XGBClassifier\n",
    "from skopt import BayesSearchCV\n",
    "from skopt.space import Real, Categorical, Integer\n",
    "from sklearn.metrics import accuracy_score, f1_score, recall_score, precision_score\n",
    "\n",
    "xgb = XGBClassifier()\n",
    "\n",
    "param_dist = {\n",
    "    \"max_depth\": [3, 4, 5, 6, 7, 8, 9],\n",
    "    \"min_child_weight\": [3, 4, 5, 6, 7, 8, 9],\n",
    "    \"gamma\": [0, 0.1, 0.2, 0.3, 0.4],\n",
    "    \"subsample\": [0.6, 0.7, 0.8, 0.9, 1.0],\n",
    "    \"colsample_bytree\": [0.6, 0.7, 0.8, 0.9, 1.0],\n",
    "    \"n_estimators\": np.arange(10, 100, 20),  \n",
    "}\n",
    "\n",
    "bayes_search = BayesSearchCV(\n",
    "    xgb,\n",
    "    search_spaces=param_dist,\n",
    "    n_iter=10,\n",
    "    cv=5,\n",
    "    n_jobs=-1,\n",
    "    scoring='accuracy',  \n",
    ")\n",
    "\n",
    "bayes_search.fit(X_train, y_train)"
   ]
  },
  {
   "cell_type": "code",
   "execution_count": 61,
   "metadata": {
    "ExecuteTime": {
     "end_time": "2024-01-31T10:08:17.200897Z",
     "start_time": "2024-01-31T10:08:17.188941Z"
    }
   },
   "outputs": [
    {
     "name": "stdout",
     "output_type": "stream",
     "text": [
      "Best Parameters for XGBoost Model are:\n",
      "\n",
      " OrderedDict([('colsample_bytree', 0.7), ('gamma', 0.0), ('max_depth', 8), ('min_child_weight', 8), ('n_estimators', 70), ('subsample', 0.9)])\n"
     ]
    }
   ],
   "source": [
    "best_parameters = bayes_search.best_params_\n",
    "print(\"Best Parameters for XGBoost Model are:\\n\\n\", best_parameters)"
   ]
  },
  {
   "cell_type": "code",
   "execution_count": 62,
   "metadata": {
    "ExecuteTime": {
     "end_time": "2024-01-31T10:08:41.245533Z",
     "start_time": "2024-01-31T10:08:17.204943Z"
    }
   },
   "outputs": [
    {
     "name": "stdout",
     "output_type": "stream",
     "text": [
      "[10:08:17] WARNING: C:/Users/Administrator/workspace/xgboost-win64_release_1.4.0/src/learner.cc:1095: Starting in XGBoost 1.3.0, the default evaluation metric used with the objective 'binary:logistic' was changed from 'error' to 'logloss'. Explicitly set eval_metric if you'd like to restore the old behavior.\n"
     ]
    },
    {
     "data": {
      "text/plain": [
       "XGBClassifier(base_score=0.5, booster='gbtree', colsample_bylevel=1,\n",
       "              colsample_bynode=1, colsample_bytree=0.7, gamma=0.0, gpu_id=-1,\n",
       "              importance_type='gain', interaction_constraints='',\n",
       "              learning_rate=0.300000012, max_delta_step=0, max_depth=8,\n",
       "              min_child_weight=8, missing=nan, monotone_constraints='()',\n",
       "              n_estimators=70, n_jobs=8, num_parallel_tree=1, random_state=0,\n",
       "              reg_alpha=0, reg_lambda=1, scale_pos_weight=1, subsample=0.9,\n",
       "              tree_method='exact', validate_parameters=1, verbosity=None)"
      ]
     },
     "execution_count": 62,
     "metadata": {},
     "output_type": "execute_result"
    }
   ],
   "source": [
    "best_xgb = XGBClassifier(**best_parameters)\n",
    "best_xgb.fit(X_train, y_train)"
   ]
  },
  {
   "cell_type": "code",
   "execution_count": 63,
   "metadata": {
    "ExecuteTime": {
     "end_time": "2024-01-31T10:08:41.729483Z",
     "start_time": "2024-01-31T10:08:41.249529Z"
    }
   },
   "outputs": [
    {
     "name": "stdout",
     "output_type": "stream",
     "text": [
      "Accuracy Score on Training Data:  91.95 %\n",
      "Accuracy Score on Testing Data:  86.16 %\n"
     ]
    }
   ],
   "source": [
    "y_train_pred = xgb.predict(X_train)\n",
    "y_test_pred = xgb.predict(X_test)\n",
    "\n",
    "print(\"Accuracy Score on Training Data: \", round(accuracy_score(y_train, y_train_pred) * 100, 2), \"%\")\n",
    "print(\"Accuracy Score on Testing Data: \", round(accuracy_score(y_test, y_test_pred) * 100, 2), \"%\")"
   ]
  },
  {
   "cell_type": "code",
   "execution_count": 64,
   "metadata": {
    "ExecuteTime": {
     "end_time": "2024-01-31T10:08:41.837537Z",
     "start_time": "2024-01-31T10:08:41.735525Z"
    }
   },
   "outputs": [
    {
     "name": "stdout",
     "output_type": "stream",
     "text": [
      "F1 Score:  0.8616354106704638\n",
      "Recall Score:  0.8616354106704638\n",
      "Precision Score:  0.8616354106704638\n"
     ]
    }
   ],
   "source": [
    "print(\"F1 Score: \", f1_score(y_test, y_test_pred, average=\"micro\"))\n",
    "print(\"Recall Score: \", recall_score(y_test, y_test_pred, average=\"micro\"))\n",
    "print(\"Precision Score: \", precision_score(y_test, y_test_pred, average=\"micro\"))"
   ]
  },
  {
   "cell_type": "code",
   "execution_count": 65,
   "metadata": {
    "ExecuteTime": {
     "end_time": "2024-01-31T10:08:41.853531Z",
     "start_time": "2024-01-31T10:08:41.842486Z"
    },
    "scrolled": false
   },
   "outputs": [
    {
     "name": "stdout",
     "output_type": "stream",
     "text": [
      "Best Parameters for XGBoost Model are:\n",
      "\n",
      " OrderedDict([('colsample_bytree', 0.7), ('gamma', 0.0), ('max_depth', 8), ('min_child_weight', 8), ('n_estimators', 70), ('subsample', 0.9)])\n"
     ]
    }
   ],
   "source": [
    "best_parameters = bayes_search.best_params_\n",
    "print(\"Best Parameters for XGBoost Model are:\\n\\n\", best_parameters)"
   ]
  },
  {
   "cell_type": "markdown",
   "metadata": {},
   "source": [
    "## XGBoost: GA optimisation"
   ]
  },
  {
   "cell_type": "code",
   "execution_count": 66,
   "metadata": {
    "ExecuteTime": {
     "end_time": "2024-01-31T10:08:41.869533Z",
     "start_time": "2024-01-31T10:08:41.857486Z"
    }
   },
   "outputs": [],
   "source": [
    "# def evaluate_GA(idx, x_train, y_train, x_test, y_test):\n",
    "#     # Extract hyperparameters from the index\n",
    "#     max_depth = int(idx[0])\n",
    "#     min_child_weight = idx[1]\n",
    "#     gamma = idx[2]\n",
    "#     subsample = min(1.0, max(0.0, idx[3]))  \n",
    "#     colsample_bytree = min(1.0, max(0.0, idx[4]))\n",
    "#     n_estimators = int(idx[5])\n",
    "\n",
    "#     # Create the optimized model with the given hyperparameters\n",
    "#     model = XGBClassifier(\n",
    "#         max_depth=max_depth,\n",
    "#         min_child_weight=min_child_weight,\n",
    "#         gamma=gamma,\n",
    "#         subsample=subsample,\n",
    "#         colsample_bytree=colsample_bytree,\n",
    "#         n_estimators=n_estimators,\n",
    "#         random_state=42,\n",
    "#         eval_metric='error',\n",
    "#         use_label_encoder=False\n",
    "#     )\n",
    "\n",
    "#     # Fit the optimized model on the training data\n",
    "#     model.fit(x_train, y_train)\n",
    "\n",
    "#     # Make predictions using the optimized model on the test data\n",
    "#     GA_pred = model.predict(x_test)\n",
    "\n",
    "#     # Evaluate the model\n",
    "#     GA_accuracy = accuracy_score(y_test, GA_pred)\n",
    "#     GA_f1 = f1_score(y_test, GA_pred, average=\"micro\")\n",
    "#     GA_recall = recall_score(y_test, GA_pred, average=\"micro\")\n",
    "#     GA_precision = precision_score(y_test, GA_pred, average=\"micro\", zero_division=1)\n",
    "\n",
    "#     return round(GA_accuracy, 2), round(GA_f1, 2), round(GA_recall, 2), round(GA_precision, 2)"
   ]
  },
  {
   "cell_type": "code",
   "execution_count": 67,
   "metadata": {
    "ExecuteTime": {
     "end_time": "2024-01-31T10:08:41.901490Z",
     "start_time": "2024-01-31T10:08:41.873484Z"
    }
   },
   "outputs": [],
   "source": [
    "def evaluate_GA(idx, x_train, y_train, x_test, y_test):\n",
    "    # Convert hyperparameters to integers where necessary\n",
    "    n_estimators = int(idx[0])\n",
    "    max_depth = int(idx[2])\n",
    "\n",
    "    # Create the optimized model with the given hyperparameters\n",
    "    model = XGBClassifier(\n",
    "                          n_estimators=n_estimators, \n",
    "                          learning_rate=idx[1], \n",
    "                          max_depth=max_depth, \n",
    "                          gamma=idx[3], \n",
    "                          random_state=42,\n",
    "                          eval_metric='error',\n",
    "                          use_label_encoder=False\n",
    "                         )\n",
    "\n",
    "    # Fit the optimized model on the training data\n",
    "    model.fit(x_train, y_train)\n",
    "\n",
    "    # Make predictions using the optimized model on the test data\n",
    "    GA_pred = model.predict(x_test)\n",
    "\n",
    "    # Evaluate the model\n",
    "    GA_accuracy = accuracy_score(y_test, GA_pred)\n",
    "    GA_f1 = f1_score(y_test, GA_pred, average=\"micro\")\n",
    "    GA_recall = recall_score(y_test, GA_pred, average=\"micro\")\n",
    "    GA_precision = precision_score(y_test, GA_pred, average=\"micro\", zero_division=1)\n",
    "\n",
    "    return round(GA_accuracy, 2), round(GA_f1, 2), round(GA_recall, 2), round(GA_precision, 2)"
   ]
  },
  {
   "cell_type": "code",
   "execution_count": 68,
   "metadata": {
    "ExecuteTime": {
     "end_time": "2024-01-31T10:08:41.933531Z",
     "start_time": "2024-01-31T10:08:41.914485Z"
    }
   },
   "outputs": [],
   "source": [
    "# def optimize_GA(x_train, y_train, x_test, y_test):\n",
    "#     # Genetic Algorithm optimization using DEAP\n",
    "#     creator.create(\"FitnessMax\", base.Fitness, weights=(1.0, 1.0, 1.0, 1.0))\n",
    "#     creator.create(\"Individual\", list, fitness=creator.FitnessMax)\n",
    "#     toolbox = base.Toolbox()\n",
    "#     toolbox.register(\"attr_float\", np.random.uniform, 0.01, 1.0)\n",
    "#     toolbox.register(\"individual\", tools.initRepeat, creator.Individual, toolbox.attr_float, n=6)  \n",
    "#     toolbox.register(\"population\", tools.initRepeat, list, toolbox.individual)\n",
    "#     toolbox.register(\"mate\", tools.cxTwoPoint)\n",
    "#     toolbox.register(\"mutate\", tools.mutUniformInt, low=1, up=10, indpb=0.2)\n",
    "#     toolbox.register(\"select\", tools.selTournament, tournsize=3)\n",
    "#     toolbox.register(\"evaluate\", evaluate_GA, x_train=x_train, y_train=y_train, x_test=x_test, y_test=y_test)\n",
    "\n",
    "#     # Create the initial population\n",
    "#     population = toolbox.population(n=100)\n",
    "\n",
    "#     # Initialize a list to store the best fitness values over generations\n",
    "#     best_model = None\n",
    "#     best_accuracy = 0.0\n",
    "\n",
    "#     # Initialize lists to store performance metrics for plotting\n",
    "#     accuracy_values = []\n",
    "#     f1_values = []\n",
    "#     recall_values = []\n",
    "#     precision_values = []\n",
    "\n",
    "#     for gen in range(1, 21):  # Replace 21 with the number of generations you want to run\n",
    "#         population = algorithms.varAnd(population, toolbox, cxpb=0.5, mutpb=0.2)\n",
    "#         fitness_values = list(map(toolbox.evaluate, population))\n",
    "\n",
    "#         # Extract evaluation metrics from fitness values\n",
    "#         accuracy_values.append([ind[0] for ind in fitness_values])\n",
    "#         f1_values.append([ind[1] for ind in fitness_values])\n",
    "#         recall_values.append([ind[2] for ind in fitness_values])\n",
    "#         precision_values.append([ind[3] for ind in fitness_values])\n",
    "\n",
    "#         # Update best individual and best accuracy\n",
    "#         best_idx = tools.selBest(population, k=1)[0]\n",
    "#         if max(accuracy_values[-1]) > best_accuracy:\n",
    "#             best_accuracy = max(accuracy_values[-1])\n",
    "#             best_model = XGBClassifier(\n",
    "#                 n_estimators=int(best_idx[0]),\n",
    "#                 learning_rate=best_idx[1],\n",
    "#                 max_depth=int(best_idx[2]),\n",
    "#                 gamma=best_idx[3],\n",
    "#                 random_state=42\n",
    "#             )\n",
    "\n",
    "#         # Print the best fitness value for each generation\n",
    "#         print(f\"Generation {gen}, Best Accuracy: {max(accuracy_values[-1])}, Best F1 Score: {max(f1_values[-1])}, Best Recall: {max(recall_values[-1])}, Best Precision: {max(precision_values[-1])}\")\n",
    "\n",
    "#     # Plot the progress of optimization over generations\n",
    "#     gen = range(1, 21)\n",
    "#     plt.plot(gen, [max(values) for values in accuracy_values], label='Accuracy')\n",
    "#     plt.plot(gen, [max(values) for values in f1_values], label='F1 Score')\n",
    "#     plt.plot(gen, [max(values) for values in recall_values], label='Recall')\n",
    "#     plt.plot(gen, [max(values) for values in precision_values], label='Precision')\n",
    "#     plt.title(\"Genetic Algorithm Optimization Progress\")\n",
    "#     plt.xlabel(\"Generation\")\n",
    "#     plt.ylabel(\"Performance Metric\")\n",
    "#     plt.legend()\n",
    "#     plt.show()\n",
    "\n",
    "#     return best_model"
   ]
  },
  {
   "cell_type": "code",
   "execution_count": 85,
   "metadata": {
    "ExecuteTime": {
     "end_time": "2024-01-31T10:31:32.620823Z",
     "start_time": "2024-01-31T10:31:32.578864Z"
    }
   },
   "outputs": [],
   "source": [
    "def optimize_GA(x_train, y_train, x_test, y_test):\n",
    "    # Genetic Algorithm optimization using DEAP\n",
    "    creator.create(\"FitnessMax\", base.Fitness, weights=(1.0, 1.0, 1.0, 1.0))\n",
    "    creator.create(\"Individual\", list, fitness=creator.FitnessMax)\n",
    "    toolbox = base.Toolbox()\n",
    "    toolbox.register(\"attr_float\", np.random.uniform, 0.01, 1.0)\n",
    "    toolbox.register(\"individual\", tools.initRepeat, creator.Individual, toolbox.attr_float, n=4)\n",
    "    toolbox.register(\"population\", tools.initRepeat, list, toolbox.individual)\n",
    "    toolbox.register(\"mate\", tools.cxTwoPoint)\n",
    "    toolbox.register(\"mutate\", tools.mutUniformInt, low=1, up=10, indpb=0.2)\n",
    "    toolbox.register(\"select\", tools.selTournament, tournsize=3)\n",
    "    toolbox.register(\"evaluate\", evaluate_GA, x_train=x_train, y_train=y_train, x_test=x_test, y_test=y_test)\n",
    "\n",
    "    # Create the initial population\n",
    "    population = toolbox.population(n=100)\n",
    "\n",
    "    # Initialize a list to store the best fitness values over generations\n",
    "    accuracy_values = []\n",
    "    f1_values = []\n",
    "    recall_values = []\n",
    "    precision_values = []\n",
    "    best_model = None\n",
    "    best_accuracy = 0.0\n",
    "\n",
    "    for gen in range(1, 21):  # Replace 21 with the number of generations you want to run\n",
    "        population = algorithms.varAnd(population, toolbox, cxpb=0.5, mutpb=0.2)\n",
    "        fitness_values = list(map(toolbox.evaluate, population))\n",
    "        for ind, fit in zip(population, fitness_values):\n",
    "            ind.fitness.values = fit\n",
    "        best_idx = tools.selBest(population, k=1)[0]\n",
    "\n",
    "        # Calculate the evaluation metrics for the best individual\n",
    "        accuracy, f1, recall, precision = evaluate_GA(best_idx, x_train, y_train, x_test, y_test)\n",
    "        accuracy_values.append(accuracy)\n",
    "        f1_values.append(f1)\n",
    "        recall_values.append(recall)\n",
    "        precision_values.append(precision)\n",
    "\n",
    "        # Store the best model if its accuracy is higher than the current best\n",
    "        if accuracy > best_accuracy:\n",
    "            best_accuracy = accuracy\n",
    "            best_model = XGBClassifier(\n",
    "                n_estimators=int(best_idx[0]),\n",
    "                learning_rate=best_idx[1],\n",
    "                max_depth=int(best_idx[2]),\n",
    "                gamma=best_idx[3],\n",
    "                random_state=42)\n",
    "\n",
    "        # Print the best fitness value for each generation\n",
    "        print(f\"Generation {gen}, Accuracy: {accuracy}, F1 Score: {f1}, Recall: {recall}, Precision: {precision}\")\n",
    "\n",
    "    # Plot the progress of optimization over generations\n",
    "    gen = range(1, 21)\n",
    "    plt.plot(gen, accuracy_values, label='Accuracy')\n",
    "    plt.plot(gen, f1_values, label='F1 Score')\n",
    "    plt.plot(gen, recall_values, label='Recall')\n",
    "    plt.plot(gen, precision_values, label='Precision')\n",
    "    plt.title(\"Genetic Algorithm Optimization Progress\")\n",
    "    plt.xlabel(\"Generation\")\n",
    "    plt.ylabel(\"Performance Metric\")\n",
    "    plt.legend()\n",
    "    plt.show()\n",
    "\n",
    "    return best_model"
   ]
  },
  {
   "cell_type": "code",
   "execution_count": 2,
   "metadata": {
    "ExecuteTime": {
     "end_time": "2024-02-05T10:00:19.196082Z",
     "start_time": "2024-02-05T10:00:19.181091Z"
    },
    "scrolled": true
   },
   "outputs": [],
   "source": [
    "# optimize_GA function running\n",
    "best_GAmodel = optimize_GA(X_train, y_train, X_test, y_test)"
   ]
  },
  {
   "cell_type": "code",
   "execution_count": 71,
   "metadata": {
    "ExecuteTime": {
     "end_time": "2024-01-31T10:26:22.121400Z",
     "start_time": "2024-01-31T10:26:22.097405Z"
    }
   },
   "outputs": [
    {
     "data": {
      "text/plain": [
       "XGBClassifier(base_score=None, booster=None, colsample_bylevel=None,\n",
       "              colsample_bynode=None, colsample_bytree=None,\n",
       "              gamma=0.48329890633789135, gpu_id=None, importance_type='gain',\n",
       "              interaction_constraints=None, learning_rate=0.896507722294917,\n",
       "              max_delta_step=None, max_depth=6, min_child_weight=None,\n",
       "              missing=nan, monotone_constraints=None, n_estimators=10,\n",
       "              n_jobs=None, num_parallel_tree=None, random_state=42,\n",
       "              reg_alpha=None, reg_lambda=None, scale_pos_weight=None,\n",
       "              subsample=None, tree_method=None, validate_parameters=None,\n",
       "              verbosity=None)"
      ]
     },
     "execution_count": 71,
     "metadata": {},
     "output_type": "execute_result"
    }
   ],
   "source": [
    "best_GAmodel"
   ]
  },
  {
   "cell_type": "code",
   "execution_count": 72,
   "metadata": {
    "ExecuteTime": {
     "end_time": "2024-01-31T10:26:25.508540Z",
     "start_time": "2024-01-31T10:26:22.126410Z"
    }
   },
   "outputs": [
    {
     "name": "stderr",
     "output_type": "stream",
     "text": [
      "C:\\Users\\ohhom\\AppData\\Roaming\\Python\\Python37\\site-packages\\xgboost\\sklearn.py:1146: UserWarning: The use of label encoder in XGBClassifier is deprecated and will be removed in a future release. To remove this warning, do the following: 1) Pass option use_label_encoder=False when constructing XGBClassifier object; and 2) Encode your labels (y) as integers starting with 0, i.e. 0, 1, 2, ..., [num_class - 1].\n",
      "  warnings.warn(label_encoder_deprecation_msg, UserWarning)\n"
     ]
    },
    {
     "name": "stdout",
     "output_type": "stream",
     "text": [
      "[10:26:22] WARNING: C:/Users/Administrator/workspace/xgboost-win64_release_1.4.0/src/learner.cc:1095: Starting in XGBoost 1.3.0, the default evaluation metric used with the objective 'binary:logistic' was changed from 'error' to 'logloss'. Explicitly set eval_metric if you'd like to restore the old behavior.\n"
     ]
    }
   ],
   "source": [
    "# Use the best model \n",
    "best_GAmodel.fit(X_train, y_train)\n",
    "train_GA_pred = best_GAmodel.predict(X_train)\n",
    "GA_pred = best_GAmodel.predict(X_test)"
   ]
  },
  {
   "cell_type": "code",
   "execution_count": 73,
   "metadata": {
    "ExecuteTime": {
     "end_time": "2024-01-31T10:26:25.601537Z",
     "start_time": "2024-01-31T10:26:25.514543Z"
    }
   },
   "outputs": [
    {
     "name": "stdout",
     "output_type": "stream",
     "text": [
      "Accuracy Score on Training Data:  90.42 %\n",
      "Accuracy Score on Testing Data:  85.52 %\n"
     ]
    }
   ],
   "source": [
    "print(\"Accuracy Score on Training Data: \",round(accuracy_score(y_train,train_GA_pred)*100,2),\"%\")\n",
    "print(\"Accuracy Score on Testing Data: \",round(accuracy_score(y_test, GA_pred)*100,2),\"%\")"
   ]
  },
  {
   "cell_type": "code",
   "execution_count": 74,
   "metadata": {
    "ExecuteTime": {
     "end_time": "2024-01-31T10:26:25.679539Z",
     "start_time": "2024-01-31T10:26:25.606539Z"
    }
   },
   "outputs": [
    {
     "name": "stdout",
     "output_type": "stream",
     "text": [
      "Accuracy Score on Training Data:  90.42 %\n",
      "Accuracy Score on Testing Data:  85.52 %\n"
     ]
    }
   ],
   "source": [
    "print(\"Accuracy Score on Training Data: \",round(accuracy_score(y_train,train_GA_pred)*100,2),\"%\")\n",
    "print(\"Accuracy Score on Testing Data: \",round(accuracy_score(y_test, GA_pred)*100,2),\"%\")"
   ]
  },
  {
   "cell_type": "code",
   "execution_count": 75,
   "metadata": {
    "ExecuteTime": {
     "end_time": "2024-01-31T10:26:25.775545Z",
     "start_time": "2024-01-31T10:26:25.682539Z"
    }
   },
   "outputs": [
    {
     "name": "stdout",
     "output_type": "stream",
     "text": [
      "GA_f1: 0.6409312805107023\n",
      "GA_recall: 0.6709119496855346\n",
      "GA_precision: 0.6135154565061107\n"
     ]
    }
   ],
   "source": [
    "# Evaluation Tools\n",
    "precision = precision_score(y_test, GA_pred)\n",
    "recall = recall_score(y_test, GA_pred)\n",
    "f1 = f1_score(y_test, GA_pred)\n",
    "\n",
    "# Print the results\n",
    "print(\"GA_f1:\", f1)\n",
    "print(\"GA_recall:\", precision)\n",
    "print(\"GA_precision:\", recall)"
   ]
  },
  {
   "cell_type": "code",
   "execution_count": 76,
   "metadata": {
    "ExecuteTime": {
     "end_time": "2024-01-31T10:26:25.883539Z",
     "start_time": "2024-01-31T10:26:25.781545Z"
    }
   },
   "outputs": [
    {
     "name": "stdout",
     "output_type": "stream",
     "text": [
      "GA_f1: 0.6409312805107023\n",
      "GA_recall: 0.6709119496855346\n",
      "GA_precision: 0.6135154565061107\n"
     ]
    }
   ],
   "source": [
    "# Evaluation Tools\n",
    "precision = precision_score(y_test, GA_pred)\n",
    "recall = recall_score(y_test, GA_pred)\n",
    "f1 = f1_score(y_test, GA_pred)\n",
    "\n",
    "# Print the results\n",
    "print(\"GA_f1:\", f1)\n",
    "print(\"GA_recall:\", precision)\n",
    "print(\"GA_precision:\", recall)"
   ]
  },
  {
   "cell_type": "markdown",
   "metadata": {},
   "source": [
    "## CatBoost: Bayes optimisation"
   ]
  },
  {
   "cell_type": "code",
   "execution_count": 109,
   "metadata": {
    "ExecuteTime": {
     "end_time": "2024-01-31T11:04:24.575563Z",
     "start_time": "2024-01-31T11:02:46.161553Z"
    }
   },
   "outputs": [
    {
     "name": "stderr",
     "output_type": "stream",
     "text": [
      "Custom logger is already specified. Specify more than one logger at same time is not thread safe."
     ]
    },
    {
     "name": "stdout",
     "output_type": "stream",
     "text": [
      "0:\tlearn: 0.3883928\ttotal: 58.5ms\tremaining: 5.2s\n",
      "1:\tlearn: 0.3238352\ttotal: 120ms\tremaining: 5.3s\n",
      "2:\tlearn: 0.3040916\ttotal: 168ms\tremaining: 4.88s\n",
      "3:\tlearn: 0.2881993\ttotal: 213ms\tremaining: 4.58s\n",
      "4:\tlearn: 0.2826923\ttotal: 259ms\tremaining: 4.41s\n",
      "5:\tlearn: 0.2753667\ttotal: 308ms\tremaining: 4.31s\n",
      "6:\tlearn: 0.2696579\ttotal: 358ms\tremaining: 4.25s\n",
      "7:\tlearn: 0.2675272\ttotal: 406ms\tremaining: 4.16s\n",
      "8:\tlearn: 0.2633219\ttotal: 452ms\tremaining: 4.07s\n",
      "9:\tlearn: 0.2617105\ttotal: 502ms\tremaining: 4.02s\n",
      "10:\tlearn: 0.2612804\ttotal: 547ms\tremaining: 3.93s\n",
      "11:\tlearn: 0.2589544\ttotal: 594ms\tremaining: 3.86s\n",
      "12:\tlearn: 0.2583194\ttotal: 640ms\tremaining: 3.79s\n",
      "13:\tlearn: 0.2569040\ttotal: 691ms\tremaining: 3.75s\n",
      "14:\tlearn: 0.2555910\ttotal: 748ms\tremaining: 3.74s\n",
      "15:\tlearn: 0.2539380\ttotal: 802ms\tremaining: 3.71s\n",
      "16:\tlearn: 0.2530623\ttotal: 853ms\tremaining: 3.66s\n",
      "17:\tlearn: 0.2507506\ttotal: 910ms\tremaining: 3.64s\n",
      "18:\tlearn: 0.2466512\ttotal: 958ms\tremaining: 3.58s\n",
      "19:\tlearn: 0.2458022\ttotal: 1s\tremaining: 3.5s\n",
      "20:\tlearn: 0.2448203\ttotal: 1.05s\tremaining: 3.44s\n",
      "21:\tlearn: 0.2429449\ttotal: 1.1s\tremaining: 3.4s\n",
      "22:\tlearn: 0.2406899\ttotal: 1.15s\tremaining: 3.36s\n",
      "23:\tlearn: 0.2389367\ttotal: 1.2s\tremaining: 3.29s\n",
      "24:\tlearn: 0.2385706\ttotal: 1.24s\tremaining: 3.22s\n",
      "25:\tlearn: 0.2359926\ttotal: 1.29s\tremaining: 3.17s\n",
      "26:\tlearn: 0.2357193\ttotal: 1.34s\tremaining: 3.13s\n",
      "27:\tlearn: 0.2343181\ttotal: 1.38s\tremaining: 3.06s\n",
      "28:\tlearn: 0.2330792\ttotal: 1.43s\tremaining: 3s\n",
      "29:\tlearn: 0.2324081\ttotal: 1.48s\tremaining: 2.95s\n",
      "30:\tlearn: 0.2319857\ttotal: 1.53s\tremaining: 2.91s\n",
      "31:\tlearn: 0.2306442\ttotal: 1.57s\tremaining: 2.84s\n",
      "32:\tlearn: 0.2293987\ttotal: 1.61s\tremaining: 2.78s\n",
      "33:\tlearn: 0.2280194\ttotal: 1.66s\tremaining: 2.74s\n",
      "34:\tlearn: 0.2273811\ttotal: 1.72s\tremaining: 2.7s\n",
      "35:\tlearn: 0.2271132\ttotal: 1.76s\tremaining: 2.63s\n",
      "36:\tlearn: 0.2268598\ttotal: 1.8s\tremaining: 2.58s\n",
      "37:\tlearn: 0.2266135\ttotal: 1.85s\tremaining: 2.53s\n",
      "38:\tlearn: 0.2264397\ttotal: 1.91s\tremaining: 2.5s\n",
      "39:\tlearn: 0.2261311\ttotal: 1.95s\tremaining: 2.44s\n",
      "40:\tlearn: 0.2259536\ttotal: 2s\tremaining: 2.39s\n",
      "41:\tlearn: 0.2250716\ttotal: 2.06s\tremaining: 2.35s\n",
      "42:\tlearn: 0.2249211\ttotal: 2.13s\tremaining: 2.33s\n",
      "43:\tlearn: 0.2240400\ttotal: 2.19s\tremaining: 2.29s\n",
      "44:\tlearn: 0.2238664\ttotal: 2.23s\tremaining: 2.23s\n",
      "45:\tlearn: 0.2236880\ttotal: 2.29s\tremaining: 2.19s\n",
      "46:\tlearn: 0.2233213\ttotal: 2.33s\tremaining: 2.13s\n",
      "47:\tlearn: 0.2224635\ttotal: 2.38s\tremaining: 2.08s\n",
      "48:\tlearn: 0.2220854\ttotal: 2.43s\tremaining: 2.04s\n",
      "49:\tlearn: 0.2213961\ttotal: 2.49s\tremaining: 2s\n",
      "50:\tlearn: 0.2211224\ttotal: 2.54s\tremaining: 1.94s\n",
      "51:\tlearn: 0.2209061\ttotal: 2.6s\tremaining: 1.9s\n",
      "52:\tlearn: 0.2206646\ttotal: 2.66s\tremaining: 1.86s\n",
      "53:\tlearn: 0.2200574\ttotal: 2.72s\tremaining: 1.81s\n",
      "54:\tlearn: 0.2198755\ttotal: 2.78s\tremaining: 1.77s\n",
      "55:\tlearn: 0.2196336\ttotal: 2.83s\tremaining: 1.72s\n",
      "56:\tlearn: 0.2194628\ttotal: 2.9s\tremaining: 1.68s\n",
      "57:\tlearn: 0.2192501\ttotal: 2.94s\tremaining: 1.62s\n",
      "58:\tlearn: 0.2187167\ttotal: 3s\tremaining: 1.57s\n",
      "59:\tlearn: 0.2185547\ttotal: 3.05s\tremaining: 1.52s\n",
      "60:\tlearn: 0.2179143\ttotal: 3.11s\tremaining: 1.48s\n",
      "61:\tlearn: 0.2176774\ttotal: 3.17s\tremaining: 1.43s\n",
      "62:\tlearn: 0.2174669\ttotal: 3.22s\tremaining: 1.38s\n",
      "63:\tlearn: 0.2172198\ttotal: 3.27s\tremaining: 1.33s\n",
      "64:\tlearn: 0.2170295\ttotal: 3.35s\tremaining: 1.29s\n",
      "65:\tlearn: 0.2166083\ttotal: 3.4s\tremaining: 1.24s\n",
      "66:\tlearn: 0.2164748\ttotal: 3.45s\tremaining: 1.18s\n",
      "67:\tlearn: 0.2162610\ttotal: 3.5s\tremaining: 1.13s\n",
      "68:\tlearn: 0.2161509\ttotal: 3.54s\tremaining: 1.08s\n",
      "69:\tlearn: 0.2159963\ttotal: 3.59s\tremaining: 1.02s\n",
      "70:\tlearn: 0.2158088\ttotal: 3.63s\tremaining: 972ms\n",
      "71:\tlearn: 0.2156242\ttotal: 3.68s\tremaining: 920ms\n",
      "72:\tlearn: 0.2154020\ttotal: 3.73s\tremaining: 868ms\n",
      "73:\tlearn: 0.2147831\ttotal: 3.78s\tremaining: 817ms\n",
      "74:\tlearn: 0.2143927\ttotal: 3.83s\tremaining: 767ms\n",
      "75:\tlearn: 0.2142712\ttotal: 3.88s\tremaining: 716ms\n",
      "76:\tlearn: 0.2136922\ttotal: 3.93s\tremaining: 664ms\n",
      "77:\tlearn: 0.2136146\ttotal: 3.98s\tremaining: 613ms\n",
      "78:\tlearn: 0.2133267\ttotal: 4.04s\tremaining: 562ms\n",
      "79:\tlearn: 0.2131483\ttotal: 4.09s\tremaining: 511ms\n",
      "80:\tlearn: 0.2130062\ttotal: 4.16s\tremaining: 462ms\n",
      "81:\tlearn: 0.2128585\ttotal: 4.22s\tremaining: 411ms\n",
      "82:\tlearn: 0.2127028\ttotal: 4.27s\tremaining: 360ms\n",
      "83:\tlearn: 0.2124763\ttotal: 4.33s\tremaining: 309ms\n",
      "84:\tlearn: 0.2121330\ttotal: 4.4s\tremaining: 259ms\n",
      "85:\tlearn: 0.2120089\ttotal: 4.45s\tremaining: 207ms\n",
      "86:\tlearn: 0.2118178\ttotal: 4.5s\tremaining: 155ms\n",
      "87:\tlearn: 0.2116740\ttotal: 4.55s\tremaining: 103ms\n",
      "88:\tlearn: 0.2115236\ttotal: 4.6s\tremaining: 51.7ms\n",
      "89:\tlearn: 0.2112771\ttotal: 4.65s\tremaining: 0us\n"
     ]
    },
    {
     "data": {
      "text/plain": [
       "BayesSearchCV(cv=5,\n",
       "              estimator=<catboost.core.CatBoostClassifier object at 0x000001BCF2EB2160>,\n",
       "              n_iter=10, n_jobs=-1, scoring='accuracy',\n",
       "              search_spaces={'colsample_bylevel': Real(low=0.05, high=1.0, prior='uniform', transform='normalize'),\n",
       "                             'depth': Integer(low=3, high=9, prior='uniform', transform='normalize'),\n",
       "                             'l2_leaf_reg': Real(low=0.1, high=2.0, prior='uniform', transform='normalize'),\n",
       "                             'learning_rate': Real(low=0.01, high=1.0, prior='uniform', transform='normalize'),\n",
       "                             'min_data_in_leaf': Integer(low=1, high=100, prior='uniform', transform='normalize'),\n",
       "                             'n_estimators': array([10, 30, 50, 70, 90]),\n",
       "                             'subsample': Real(low=0.05, high=1.0, prior='uniform', transform='normalize')})"
      ]
     },
     "execution_count": 109,
     "metadata": {},
     "output_type": "execute_result"
    }
   ],
   "source": [
    "from catboost import CatBoostClassifier\n",
    "from skopt import BayesSearchCV\n",
    "from skopt.space import Real, Integer, Categorical\n",
    "from sklearn.metrics import accuracy_score, f1_score, recall_score, precision_score\n",
    "\n",
    "catboost = CatBoostClassifier()\n",
    "\n",
    "param_dist = {\n",
    "    \"depth\": Integer(3, 9),\n",
    "    \"l2_leaf_reg\": Real(0.1, 2.0),\n",
    "    \"subsample\": Real(0.05, 1.0),\n",
    "    \"colsample_bylevel\": Real(0.05, 1.0),\n",
    "    \"min_data_in_leaf\": Integer(1, 100),\n",
    "    \"learning_rate\": Real(0.01, 1.0),\n",
    "    \"n_estimators\": np.arange(10, 100, 20),  \n",
    "}\n",
    "\n",
    "bayes_search = BayesSearchCV(\n",
    "    estimator=catboost,\n",
    "    search_spaces=param_dist,\n",
    "    scoring=\"accuracy\",\n",
    "    cv=5,\n",
    "    n_jobs=-1,\n",
    "    n_iter=10,   \n",
    ")\n",
    "\n",
    "bayes_search.fit(X_train, y_train)"
   ]
  },
  {
   "cell_type": "code",
   "execution_count": 110,
   "metadata": {
    "ExecuteTime": {
     "end_time": "2024-01-31T11:04:30.192563Z",
     "start_time": "2024-01-31T11:04:24.580568Z"
    }
   },
   "outputs": [
    {
     "name": "stdout",
     "output_type": "stream",
     "text": [
      "Best Parameters for CatBoost Model are:\n",
      "\n",
      " OrderedDict([('colsample_bylevel', 0.5766424860315361), ('depth', 6), ('l2_leaf_reg', 0.7898289488717465), ('learning_rate', 0.9437594435060811), ('min_data_in_leaf', 26), ('n_estimators', 90), ('subsample', 0.7624977451268609)])\n",
      "0:\tlearn: 0.3883928\ttotal: 68.3ms\tremaining: 6.08s\n",
      "1:\tlearn: 0.3238352\ttotal: 147ms\tremaining: 6.48s\n",
      "2:\tlearn: 0.3040916\ttotal: 227ms\tremaining: 6.6s\n",
      "3:\tlearn: 0.2881993\ttotal: 288ms\tremaining: 6.19s\n",
      "4:\tlearn: 0.2826923\ttotal: 343ms\tremaining: 5.83s\n",
      "5:\tlearn: 0.2753667\ttotal: 408ms\tremaining: 5.71s\n",
      "6:\tlearn: 0.2696579\ttotal: 466ms\tremaining: 5.53s\n",
      "7:\tlearn: 0.2675272\ttotal: 532ms\tremaining: 5.45s\n",
      "8:\tlearn: 0.2633219\ttotal: 598ms\tremaining: 5.38s\n",
      "9:\tlearn: 0.2617105\ttotal: 648ms\tremaining: 5.18s\n",
      "10:\tlearn: 0.2612804\ttotal: 689ms\tremaining: 4.95s\n",
      "11:\tlearn: 0.2589544\ttotal: 740ms\tremaining: 4.81s\n",
      "12:\tlearn: 0.2583194\ttotal: 831ms\tremaining: 4.92s\n",
      "13:\tlearn: 0.2569040\ttotal: 900ms\tremaining: 4.88s\n",
      "14:\tlearn: 0.2555910\ttotal: 968ms\tremaining: 4.84s\n",
      "15:\tlearn: 0.2539380\ttotal: 1.03s\tremaining: 4.75s\n",
      "16:\tlearn: 0.2530623\ttotal: 1.08s\tremaining: 4.63s\n",
      "17:\tlearn: 0.2507506\ttotal: 1.13s\tremaining: 4.52s\n",
      "18:\tlearn: 0.2466512\ttotal: 1.18s\tremaining: 4.42s\n",
      "19:\tlearn: 0.2458022\ttotal: 1.24s\tremaining: 4.33s\n",
      "20:\tlearn: 0.2448203\ttotal: 1.31s\tremaining: 4.29s\n",
      "21:\tlearn: 0.2429449\ttotal: 1.37s\tremaining: 4.22s\n",
      "22:\tlearn: 0.2406899\ttotal: 1.42s\tremaining: 4.13s\n",
      "23:\tlearn: 0.2389367\ttotal: 1.47s\tremaining: 4.05s\n",
      "24:\tlearn: 0.2385706\ttotal: 1.53s\tremaining: 3.98s\n",
      "25:\tlearn: 0.2359926\ttotal: 1.59s\tremaining: 3.91s\n",
      "26:\tlearn: 0.2357193\ttotal: 1.64s\tremaining: 3.83s\n",
      "27:\tlearn: 0.2343181\ttotal: 1.69s\tremaining: 3.74s\n",
      "28:\tlearn: 0.2330792\ttotal: 1.73s\tremaining: 3.65s\n",
      "29:\tlearn: 0.2324081\ttotal: 1.78s\tremaining: 3.57s\n",
      "30:\tlearn: 0.2319857\ttotal: 1.83s\tremaining: 3.49s\n",
      "31:\tlearn: 0.2306442\ttotal: 1.88s\tremaining: 3.41s\n",
      "32:\tlearn: 0.2293987\ttotal: 1.93s\tremaining: 3.34s\n",
      "33:\tlearn: 0.2280194\ttotal: 1.99s\tremaining: 3.27s\n",
      "34:\tlearn: 0.2273811\ttotal: 2.04s\tremaining: 3.2s\n",
      "35:\tlearn: 0.2271132\ttotal: 2.09s\tremaining: 3.14s\n",
      "36:\tlearn: 0.2268598\ttotal: 2.14s\tremaining: 3.07s\n",
      "37:\tlearn: 0.2266135\ttotal: 2.23s\tremaining: 3.06s\n",
      "38:\tlearn: 0.2264397\ttotal: 2.28s\tremaining: 2.99s\n",
      "39:\tlearn: 0.2261311\ttotal: 2.33s\tremaining: 2.91s\n",
      "40:\tlearn: 0.2259536\ttotal: 2.38s\tremaining: 2.84s\n",
      "41:\tlearn: 0.2250716\ttotal: 2.53s\tremaining: 2.89s\n",
      "42:\tlearn: 0.2249211\ttotal: 2.66s\tremaining: 2.91s\n",
      "43:\tlearn: 0.2240400\ttotal: 2.71s\tremaining: 2.83s\n",
      "44:\tlearn: 0.2238664\ttotal: 2.76s\tremaining: 2.76s\n",
      "45:\tlearn: 0.2236880\ttotal: 2.83s\tremaining: 2.7s\n",
      "46:\tlearn: 0.2233213\ttotal: 2.88s\tremaining: 2.63s\n",
      "47:\tlearn: 0.2224635\ttotal: 2.93s\tremaining: 2.56s\n",
      "48:\tlearn: 0.2220854\ttotal: 2.98s\tremaining: 2.49s\n",
      "49:\tlearn: 0.2213961\ttotal: 3.05s\tremaining: 2.44s\n",
      "50:\tlearn: 0.2211224\ttotal: 3.1s\tremaining: 2.37s\n",
      "51:\tlearn: 0.2209061\ttotal: 3.15s\tremaining: 2.3s\n",
      "52:\tlearn: 0.2206646\ttotal: 3.21s\tremaining: 2.24s\n",
      "53:\tlearn: 0.2200574\ttotal: 3.27s\tremaining: 2.18s\n",
      "54:\tlearn: 0.2198755\ttotal: 3.33s\tremaining: 2.12s\n",
      "55:\tlearn: 0.2196336\ttotal: 3.4s\tremaining: 2.06s\n",
      "56:\tlearn: 0.2194628\ttotal: 3.45s\tremaining: 2s\n",
      "57:\tlearn: 0.2192501\ttotal: 3.51s\tremaining: 1.93s\n",
      "58:\tlearn: 0.2187167\ttotal: 3.58s\tremaining: 1.88s\n",
      "59:\tlearn: 0.2185547\ttotal: 3.64s\tremaining: 1.82s\n",
      "60:\tlearn: 0.2179143\ttotal: 3.68s\tremaining: 1.75s\n",
      "61:\tlearn: 0.2176774\ttotal: 3.72s\tremaining: 1.68s\n",
      "62:\tlearn: 0.2174669\ttotal: 3.77s\tremaining: 1.62s\n",
      "63:\tlearn: 0.2172198\ttotal: 3.83s\tremaining: 1.55s\n",
      "64:\tlearn: 0.2170295\ttotal: 3.87s\tremaining: 1.49s\n",
      "65:\tlearn: 0.2166083\ttotal: 3.92s\tremaining: 1.43s\n",
      "66:\tlearn: 0.2164748\ttotal: 3.97s\tremaining: 1.36s\n",
      "67:\tlearn: 0.2162610\ttotal: 4.03s\tremaining: 1.3s\n",
      "68:\tlearn: 0.2161509\ttotal: 4.08s\tremaining: 1.24s\n",
      "69:\tlearn: 0.2159963\ttotal: 4.13s\tremaining: 1.18s\n",
      "70:\tlearn: 0.2158088\ttotal: 4.18s\tremaining: 1.12s\n",
      "71:\tlearn: 0.2156242\ttotal: 4.24s\tremaining: 1.06s\n",
      "72:\tlearn: 0.2154020\ttotal: 4.29s\tremaining: 999ms\n",
      "73:\tlearn: 0.2147831\ttotal: 4.34s\tremaining: 938ms\n",
      "74:\tlearn: 0.2143927\ttotal: 4.39s\tremaining: 878ms\n",
      "75:\tlearn: 0.2142712\ttotal: 4.44s\tremaining: 818ms\n",
      "76:\tlearn: 0.2136922\ttotal: 4.48s\tremaining: 757ms\n",
      "77:\tlearn: 0.2136146\ttotal: 4.52s\tremaining: 695ms\n",
      "78:\tlearn: 0.2133267\ttotal: 4.57s\tremaining: 637ms\n",
      "79:\tlearn: 0.2131483\ttotal: 4.63s\tremaining: 578ms\n",
      "80:\tlearn: 0.2130062\ttotal: 4.67s\tremaining: 519ms\n",
      "81:\tlearn: 0.2128585\ttotal: 4.71s\tremaining: 459ms\n",
      "82:\tlearn: 0.2127028\ttotal: 4.76s\tremaining: 401ms\n",
      "83:\tlearn: 0.2124763\ttotal: 4.81s\tremaining: 344ms\n",
      "84:\tlearn: 0.2121330\ttotal: 4.86s\tremaining: 286ms\n",
      "85:\tlearn: 0.2120089\ttotal: 4.92s\tremaining: 229ms\n",
      "86:\tlearn: 0.2118178\ttotal: 4.97s\tremaining: 171ms\n",
      "87:\tlearn: 0.2116740\ttotal: 5.02s\tremaining: 114ms\n",
      "88:\tlearn: 0.2115236\ttotal: 5.07s\tremaining: 57ms\n",
      "89:\tlearn: 0.2112771\ttotal: 5.13s\tremaining: 0us\n"
     ]
    },
    {
     "data": {
      "text/plain": [
       "<catboost.core.CatBoostClassifier at 0x1bcf3946080>"
      ]
     },
     "execution_count": 110,
     "metadata": {},
     "output_type": "execute_result"
    }
   ],
   "source": [
    "best_parameters = bayes_search.best_params_\n",
    "print(\"Best Parameters for CatBoost Model are:\\n\\n\", best_parameters)\n",
    "\n",
    "catboost = CatBoostClassifier(**best_parameters)\n",
    "catboost.fit(X_train, y_train)"
   ]
  },
  {
   "cell_type": "code",
   "execution_count": 113,
   "metadata": {
    "ExecuteTime": {
     "end_time": "2024-01-31T11:04:30.615173Z",
     "start_time": "2024-01-31T11:04:30.605177Z"
    }
   },
   "outputs": [
    {
     "name": "stdout",
     "output_type": "stream",
     "text": [
      "Best Parameters for CatBoost Model:\n",
      "\n",
      " OrderedDict([('colsample_bylevel', 0.5766424860315361), ('depth', 6), ('l2_leaf_reg', 0.7898289488717465), ('learning_rate', 0.9437594435060811), ('min_data_in_leaf', 26), ('n_estimators', 90), ('subsample', 0.7624977451268609)])\n"
     ]
    }
   ],
   "source": [
    "best_parameters = bayes_search.best_params_\n",
    "print(\"Best Parameters for CatBoost Model:\\n\\n\", best_parameters)"
   ]
  },
  {
   "cell_type": "code",
   "execution_count": 111,
   "metadata": {
    "ExecuteTime": {
     "end_time": "2024-01-31T11:04:30.473161Z",
     "start_time": "2024-01-31T11:04:30.199562Z"
    }
   },
   "outputs": [
    {
     "name": "stdout",
     "output_type": "stream",
     "text": [
      "Accuracy Score on Training Data:  91.3 %\n",
      "Accuracy Score on Testing Data:  86.03 %\n"
     ]
    }
   ],
   "source": [
    "y_train_pred = catboost.predict(X_train)\n",
    "y_test_pred = catboost.predict(X_test)\n",
    "\n",
    "print(\"Accuracy Score on Training Data: \", round(accuracy_score(y_train, y_train_pred) * 100, 2), \"%\")\n",
    "print(\"Accuracy Score on Testing Data: \", round(accuracy_score(y_test, y_test_pred) * 100, 2), \"%\")"
   ]
  },
  {
   "cell_type": "code",
   "execution_count": 112,
   "metadata": {
    "ExecuteTime": {
     "end_time": "2024-01-31T11:04:30.599160Z",
     "start_time": "2024-01-31T11:04:30.478160Z"
    }
   },
   "outputs": [
    {
     "name": "stdout",
     "output_type": "stream",
     "text": [
      "F1 Score:  0.8602720635016815\n",
      "Recall Score:  0.8602720635016815\n",
      "Precision Score:  0.8602720635016815\n"
     ]
    }
   ],
   "source": [
    "print(\"F1 Score: \", f1_score(y_test, y_test_pred, average=\"micro\"))\n",
    "print(\"Recall Score: \", recall_score(y_test, y_test_pred, average=\"micro\"))\n",
    "print(\"Precision Score: \", precision_score(y_test, y_test_pred, average=\"micro\"))"
   ]
  },
  {
   "cell_type": "markdown",
   "metadata": {},
   "source": [
    "## CatBoost: GA optimisation"
   ]
  },
  {
   "cell_type": "code",
   "execution_count": 82,
   "metadata": {
    "ExecuteTime": {
     "end_time": "2024-01-31T10:28:10.290686Z",
     "start_time": "2024-01-31T10:28:10.265686Z"
    }
   },
   "outputs": [],
   "source": [
    "def evaluate_GA(idx, x_train, y_train, x_test, y_test):\n",
    "    n_estimators = max(int(idx[0]), 1)  # n_estimators is positive\n",
    "    learning_rate = max(min(idx[1], 1.0), 0.01)  # learning_rate is between 0.01 and 1.0\n",
    "    max_depth = int(idx[2])\n",
    "    l2_leaf_reg = max(idx[3], 0.0)  # l2_leaf_reg is non-negative\n",
    "\n",
    "    # Create the optimized model with the hyperparameters\n",
    "    model = CatBoostClassifier(\n",
    "        n_estimators=n_estimators,\n",
    "        learning_rate=learning_rate,\n",
    "        max_depth=max_depth,\n",
    "        l2_leaf_reg=l2_leaf_reg,\n",
    "        eval_metric='Accuracy',\n",
    "        random_state=42,\n",
    "        verbose=False\n",
    "    )\n",
    "\n",
    "    # Fit the optimized model on the training data\n",
    "    model.fit(x_train, y_train)\n",
    "\n",
    "    # Make predictions using the optimized model on the test data\n",
    "    GA_pred = model.predict(x_test)\n",
    "\n",
    "    # Evaluate the model\n",
    "    GA_accuracy = accuracy_score(y_test, GA_pred)\n",
    "    GA_f1 = f1_score(y_test, GA_pred, average=\"micro\")\n",
    "    GA_recall = recall_score(y_test, GA_pred, average=\"micro\")\n",
    "    GA_precision = precision_score(y_test, GA_pred, average=\"micro\", zero_division=1)\n",
    "\n",
    "    return round(GA_accuracy, 2), round(GA_f1, 2), round(GA_recall, 2), round(GA_precision, 2)"
   ]
  },
  {
   "cell_type": "code",
   "execution_count": 83,
   "metadata": {
    "ExecuteTime": {
     "end_time": "2024-01-31T10:28:10.336685Z",
     "start_time": "2024-01-31T10:28:10.294686Z"
    }
   },
   "outputs": [],
   "source": [
    "def optimize_GA(x_train, y_train, x_test, y_test):\n",
    "    # Genetic Algorithm optimization using DEAP\n",
    "    creator.create(\"FitnessMax\", base.Fitness, weights=(1.0, 1.0, 1.0, 1.0))\n",
    "    creator.create(\"Individual\", list, fitness=creator.FitnessMax)\n",
    "    toolbox = base.Toolbox()\n",
    "    toolbox.register(\"attr_float\", np.random.uniform, 0.01, 1.0)\n",
    "    toolbox.register(\"individual\", tools.initRepeat, creator.Individual, toolbox.attr_float, n=4)\n",
    "    toolbox.register(\"population\", tools.initRepeat, list, toolbox.individual)\n",
    "    toolbox.register(\"mate\", tools.cxTwoPoint)\n",
    "    toolbox.register(\"mutate\", tools.mutUniformInt, low=1, up=10, indpb=0.2)\n",
    "    toolbox.register(\"select\", tools.selTournament, tournsize=3)\n",
    "    toolbox.register(\"evaluate\", evaluate_GA, x_train=x_train, y_train=y_train, x_test=x_test, y_test=y_test)\n",
    "\n",
    "    # Create the initial population\n",
    "    population = toolbox.population(n=100)\n",
    "\n",
    "    # Initialize a list to store the best fitness values over generations\n",
    "    accuracy_values = []\n",
    "    f1_values = []\n",
    "    recall_values = []\n",
    "    precision_values = []\n",
    "    best_model = None\n",
    "    best_accuracy = 0.0\n",
    "\n",
    "    for gen in range(1, 21):  # Replace 21 with the number of generations you want to run\n",
    "        population = algorithms.varAnd(population, toolbox, cxpb=0.5, mutpb=0.2)\n",
    "        fitness_values = list(map(toolbox.evaluate, population))\n",
    "        for ind, fit in zip(population, fitness_values):\n",
    "            ind.fitness.values = fit\n",
    "        best_idx = tools.selBest(population, k=1)[0]\n",
    "\n",
    "        # Calculate the evaluation metrics for the best individual\n",
    "        accuracy, f1, recall, precision = evaluate_GA(best_idx, x_train, y_train, x_test, y_test)\n",
    "        accuracy_values.append(accuracy)\n",
    "        f1_values.append(f1)\n",
    "        recall_values.append(recall)\n",
    "        precision_values.append(precision)\n",
    "\n",
    "        # Store the best model if its accuracy is higher than the current best\n",
    "        if accuracy > best_accuracy:\n",
    "            best_accuracy = accuracy\n",
    "            best_model = CatBoostClassifier(\n",
    "                n_estimators=int(best_idx[0]),\n",
    "                learning_rate=best_idx[1],\n",
    "                max_depth=int(best_idx[2]),\n",
    "                l2_leaf_reg=best_idx[3],  # Add l2_leaf_reg hyperparameter for CatBoost\n",
    "                random_state=42,\n",
    "                verbose=False)\n",
    "\n",
    "        # Print the best fitness value for each generation\n",
    "        print(f\"Generation {gen}, Accuracy: {accuracy}, F1 Score: {f1}, Recall: {recall}, Precision: {precision}\")\n",
    "\n",
    "    # Plot the progress of optimization over generations\n",
    "    gen = range(1, 21)\n",
    "    plt.plot(gen, accuracy_values, label='Accuracy')\n",
    "    plt.plot(gen, f1_values, label='F1 Score')\n",
    "    plt.plot(gen, recall_values, label='Recall')\n",
    "    plt.plot(gen, precision_values, label='Precision')\n",
    "    plt.title(\"Genetic Algorithm Optimization Progress\")\n",
    "    plt.xlabel(\"Generation\")\n",
    "    plt.ylabel(\"Performance Metric\")\n",
    "    plt.legend()\n",
    "    plt.show()\n",
    "\n",
    "    return best_model"
   ]
  },
  {
   "cell_type": "code",
   "execution_count": 1,
   "metadata": {
    "ExecuteTime": {
     "end_time": "2024-02-05T09:59:18.748562Z",
     "start_time": "2024-02-05T09:59:18.732561Z"
    }
   },
   "outputs": [],
   "source": [
    "# optimize_GA function running\n",
    "best_GAmodel = optimize_GA(X_train, y_train, X_test, y_test)\n",
    "best_GAmodel"
   ]
  },
  {
   "cell_type": "code",
   "execution_count": null,
   "metadata": {
    "ExecuteTime": {
     "end_time": "2024-01-31T10:31:05.930813Z",
     "start_time": "2024-01-31T10:01:36.952Z"
    }
   },
   "outputs": [],
   "source": [
    "# Use the best model\n",
    "best_GAmodel.fit(X_train, y_train)\n",
    "train_GA_pred = best_GAmodel.predict(X_train)\n",
    "GA_pred = best_GAmodel.predict(X_test)"
   ]
  },
  {
   "cell_type": "code",
   "execution_count": null,
   "metadata": {
    "ExecuteTime": {
     "end_time": "2024-01-31T10:31:05.932812Z",
     "start_time": "2024-01-31T10:01:36.957Z"
    }
   },
   "outputs": [],
   "source": [
    "print(\"Accuracy Score on Training Data: \",round(accuracy_score(y_train,train_GA_pred)*100,2),\"%\")\n",
    "print(\"Accuracy Score on Testing Data: \",round(accuracy_score(y_test, GA_pred)*100,2),\"%\")"
   ]
  },
  {
   "cell_type": "code",
   "execution_count": null,
   "metadata": {
    "ExecuteTime": {
     "end_time": "2024-01-31T10:31:05.934813Z",
     "start_time": "2024-01-31T10:01:36.962Z"
    }
   },
   "outputs": [],
   "source": [
    "# Evaluation Tools\n",
    "precision = precision_score(y_test, GA_pred)\n",
    "recall = recall_score(y_test, GA_pred)\n",
    "f1 = f1_score(y_test, GA_pred)\n",
    "\n",
    "# Print the results\n",
    "print(\"GA_f1:\", f1)\n",
    "print(\"GA_recall:\", precision)\n",
    "print(\"GA_precision:\", recall)"
   ]
  },
  {
   "cell_type": "markdown",
   "metadata": {},
   "source": [
    "## ROC curve with a selected best model"
   ]
  },
  {
   "cell_type": "code",
   "execution_count": 107,
   "metadata": {
    "ExecuteTime": {
     "end_time": "2024-01-31T10:54:32.465342Z",
     "start_time": "2024-01-31T10:54:32.442353Z"
    }
   },
   "outputs": [],
   "source": [
    "def plot_roc_curve(y_actual, y_proba):\n",
    "    # calculate ROC curve\n",
    "    fpr, tpr, thresholds = roc_curve(y_actual, y_proba)\n",
    "    # calculate AUC \n",
    "    roc_auc = auc(fpr, tpr)\n",
    "\n",
    "    plt.figure()\n",
    "    plt.plot(fpr, tpr, color='tomato', lw=2, label=f'ROC curve (AUC = {roc_auc:.2f})')\n",
    "    plt.plot([0, 1], [0, 1], color='navy', lw=2, linestyle='--')\n",
    "    plt.xlim([0.0, 1.0])\n",
    "    plt.ylim([0.0, 1.05])\n",
    "    plt.xlabel('False Positive Rate')\n",
    "    plt.ylabel('True Positive Rate')\n",
    "    plt.title('ROC(Receiver Operating Characteristic Curve')\n",
    "    plt.legend(loc=\"lower right\")\n",
    "    plt.show()"
   ]
  },
  {
   "cell_type": "code",
   "execution_count": 108,
   "metadata": {
    "ExecuteTime": {
     "end_time": "2024-01-31T10:54:35.088751Z",
     "start_time": "2024-01-31T10:54:34.665712Z"
    }
   },
   "outputs": [
    {
     "data": {
      "image/png": "[encoded data removed]",
      "text/plain": [
       "<Figure size 432x288 with 1 Axes>"
      ]
     },
     "metadata": {
      "needs_background": "light"
     },
     "output_type": "display_data"
    }
   ],
   "source": [
    "y_proba = xgb.predict_proba(X_test)[:, 1]\n",
    "\n",
    "# Draw a roc curve\n",
    "plot_roc_curve(y_test, y_proba)"
   ]
  },
  {
   "cell_type": "markdown",
   "metadata": {},
   "source": [
    "# Prediction of 'Exited' values on Test data"
   ]
  },
  {
   "cell_type": "markdown",
   "metadata": {},
   "source": [
    "## Prediction on testing data"
   ]
  },
  {
   "cell_type": "code",
   "execution_count": 224,
   "metadata": {
    "ExecuteTime": {
     "end_time": "2024-01-31T13:07:33.684544Z",
     "start_time": "2024-01-31T13:07:33.639499Z"
    }
   },
   "outputs": [
    {
     "data": {
      "text/html": [
       "<div>\n",
       "<style scoped>\n",
       "    .dataframe tbody tr th:only-of-type {\n",
       "        vertical-align: middle;\n",
       "    }\n",
       "\n",
       "    .dataframe tbody tr th {\n",
       "        vertical-align: top;\n",
       "    }\n",
       "\n",
       "    .dataframe thead th {\n",
       "        text-align: right;\n",
       "    }\n",
       "</style>\n",
       "<table border=\"1\" class=\"dataframe\">\n",
       "  <thead>\n",
       "    <tr style=\"text-align: right;\">\n",
       "      <th></th>\n",
       "      <th>CustomerId</th>\n",
       "      <th>CreditScore</th>\n",
       "      <th>Geography</th>\n",
       "      <th>Gender</th>\n",
       "      <th>Age</th>\n",
       "      <th>Tenure</th>\n",
       "      <th>NumOfProducts</th>\n",
       "      <th>HasCrCard</th>\n",
       "      <th>IsActiveMember</th>\n",
       "      <th>EstimatedSalary</th>\n",
       "      <th>Balance_label_encoded</th>\n",
       "    </tr>\n",
       "  </thead>\n",
       "  <tbody>\n",
       "    <tr>\n",
       "      <th>0</th>\n",
       "      <td>157738981</td>\n",
       "      <td>586</td>\n",
       "      <td>0</td>\n",
       "      <td>0</td>\n",
       "      <td>3.135494</td>\n",
       "      <td>2</td>\n",
       "      <td>2</td>\n",
       "      <td>0.0</td>\n",
       "      <td>1.0</td>\n",
       "      <td>160976.75</td>\n",
       "      <td>0</td>\n",
       "    </tr>\n",
       "    <tr>\n",
       "      <th>1</th>\n",
       "      <td>157824181</td>\n",
       "      <td>683</td>\n",
       "      <td>0</td>\n",
       "      <td>0</td>\n",
       "      <td>3.828641</td>\n",
       "      <td>2</td>\n",
       "      <td>1</td>\n",
       "      <td>1.0</td>\n",
       "      <td>0.0</td>\n",
       "      <td>72549.27</td>\n",
       "      <td>0</td>\n",
       "    </tr>\n",
       "    <tr>\n",
       "      <th>2</th>\n",
       "      <td>158071201</td>\n",
       "      <td>656</td>\n",
       "      <td>0</td>\n",
       "      <td>0</td>\n",
       "      <td>3.526361</td>\n",
       "      <td>7</td>\n",
       "      <td>2</td>\n",
       "      <td>1.0</td>\n",
       "      <td>0.0</td>\n",
       "      <td>138882.09</td>\n",
       "      <td>0</td>\n",
       "    </tr>\n",
       "    <tr>\n",
       "      <th>3</th>\n",
       "      <td>158089051</td>\n",
       "      <td>681</td>\n",
       "      <td>0</td>\n",
       "      <td>1</td>\n",
       "      <td>3.583519</td>\n",
       "      <td>8</td>\n",
       "      <td>1</td>\n",
       "      <td>1.0</td>\n",
       "      <td>0.0</td>\n",
       "      <td>113931.57</td>\n",
       "      <td>0</td>\n",
       "    </tr>\n",
       "    <tr>\n",
       "      <th>4</th>\n",
       "      <td>156073141</td>\n",
       "      <td>752</td>\n",
       "      <td>1</td>\n",
       "      <td>1</td>\n",
       "      <td>3.637586</td>\n",
       "      <td>10</td>\n",
       "      <td>1</td>\n",
       "      <td>1.0</td>\n",
       "      <td>0.0</td>\n",
       "      <td>139431.00</td>\n",
       "      <td>3</td>\n",
       "    </tr>\n",
       "    <tr>\n",
       "      <th>...</th>\n",
       "      <td>...</td>\n",
       "      <td>...</td>\n",
       "      <td>...</td>\n",
       "      <td>...</td>\n",
       "      <td>...</td>\n",
       "      <td>...</td>\n",
       "      <td>...</td>\n",
       "      <td>...</td>\n",
       "      <td>...</td>\n",
       "      <td>...</td>\n",
       "      <td>...</td>\n",
       "    </tr>\n",
       "    <tr>\n",
       "      <th>110018</th>\n",
       "      <td>1566209133</td>\n",
       "      <td>570</td>\n",
       "      <td>2</td>\n",
       "      <td>1</td>\n",
       "      <td>3.367296</td>\n",
       "      <td>7</td>\n",
       "      <td>1</td>\n",
       "      <td>1.0</td>\n",
       "      <td>1.0</td>\n",
       "      <td>148087.62</td>\n",
       "      <td>3</td>\n",
       "    </tr>\n",
       "    <tr>\n",
       "      <th>110019</th>\n",
       "      <td>157741334</td>\n",
       "      <td>575</td>\n",
       "      <td>0</td>\n",
       "      <td>0</td>\n",
       "      <td>3.583519</td>\n",
       "      <td>4</td>\n",
       "      <td>1</td>\n",
       "      <td>1.0</td>\n",
       "      <td>1.0</td>\n",
       "      <td>42181.68</td>\n",
       "      <td>4</td>\n",
       "    </tr>\n",
       "    <tr>\n",
       "      <th>110020</th>\n",
       "      <td>1572845612</td>\n",
       "      <td>712</td>\n",
       "      <td>0</td>\n",
       "      <td>1</td>\n",
       "      <td>3.433987</td>\n",
       "      <td>2</td>\n",
       "      <td>2</td>\n",
       "      <td>1.0</td>\n",
       "      <td>0.0</td>\n",
       "      <td>16287.38</td>\n",
       "      <td>0</td>\n",
       "    </tr>\n",
       "    <tr>\n",
       "      <th>110021</th>\n",
       "      <td>156875411</td>\n",
       "      <td>709</td>\n",
       "      <td>0</td>\n",
       "      <td>0</td>\n",
       "      <td>3.465736</td>\n",
       "      <td>3</td>\n",
       "      <td>1</td>\n",
       "      <td>1.0</td>\n",
       "      <td>1.0</td>\n",
       "      <td>158816.58</td>\n",
       "      <td>0</td>\n",
       "    </tr>\n",
       "    <tr>\n",
       "      <th>110022</th>\n",
       "      <td>1566394216</td>\n",
       "      <td>621</td>\n",
       "      <td>0</td>\n",
       "      <td>0</td>\n",
       "      <td>3.610918</td>\n",
       "      <td>7</td>\n",
       "      <td>1</td>\n",
       "      <td>1.0</td>\n",
       "      <td>0.0</td>\n",
       "      <td>24210.56</td>\n",
       "      <td>2</td>\n",
       "    </tr>\n",
       "  </tbody>\n",
       "</table>\n",
       "<p>110023 rows × 11 columns</p>\n",
       "</div>"
      ],
      "text/plain": [
       "        CustomerId  CreditScore  Geography  Gender       Age  Tenure  \\\n",
       "0        157738981          586          0       0  3.135494       2   \n",
       "1        157824181          683          0       0  3.828641       2   \n",
       "2        158071201          656          0       0  3.526361       7   \n",
       "3        158089051          681          0       1  3.583519       8   \n",
       "4        156073141          752          1       1  3.637586      10   \n",
       "...            ...          ...        ...     ...       ...     ...   \n",
       "110018  1566209133          570          2       1  3.367296       7   \n",
       "110019   157741334          575          0       0  3.583519       4   \n",
       "110020  1572845612          712          0       1  3.433987       2   \n",
       "110021   156875411          709          0       0  3.465736       3   \n",
       "110022  1566394216          621          0       0  3.610918       7   \n",
       "\n",
       "        NumOfProducts  HasCrCard  IsActiveMember  EstimatedSalary  \\\n",
       "0                   2        0.0             1.0        160976.75   \n",
       "1                   1        1.0             0.0         72549.27   \n",
       "2                   2        1.0             0.0        138882.09   \n",
       "3                   1        1.0             0.0        113931.57   \n",
       "4                   1        1.0             0.0        139431.00   \n",
       "...               ...        ...             ...              ...   \n",
       "110018              1        1.0             1.0        148087.62   \n",
       "110019              1        1.0             1.0         42181.68   \n",
       "110020              2        1.0             0.0         16287.38   \n",
       "110021              1        1.0             1.0        158816.58   \n",
       "110022              1        1.0             0.0         24210.56   \n",
       "\n",
       "        Balance_label_encoded  \n",
       "0                           0  \n",
       "1                           0  \n",
       "2                           0  \n",
       "3                           0  \n",
       "4                           3  \n",
       "...                       ...  \n",
       "110018                      3  \n",
       "110019                      4  \n",
       "110020                      0  \n",
       "110021                      0  \n",
       "110022                      2  \n",
       "\n",
       "[110023 rows x 11 columns]"
      ]
     },
     "execution_count": 224,
     "metadata": {},
     "output_type": "execute_result"
    }
   ],
   "source": [
    "df_test"
   ]
  },
  {
   "cell_type": "code",
   "execution_count": 225,
   "metadata": {
    "ExecuteTime": {
     "end_time": "2024-01-31T13:07:44.926598Z",
     "start_time": "2024-01-31T13:07:44.545600Z"
    }
   },
   "outputs": [],
   "source": [
    "# Predict on testing data for probability of excited values\n",
    "predictions = xgb.predict_proba(df_test)[:, 1]"
   ]
  },
  {
   "cell_type": "code",
   "execution_count": 226,
   "metadata": {
    "ExecuteTime": {
     "end_time": "2024-01-31T13:07:48.272344Z",
     "start_time": "2024-01-31T13:07:48.253346Z"
    }
   },
   "outputs": [],
   "source": [
    "# # Round to one decimal place.\n",
    "# predictions_rounded = [round(pred, 1) for pred in predictions]"
   ]
  },
  {
   "cell_type": "markdown",
   "metadata": {},
   "source": [
    "## Model Conclusion"
   ]
  },
  {
   "cell_type": "markdown",
   "metadata": {
    "ExecuteTime": {
     "end_time": "2024-01-31T13:07:49.372394Z",
     "start_time": "2024-01-31T13:07:49.303398Z"
    }
   },
   "source": [
    "- XGBoost performed better than CatBoost\n",
    "- Bayes Optimisation found better hyperparameters than GA optimisation\n",
    "- XGBoost with Bayes Optimisation performed better than other combinations."
   ]
  },
  {
   "cell_type": "code",
   "execution_count": null,
   "metadata": {},
   "outputs": [],
   "source": []
  }
 ],
 "metadata": {
  "kernelspec": {
   "display_name": "Python 3",
   "language": "python",
   "name": "python3"
  },
  "language_info": {
   "codemirror_mode": {
    "name": "ipython",
    "version": 3
   },
   "file_extension": ".py",
   "mimetype": "text/x-python",
   "name": "python",
   "nbconvert_exporter": "python",
   "pygments_lexer": "ipython3",
   "version": "3.7.3"
  },
  "toc": {
   "base_numbering": 1,
   "nav_menu": {},
   "number_sections": true,
   "sideBar": true,
   "skip_h1_title": false,
   "title_cell": "Table of Contents",
   "title_sidebar": "Contents",
   "toc_cell": false,
   "toc_position": {
    "height": "calc(100% - 180px)",
    "left": "10px",
    "top": "150px",
    "width": "284.433px"
   },
   "toc_section_display": true,
   "toc_window_display": true
  }
 },
 "nbformat": 4,
 "nbformat_minor": 2
}
